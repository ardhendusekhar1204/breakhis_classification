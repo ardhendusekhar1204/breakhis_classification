{
 "cells": [
  {
   "cell_type": "code",
   "execution_count": 2,
   "id": "dd2c5a0a",
   "metadata": {},
   "outputs": [
    {
     "name": "stderr",
     "output_type": "stream",
     "text": [
      "2023-04-14 21:01:27.157553: I tensorflow/core/platform/cpu_feature_guard.cc:193] This TensorFlow binary is optimized with oneAPI Deep Neural Network Library (oneDNN) to use the following CPU instructions in performance-critical operations:  AVX2 FMA\n",
      "To enable them in other operations, rebuild TensorFlow with the appropriate compiler flags.\n",
      "2023-04-14 21:01:27.668753: W tensorflow/compiler/xla/stream_executor/platform/default/dso_loader.cc:64] Could not load dynamic library 'libnvinfer.so.7'; dlerror: libnvinfer.so.7: cannot open shared object file: No such file or directory\n",
      "2023-04-14 21:01:27.668805: W tensorflow/compiler/xla/stream_executor/platform/default/dso_loader.cc:64] Could not load dynamic library 'libnvinfer_plugin.so.7'; dlerror: libnvinfer_plugin.so.7: cannot open shared object file: No such file or directory\n",
      "2023-04-14 21:01:27.668810: W tensorflow/compiler/tf2tensorrt/utils/py_utils.cc:38] TF-TRT Warning: Cannot dlopen some TensorRT libraries. If you would like to use Nvidia GPU with TensorRT, please make sure the missing libraries mentioned above are installed properly.\n"
     ]
    }
   ],
   "source": [
    "import os\n",
    "import torch\n",
    "import torch.nn as nn\n",
    "import pytorch_lightning as pl\n",
    "import torchvision\n",
    "import torchvision.transforms as transforms\n",
    "from torch.utils.data import DataLoader\n",
    "from breakhisfile import BreakhisDataset\n",
    "import torch.optim as optim\n",
    "import time\n",
    "from tqdm import tqdm\n",
    "import torch.nn as nn\n",
    "import torch.nn.functional as F\n",
    "from torch.utils.tensorboard import SummaryWriter\n",
    "writer = SummaryWriter()\n",
    "import copy"
   ]
  },
  {
   "cell_type": "code",
   "execution_count": 3,
   "id": "9b70dfd4",
   "metadata": {},
   "outputs": [],
   "source": [
    "transform = transforms.Compose([transforms.ToTensor(),transforms.Resize([700, 460])])\n",
    "\n",
    "batch_size = 32\n",
    "\n",
    "train_dataset = BreakhisDataset(path='/home/ardhendu/Desktop/breakhis_classification/data-train.csv',transforms=transform )\n",
    "val_dataset = BreakhisDataset(path='/home/ardhendu/Desktop/breakhis_classification/data-test.csv' ,transforms=transform)\n",
    "\n",
    "trainloader = DataLoader(train_dataset, batch_size=batch_size, shuffle=True, num_workers=4, pin_memory=False)\n",
    "testloader = DataLoader(val_dataset, batch_size=batch_size, shuffle=False, num_workers=4, pin_memory=False)\n",
    "\n",
    "\n",
    "device = torch.device(\"cuda:1\" if torch.cuda.is_available() else \"cpu\")"
   ]
  },
  {
   "cell_type": "code",
   "execution_count": 4,
   "id": "48a0ea0c",
   "metadata": {},
   "outputs": [],
   "source": [
    "# load the model in a new file for inference\n",
    "resnet18_new = torchvision.models.resnet18()\n",
    "#DenseNet_new = torchvision.models.densenet121()\n",
    "# note that we need to create exactly the same backbone in order to load the weights\n",
    "backbone_new = nn.Sequential(*list(resnet18_new.children())[:-1])\n",
    "ckpt = torch.load('/home/ardhendu/Desktop/model3.pth')\n",
    "#ckpt = torch.load('/home/ardhendu/Downloads/KimiaNet_Weights/weights/KimiaNetPyTorchWeights.pth')\n",
    "backbone_new.load_state_dict(ckpt['resnet18_parameters'])\n",
    "for param in backbone_new.parameters():\n",
    "    param.requires_grad = False\n",
    "#last_conv_channels = list(resnet18_new.children())[-1].in_features\n",
    "#print(last_conv_channels)"
   ]
  },
  {
   "cell_type": "code",
   "execution_count": 5,
   "id": "90e75c26",
   "metadata": {},
   "outputs": [],
   "source": [
    "#num_ftrs =resnet18_new.avgpool.in_features\n",
    "#backbone_new.fc1 = nn.Linear(1,16384)\n",
    "#backbone_new.fc2 = nn.Linear(16384,num_ftrs)\n",
    "#backbone_new.conv = nn.Conv2d(last_conv_channels, 512, 1)\n",
    "#backbone_new.avgpool1 = nn.AdaptiveAvgPool2d(1)\n",
    "backbone_new.fl = nn.Flatten()\n",
    "backbone_new.fc = nn.Linear(512,4)\n",
    "backbone_new = backbone_new.to(device)\n",
    "scaler = torch.cuda.amp.GradScaler()\n",
    "criterion = nn.CrossEntropyLoss()"
   ]
  },
  {
   "cell_type": "code",
   "execution_count": 6,
   "id": "4ee1cc9b",
   "metadata": {},
   "outputs": [],
   "source": [
    "optimizer = optim.AdamW(backbone_new.parameters(), lr=3e-4, betas=(0.9, 0.999), eps=1e-08, weight_decay=0.01, amsgrad=False)"
   ]
  },
  {
   "cell_type": "code",
   "execution_count": 7,
   "id": "305f0ef2",
   "metadata": {},
   "outputs": [
    {
     "name": "stderr",
     "output_type": "stream",
     "text": [
      "  0%|                                                    | 0/40 [00:00<?, ?it/s]/tmp/ipykernel_99291/1319659284.py:18: UserWarning: Implicit dimension choice for softmax has been deprecated. Change the call to include dim=X as an argument.\n",
      "  s_out= F.softmax(outputs)\n",
      "100%|███████████████████████████████████████████| 40/40 [00:57<00:00,  1.44s/it]\n",
      "  0%|                                                    | 0/18 [00:00<?, ?it/s]/tmp/ipykernel_99291/1319659284.py:41: UserWarning: Implicit dimension choice for softmax has been deprecated. Change the call to include dim=X as an argument.\n",
      "  s_out= F.softmax(outputs)\n",
      "100%|███████████████████████████████████████████| 18/18 [00:19<00:00,  1.10s/it]\n"
     ]
    },
    {
     "name": "stdout",
     "output_type": "stream",
     "text": [
      "Epoch : 1 - Train_loss : 1.2755 - Train_Acc: 0.4670 - Val_loss : 0.0043 - Val_Acc: 0.6703  - Time: 77.23330926895142\n",
      "\n"
     ]
    },
    {
     "name": "stderr",
     "output_type": "stream",
     "text": [
      "100%|███████████████████████████████████████████| 40/40 [00:05<00:00,  7.78it/s]\n",
      "100%|███████████████████████████████████████████| 18/18 [00:02<00:00,  7.23it/s]\n"
     ]
    },
    {
     "name": "stdout",
     "output_type": "stream",
     "text": [
      "Epoch : 2 - Train_loss : 1.0510 - Train_Acc: 0.6758 - Val_loss : 0.0038 - Val_Acc: 0.6777  - Time: 7.6358559131622314\n",
      "\n"
     ]
    },
    {
     "name": "stderr",
     "output_type": "stream",
     "text": [
      "100%|███████████████████████████████████████████| 40/40 [00:04<00:00,  8.22it/s]\n",
      "100%|███████████████████████████████████████████| 18/18 [00:02<00:00,  7.33it/s]\n"
     ]
    },
    {
     "name": "stdout",
     "output_type": "stream",
     "text": [
      "Epoch : 3 - Train_loss : 0.9084 - Train_Acc: 0.6766 - Val_loss : 0.0035 - Val_Acc: 0.6777  - Time: 7.328754901885986\n",
      "\n"
     ]
    },
    {
     "name": "stderr",
     "output_type": "stream",
     "text": [
      "100%|███████████████████████████████████████████| 40/40 [00:04<00:00,  8.33it/s]\n",
      "100%|███████████████████████████████████████████| 18/18 [00:02<00:00,  7.27it/s]\n"
     ]
    },
    {
     "name": "stdout",
     "output_type": "stream",
     "text": [
      "Epoch : 4 - Train_loss : 0.8214 - Train_Acc: 0.6766 - Val_loss : 0.0033 - Val_Acc: 0.6777  - Time: 7.281496524810791\n",
      "\n"
     ]
    },
    {
     "name": "stderr",
     "output_type": "stream",
     "text": [
      "100%|███████████████████████████████████████████| 40/40 [00:04<00:00,  8.37it/s]\n",
      "100%|███████████████████████████████████████████| 18/18 [00:02<00:00,  7.17it/s]\n"
     ]
    },
    {
     "name": "stdout",
     "output_type": "stream",
     "text": [
      "Epoch : 5 - Train_loss : 0.7656 - Train_Acc: 0.6766 - Val_loss : 0.0032 - Val_Acc: 0.6777  - Time: 7.2946765422821045\n",
      "\n"
     ]
    },
    {
     "name": "stderr",
     "output_type": "stream",
     "text": [
      "100%|███████████████████████████████████████████| 40/40 [00:05<00:00,  7.68it/s]\n",
      "100%|███████████████████████████████████████████| 18/18 [00:02<00:00,  7.15it/s]\n"
     ]
    },
    {
     "name": "stdout",
     "output_type": "stream",
     "text": [
      "Epoch : 6 - Train_loss : 0.7291 - Train_Acc: 0.6766 - Val_loss : 0.0031 - Val_Acc: 0.6777  - Time: 7.731648683547974\n",
      "\n"
     ]
    },
    {
     "name": "stderr",
     "output_type": "stream",
     "text": [
      "100%|███████████████████████████████████████████| 40/40 [00:04<00:00,  8.10it/s]\n",
      "100%|███████████████████████████████████████████| 18/18 [00:02<00:00,  7.09it/s]\n"
     ]
    },
    {
     "name": "stdout",
     "output_type": "stream",
     "text": [
      "Epoch : 7 - Train_loss : 0.7024 - Train_Acc: 0.6766 - Val_loss : 0.0030 - Val_Acc: 0.6777  - Time: 7.480133533477783\n",
      "\n"
     ]
    },
    {
     "name": "stderr",
     "output_type": "stream",
     "text": [
      "100%|███████████████████████████████████████████| 40/40 [00:04<00:00,  8.24it/s]\n",
      "100%|███████████████████████████████████████████| 18/18 [00:02<00:00,  7.06it/s]\n"
     ]
    },
    {
     "name": "stdout",
     "output_type": "stream",
     "text": [
      "Epoch : 8 - Train_loss : 0.6840 - Train_Acc: 0.6766 - Val_loss : 0.0030 - Val_Acc: 0.6777  - Time: 7.408395767211914\n",
      "\n"
     ]
    },
    {
     "name": "stderr",
     "output_type": "stream",
     "text": [
      "100%|███████████████████████████████████████████| 40/40 [00:05<00:00,  7.99it/s]\n",
      "100%|███████████████████████████████████████████| 18/18 [00:02<00:00,  7.07it/s]\n"
     ]
    },
    {
     "name": "stdout",
     "output_type": "stream",
     "text": [
      "Epoch : 9 - Train_loss : 0.6682 - Train_Acc: 0.6766 - Val_loss : 0.0029 - Val_Acc: 0.6777  - Time: 7.559537649154663\n",
      "\n"
     ]
    },
    {
     "name": "stderr",
     "output_type": "stream",
     "text": [
      "100%|███████████████████████████████████████████| 40/40 [00:05<00:00,  7.65it/s]\n",
      "100%|███████████████████████████████████████████| 18/18 [00:03<00:00,  5.23it/s]\n"
     ]
    },
    {
     "name": "stdout",
     "output_type": "stream",
     "text": [
      "Epoch : 10 - Train_loss : 0.6561 - Train_Acc: 0.6766 - Val_loss : 0.0029 - Val_Acc: 0.6777  - Time: 8.680547714233398\n",
      "\n"
     ]
    },
    {
     "name": "stderr",
     "output_type": "stream",
     "text": [
      "100%|███████████████████████████████████████████| 40/40 [00:06<00:00,  6.54it/s]\n",
      "100%|███████████████████████████████████████████| 18/18 [00:03<00:00,  5.49it/s]\n"
     ]
    },
    {
     "name": "stdout",
     "output_type": "stream",
     "text": [
      "Epoch : 11 - Train_loss : 0.6467 - Train_Acc: 0.6766 - Val_loss : 0.0028 - Val_Acc: 0.6795  - Time: 9.399968385696411\n",
      "\n"
     ]
    },
    {
     "name": "stderr",
     "output_type": "stream",
     "text": [
      "100%|███████████████████████████████████████████| 40/40 [00:06<00:00,  5.86it/s]\n",
      "100%|███████████████████████████████████████████| 18/18 [00:03<00:00,  5.75it/s]\n"
     ]
    },
    {
     "name": "stdout",
     "output_type": "stream",
     "text": [
      "Epoch : 12 - Train_loss : 0.6389 - Train_Acc: 0.6774 - Val_loss : 0.0028 - Val_Acc: 0.6795  - Time: 9.966222286224365\n",
      "\n"
     ]
    },
    {
     "name": "stderr",
     "output_type": "stream",
     "text": [
      "100%|███████████████████████████████████████████| 40/40 [00:06<00:00,  5.92it/s]\n",
      "100%|███████████████████████████████████████████| 18/18 [00:02<00:00,  6.03it/s]\n"
     ]
    },
    {
     "name": "stdout",
     "output_type": "stream",
     "text": [
      "Epoch : 13 - Train_loss : 0.6319 - Train_Acc: 0.6790 - Val_loss : 0.0028 - Val_Acc: 0.6813  - Time: 9.753764629364014\n",
      "\n"
     ]
    },
    {
     "name": "stderr",
     "output_type": "stream",
     "text": [
      "100%|███████████████████████████████████████████| 40/40 [00:06<00:00,  6.02it/s]\n",
      "100%|███████████████████████████████████████████| 18/18 [00:02<00:00,  6.05it/s]\n"
     ]
    },
    {
     "name": "stdout",
     "output_type": "stream",
     "text": [
      "Epoch : 14 - Train_loss : 0.6264 - Train_Acc: 0.6813 - Val_loss : 0.0027 - Val_Acc: 0.6813  - Time: 9.622722387313843\n",
      "\n"
     ]
    },
    {
     "name": "stderr",
     "output_type": "stream",
     "text": [
      "100%|███████████████████████████████████████████| 40/40 [00:06<00:00,  6.27it/s]\n",
      "100%|███████████████████████████████████████████| 18/18 [00:03<00:00,  5.16it/s]\n"
     ]
    },
    {
     "name": "stdout",
     "output_type": "stream",
     "text": [
      "Epoch : 15 - Train_loss : 0.6199 - Train_Acc: 0.6829 - Val_loss : 0.0027 - Val_Acc: 0.6868  - Time: 9.872472524642944\n",
      "\n"
     ]
    },
    {
     "name": "stderr",
     "output_type": "stream",
     "text": [
      "100%|███████████████████████████████████████████| 40/40 [00:05<00:00,  6.67it/s]\n",
      "100%|███████████████████████████████████████████| 18/18 [00:03<00:00,  4.77it/s]\n"
     ]
    },
    {
     "name": "stdout",
     "output_type": "stream",
     "text": [
      "Epoch : 16 - Train_loss : 0.6165 - Train_Acc: 0.6797 - Val_loss : 0.0027 - Val_Acc: 0.6850  - Time: 9.775863647460938\n",
      "\n"
     ]
    },
    {
     "name": "stderr",
     "output_type": "stream",
     "text": [
      "100%|███████████████████████████████████████████| 40/40 [00:06<00:00,  6.07it/s]\n",
      "100%|███████████████████████████████████████████| 18/18 [00:03<00:00,  5.56it/s]\n"
     ]
    },
    {
     "name": "stdout",
     "output_type": "stream",
     "text": [
      "Epoch : 17 - Train_loss : 0.6125 - Train_Acc: 0.6813 - Val_loss : 0.0027 - Val_Acc: 0.6905  - Time: 9.83837103843689\n",
      "\n"
     ]
    },
    {
     "name": "stderr",
     "output_type": "stream",
     "text": [
      "100%|███████████████████████████████████████████| 40/40 [00:06<00:00,  6.17it/s]\n",
      "100%|███████████████████████████████████████████| 18/18 [00:03<00:00,  5.79it/s]\n"
     ]
    },
    {
     "name": "stdout",
     "output_type": "stream",
     "text": [
      "Epoch : 18 - Train_loss : 0.6086 - Train_Acc: 0.6837 - Val_loss : 0.0027 - Val_Acc: 0.6905  - Time: 9.601316452026367\n",
      "\n"
     ]
    },
    {
     "name": "stderr",
     "output_type": "stream",
     "text": [
      "100%|███████████████████████████████████████████| 40/40 [00:06<00:00,  6.20it/s]\n",
      "100%|███████████████████████████████████████████| 18/18 [00:03<00:00,  5.34it/s]\n"
     ]
    },
    {
     "name": "stdout",
     "output_type": "stream",
     "text": [
      "Epoch : 19 - Train_loss : 0.6048 - Train_Acc: 0.6845 - Val_loss : 0.0027 - Val_Acc: 0.6886  - Time: 9.8281409740448\n",
      "\n"
     ]
    },
    {
     "name": "stderr",
     "output_type": "stream",
     "text": [
      "100%|███████████████████████████████████████████| 40/40 [00:07<00:00,  5.60it/s]\n",
      "100%|███████████████████████████████████████████| 18/18 [00:02<00:00,  6.16it/s]\n"
     ]
    },
    {
     "name": "stdout",
     "output_type": "stream",
     "text": [
      "Epoch : 20 - Train_loss : 0.6041 - Train_Acc: 0.6829 - Val_loss : 0.0026 - Val_Acc: 0.6905  - Time: 10.066699743270874\n",
      "\n"
     ]
    },
    {
     "name": "stderr",
     "output_type": "stream",
     "text": [
      "100%|███████████████████████████████████████████| 40/40 [00:06<00:00,  5.84it/s]\n",
      "100%|███████████████████████████████████████████| 18/18 [00:02<00:00,  6.11it/s]\n"
     ]
    },
    {
     "name": "stdout",
     "output_type": "stream",
     "text": [
      "Epoch : 21 - Train_loss : 0.6003 - Train_Acc: 0.6884 - Val_loss : 0.0026 - Val_Acc: 0.6941  - Time: 9.803668737411499\n",
      "\n"
     ]
    },
    {
     "name": "stderr",
     "output_type": "stream",
     "text": [
      "100%|███████████████████████████████████████████| 40/40 [00:06<00:00,  6.04it/s]\n",
      "100%|███████████████████████████████████████████| 18/18 [00:03<00:00,  5.29it/s]\n"
     ]
    },
    {
     "name": "stdout",
     "output_type": "stream",
     "text": [
      "Epoch : 22 - Train_loss : 0.5988 - Train_Acc: 0.6915 - Val_loss : 0.0026 - Val_Acc: 0.6978  - Time: 10.033902645111084\n",
      "\n"
     ]
    },
    {
     "name": "stderr",
     "output_type": "stream",
     "text": [
      "100%|███████████████████████████████████████████| 40/40 [00:06<00:00,  6.19it/s]\n",
      "100%|███████████████████████████████████████████| 18/18 [00:03<00:00,  4.90it/s]\n"
     ]
    },
    {
     "name": "stdout",
     "output_type": "stream",
     "text": [
      "Epoch : 23 - Train_loss : 0.5971 - Train_Acc: 0.6915 - Val_loss : 0.0026 - Val_Acc: 0.6978  - Time: 10.140808820724487\n",
      "\n"
     ]
    },
    {
     "name": "stderr",
     "output_type": "stream",
     "text": [
      "100%|███████████████████████████████████████████| 40/40 [00:06<00:00,  6.33it/s]\n",
      "100%|███████████████████████████████████████████| 18/18 [00:03<00:00,  4.90it/s]\n"
     ]
    },
    {
     "name": "stdout",
     "output_type": "stream",
     "text": [
      "Epoch : 24 - Train_loss : 0.5953 - Train_Acc: 0.6900 - Val_loss : 0.0026 - Val_Acc: 0.6978  - Time: 9.996571063995361\n",
      "\n"
     ]
    },
    {
     "name": "stderr",
     "output_type": "stream",
     "text": [
      "100%|███████████████████████████████████████████| 40/40 [00:06<00:00,  5.98it/s]\n",
      "100%|███████████████████████████████████████████| 18/18 [00:03<00:00,  5.44it/s]\n"
     ]
    },
    {
     "name": "stdout",
     "output_type": "stream",
     "text": [
      "Epoch : 25 - Train_loss : 0.5933 - Train_Acc: 0.6915 - Val_loss : 0.0026 - Val_Acc: 0.6996  - Time: 9.999118566513062\n",
      "\n"
     ]
    },
    {
     "name": "stderr",
     "output_type": "stream",
     "text": [
      "100%|███████████████████████████████████████████| 40/40 [00:06<00:00,  6.01it/s]\n",
      "100%|███████████████████████████████████████████| 18/18 [00:03<00:00,  5.49it/s]\n"
     ]
    },
    {
     "name": "stdout",
     "output_type": "stream",
     "text": [
      "Epoch : 26 - Train_loss : 0.5932 - Train_Acc: 0.6931 - Val_loss : 0.0026 - Val_Acc: 0.6996  - Time: 9.940927028656006\n",
      "\n"
     ]
    },
    {
     "name": "stderr",
     "output_type": "stream",
     "text": [
      "100%|███████████████████████████████████████████| 40/40 [00:06<00:00,  6.04it/s]\n",
      "100%|███████████████████████████████████████████| 18/18 [00:03<00:00,  5.48it/s]\n"
     ]
    },
    {
     "name": "stdout",
     "output_type": "stream",
     "text": [
      "Epoch : 27 - Train_loss : 0.5884 - Train_Acc: 0.6892 - Val_loss : 0.0026 - Val_Acc: 0.6978  - Time: 9.911717891693115\n",
      "\n"
     ]
    },
    {
     "name": "stderr",
     "output_type": "stream",
     "text": [
      "100%|███████████████████████████████████████████| 40/40 [00:07<00:00,  5.65it/s]\n",
      "100%|███████████████████████████████████████████| 18/18 [00:03<00:00,  5.75it/s]\n"
     ]
    },
    {
     "name": "stdout",
     "output_type": "stream",
     "text": [
      "Epoch : 28 - Train_loss : 0.5883 - Train_Acc: 0.6907 - Val_loss : 0.0026 - Val_Acc: 0.6923  - Time: 10.212036609649658\n",
      "\n"
     ]
    },
    {
     "name": "stderr",
     "output_type": "stream",
     "text": [
      "100%|███████████████████████████████████████████| 40/40 [00:07<00:00,  5.67it/s]\n",
      "100%|███████████████████████████████████████████| 18/18 [00:03<00:00,  5.65it/s]\n"
     ]
    },
    {
     "name": "stdout",
     "output_type": "stream",
     "text": [
      "Epoch : 29 - Train_loss : 0.5849 - Train_Acc: 0.6892 - Val_loss : 0.0025 - Val_Acc: 0.6886  - Time: 10.248724937438965\n",
      "\n"
     ]
    },
    {
     "name": "stderr",
     "output_type": "stream",
     "text": [
      "100%|███████████████████████████████████████████| 40/40 [00:06<00:00,  6.12it/s]\n",
      "100%|███████████████████████████████████████████| 18/18 [00:03<00:00,  5.95it/s]\n"
     ]
    },
    {
     "name": "stdout",
     "output_type": "stream",
     "text": [
      "Epoch : 30 - Train_loss : 0.5856 - Train_Acc: 0.6931 - Val_loss : 0.0026 - Val_Acc: 0.6978  - Time: 9.570324182510376\n",
      "\n"
     ]
    },
    {
     "name": "stderr",
     "output_type": "stream",
     "text": [
      "100%|███████████████████████████████████████████| 40/40 [00:06<00:00,  6.12it/s]\n",
      "100%|███████████████████████████████████████████| 18/18 [00:03<00:00,  4.90it/s]\n"
     ]
    },
    {
     "name": "stdout",
     "output_type": "stream",
     "text": [
      "Epoch : 31 - Train_loss : 0.5807 - Train_Acc: 0.6931 - Val_loss : 0.0025 - Val_Acc: 0.6886  - Time: 10.214087009429932\n",
      "\n"
     ]
    },
    {
     "name": "stderr",
     "output_type": "stream",
     "text": [
      "100%|███████████████████████████████████████████| 40/40 [00:06<00:00,  6.54it/s]\n",
      "100%|███████████████████████████████████████████| 18/18 [00:03<00:00,  4.66it/s]\n"
     ]
    },
    {
     "name": "stdout",
     "output_type": "stream",
     "text": [
      "Epoch : 32 - Train_loss : 0.5832 - Train_Acc: 0.6915 - Val_loss : 0.0025 - Val_Acc: 0.6886  - Time: 9.985731601715088\n",
      "\n"
     ]
    },
    {
     "name": "stderr",
     "output_type": "stream",
     "text": [
      "100%|███████████████████████████████████████████| 40/40 [00:06<00:00,  6.22it/s]\n",
      "100%|███████████████████████████████████████████| 18/18 [00:03<00:00,  4.96it/s]\n"
     ]
    },
    {
     "name": "stdout",
     "output_type": "stream",
     "text": [
      "Epoch : 33 - Train_loss : 0.5823 - Train_Acc: 0.6915 - Val_loss : 0.0025 - Val_Acc: 0.6850  - Time: 10.067389011383057\n",
      "\n"
     ]
    },
    {
     "name": "stderr",
     "output_type": "stream",
     "text": [
      "100%|███████████████████████████████████████████| 40/40 [00:06<00:00,  6.02it/s]\n",
      "100%|███████████████████████████████████████████| 18/18 [00:03<00:00,  5.43it/s]\n"
     ]
    },
    {
     "name": "stdout",
     "output_type": "stream",
     "text": [
      "Epoch : 34 - Train_loss : 0.5810 - Train_Acc: 0.6884 - Val_loss : 0.0025 - Val_Acc: 0.6832  - Time: 9.966835975646973\n",
      "\n"
     ]
    },
    {
     "name": "stderr",
     "output_type": "stream",
     "text": [
      "100%|███████████████████████████████████████████| 40/40 [00:06<00:00,  5.85it/s]\n",
      "100%|███████████████████████████████████████████| 18/18 [00:03<00:00,  5.26it/s]\n"
     ]
    },
    {
     "name": "stdout",
     "output_type": "stream",
     "text": [
      "Epoch : 35 - Train_loss : 0.5810 - Train_Acc: 0.6907 - Val_loss : 0.0025 - Val_Acc: 0.6813  - Time: 10.271913528442383\n",
      "\n"
     ]
    },
    {
     "name": "stderr",
     "output_type": "stream",
     "text": [
      "100%|███████████████████████████████████████████| 40/40 [00:06<00:00,  5.73it/s]\n",
      "100%|███████████████████████████████████████████| 18/18 [00:03<00:00,  5.21it/s]\n"
     ]
    },
    {
     "name": "stdout",
     "output_type": "stream",
     "text": [
      "Epoch : 36 - Train_loss : 0.5781 - Train_Acc: 0.6915 - Val_loss : 0.0025 - Val_Acc: 0.6813  - Time: 10.439050197601318\n",
      "\n"
     ]
    },
    {
     "name": "stderr",
     "output_type": "stream",
     "text": [
      "100%|███████████████████████████████████████████| 40/40 [00:07<00:00,  5.50it/s]\n",
      "100%|███████████████████████████████████████████| 18/18 [00:03<00:00,  5.61it/s]\n"
     ]
    },
    {
     "name": "stdout",
     "output_type": "stream",
     "text": [
      "Epoch : 37 - Train_loss : 0.5778 - Train_Acc: 0.6947 - Val_loss : 0.0025 - Val_Acc: 0.6886  - Time: 10.489465951919556\n",
      "\n"
     ]
    },
    {
     "name": "stderr",
     "output_type": "stream",
     "text": [
      "100%|███████████████████████████████████████████| 40/40 [00:07<00:00,  5.69it/s]\n",
      "100%|███████████████████████████████████████████| 18/18 [00:03<00:00,  5.66it/s]\n"
     ]
    },
    {
     "name": "stdout",
     "output_type": "stream",
     "text": [
      "Epoch : 38 - Train_loss : 0.5798 - Train_Acc: 0.6915 - Val_loss : 0.0025 - Val_Acc: 0.6868  - Time: 10.220516443252563\n",
      "\n"
     ]
    },
    {
     "name": "stderr",
     "output_type": "stream",
     "text": [
      "100%|███████████████████████████████████████████| 40/40 [00:07<00:00,  5.61it/s]\n",
      "100%|███████████████████████████████████████████| 18/18 [00:03<00:00,  5.05it/s]\n"
     ]
    },
    {
     "name": "stdout",
     "output_type": "stream",
     "text": [
      "Epoch : 39 - Train_loss : 0.5772 - Train_Acc: 0.6978 - Val_loss : 0.0025 - Val_Acc: 0.6886  - Time: 10.701475620269775\n",
      "\n"
     ]
    },
    {
     "name": "stderr",
     "output_type": "stream",
     "text": [
      "100%|███████████████████████████████████████████| 40/40 [00:06<00:00,  6.16it/s]\n",
      "100%|███████████████████████████████████████████| 18/18 [00:04<00:00,  4.47it/s]\n"
     ]
    },
    {
     "name": "stdout",
     "output_type": "stream",
     "text": [
      "Epoch : 40 - Train_loss : 0.5723 - Train_Acc: 0.7025 - Val_loss : 0.0025 - Val_Acc: 0.6850  - Time: 10.529762506484985\n",
      "\n"
     ]
    },
    {
     "name": "stderr",
     "output_type": "stream",
     "text": [
      "100%|███████████████████████████████████████████| 40/40 [00:06<00:00,  6.11it/s]\n",
      "100%|███████████████████████████████████████████| 18/18 [00:03<00:00,  4.82it/s]\n"
     ]
    },
    {
     "name": "stdout",
     "output_type": "stream",
     "text": [
      "Epoch : 41 - Train_loss : 0.5761 - Train_Acc: 0.6915 - Val_loss : 0.0025 - Val_Acc: 0.6886  - Time: 10.286700010299683\n",
      "\n"
     ]
    },
    {
     "name": "stderr",
     "output_type": "stream",
     "text": [
      "100%|███████████████████████████████████████████| 40/40 [00:06<00:00,  6.41it/s]\n",
      "100%|███████████████████████████████████████████| 18/18 [00:03<00:00,  5.78it/s]\n"
     ]
    },
    {
     "name": "stdout",
     "output_type": "stream",
     "text": [
      "Epoch : 42 - Train_loss : 0.5714 - Train_Acc: 0.7002 - Val_loss : 0.0025 - Val_Acc: 0.6923  - Time: 9.363157987594604\n",
      "\n"
     ]
    },
    {
     "name": "stderr",
     "output_type": "stream",
     "text": [
      "100%|███████████████████████████████████████████| 40/40 [00:06<00:00,  6.27it/s]\n",
      "100%|███████████████████████████████████████████| 18/18 [00:03<00:00,  5.48it/s]\n"
     ]
    },
    {
     "name": "stdout",
     "output_type": "stream",
     "text": [
      "Epoch : 43 - Train_loss : 0.5712 - Train_Acc: 0.7088 - Val_loss : 0.0025 - Val_Acc: 0.6905  - Time: 9.665446758270264\n",
      "\n"
     ]
    },
    {
     "name": "stderr",
     "output_type": "stream",
     "text": [
      "100%|███████████████████████████████████████████| 40/40 [00:06<00:00,  5.76it/s]\n",
      "100%|███████████████████████████████████████████| 18/18 [00:03<00:00,  5.76it/s]\n"
     ]
    },
    {
     "name": "stdout",
     "output_type": "stream",
     "text": [
      "Epoch : 44 - Train_loss : 0.5732 - Train_Acc: 0.6907 - Val_loss : 0.0025 - Val_Acc: 0.6905  - Time: 10.072313785552979\n",
      "\n"
     ]
    },
    {
     "name": "stderr",
     "output_type": "stream",
     "text": [
      "100%|███████████████████████████████████████████| 40/40 [00:06<00:00,  6.16it/s]\n",
      "100%|███████████████████████████████████████████| 18/18 [00:02<00:00,  6.24it/s]\n"
     ]
    },
    {
     "name": "stdout",
     "output_type": "stream",
     "text": [
      "Epoch : 45 - Train_loss : 0.5706 - Train_Acc: 0.7025 - Val_loss : 0.0025 - Val_Acc: 0.6905  - Time: 9.387358903884888\n",
      "\n"
     ]
    },
    {
     "name": "stderr",
     "output_type": "stream",
     "text": [
      "100%|███████████████████████████████████████████| 40/40 [00:06<00:00,  6.36it/s]\n",
      "100%|███████████████████████████████████████████| 18/18 [00:03<00:00,  5.07it/s]\n"
     ]
    },
    {
     "name": "stdout",
     "output_type": "stream",
     "text": [
      "Epoch : 46 - Train_loss : 0.5718 - Train_Acc: 0.6986 - Val_loss : 0.0025 - Val_Acc: 0.6905  - Time: 9.84515380859375\n",
      "\n"
     ]
    },
    {
     "name": "stderr",
     "output_type": "stream",
     "text": [
      "100%|███████████████████████████████████████████| 40/40 [00:06<00:00,  5.93it/s]\n",
      "100%|███████████████████████████████████████████| 18/18 [00:03<00:00,  5.06it/s]\n"
     ]
    },
    {
     "name": "stdout",
     "output_type": "stream",
     "text": [
      "Epoch : 47 - Train_loss : 0.5718 - Train_Acc: 0.6962 - Val_loss : 0.0025 - Val_Acc: 0.6886  - Time: 10.30860161781311\n",
      "\n"
     ]
    },
    {
     "name": "stderr",
     "output_type": "stream",
     "text": [
      "100%|███████████████████████████████████████████| 40/40 [00:06<00:00,  6.50it/s]\n",
      "100%|███████████████████████████████████████████| 18/18 [00:03<00:00,  4.84it/s]\n"
     ]
    },
    {
     "name": "stdout",
     "output_type": "stream",
     "text": [
      "Epoch : 48 - Train_loss : 0.5671 - Train_Acc: 0.6978 - Val_loss : 0.0025 - Val_Acc: 0.6941  - Time: 9.879025936126709\n",
      "\n"
     ]
    },
    {
     "name": "stderr",
     "output_type": "stream",
     "text": [
      "100%|███████████████████████████████████████████| 40/40 [00:06<00:00,  6.25it/s]\n",
      "100%|███████████████████████████████████████████| 18/18 [00:03<00:00,  5.32it/s]\n"
     ]
    },
    {
     "name": "stdout",
     "output_type": "stream",
     "text": [
      "Epoch : 49 - Train_loss : 0.5677 - Train_Acc: 0.6978 - Val_loss : 0.0025 - Val_Acc: 0.6905  - Time: 9.786854267120361\n",
      "\n"
     ]
    },
    {
     "name": "stderr",
     "output_type": "stream",
     "text": [
      "100%|███████████████████████████████████████████| 40/40 [00:06<00:00,  6.02it/s]\n",
      "100%|███████████████████████████████████████████| 18/18 [00:03<00:00,  5.47it/s]\n"
     ]
    },
    {
     "name": "stdout",
     "output_type": "stream",
     "text": [
      "Epoch : 50 - Train_loss : 0.5690 - Train_Acc: 0.7096 - Val_loss : 0.0025 - Val_Acc: 0.6905  - Time: 9.936357498168945\n",
      "\n"
     ]
    },
    {
     "name": "stderr",
     "output_type": "stream",
     "text": [
      "100%|███████████████████████████████████████████| 40/40 [00:06<00:00,  6.23it/s]\n",
      "100%|███████████████████████████████████████████| 18/18 [00:03<00:00,  5.40it/s]\n"
     ]
    },
    {
     "name": "stdout",
     "output_type": "stream",
     "text": [
      "Epoch : 51 - Train_loss : 0.5665 - Train_Acc: 0.6978 - Val_loss : 0.0025 - Val_Acc: 0.6905  - Time: 9.761543035507202\n",
      "\n"
     ]
    },
    {
     "name": "stderr",
     "output_type": "stream",
     "text": [
      "100%|███████████████████████████████████████████| 40/40 [00:06<00:00,  5.75it/s]\n",
      "100%|███████████████████████████████████████████| 18/18 [00:03<00:00,  5.81it/s]\n"
     ]
    },
    {
     "name": "stdout",
     "output_type": "stream",
     "text": [
      "Epoch : 52 - Train_loss : 0.5676 - Train_Acc: 0.7049 - Val_loss : 0.0025 - Val_Acc: 0.6905  - Time: 10.063139915466309\n",
      "\n"
     ]
    },
    {
     "name": "stderr",
     "output_type": "stream",
     "text": [
      "100%|███████████████████████████████████████████| 40/40 [00:06<00:00,  5.94it/s]\n",
      "100%|███████████████████████████████████████████| 18/18 [00:03<00:00,  5.62it/s]\n"
     ]
    },
    {
     "name": "stdout",
     "output_type": "stream",
     "text": [
      "Epoch : 53 - Train_loss : 0.5696 - Train_Acc: 0.6923 - Val_loss : 0.0025 - Val_Acc: 0.6886  - Time: 9.936834573745728\n",
      "\n"
     ]
    },
    {
     "name": "stderr",
     "output_type": "stream",
     "text": [
      "100%|███████████████████████████████████████████| 40/40 [00:06<00:00,  6.12it/s]\n",
      "100%|███████████████████████████████████████████| 18/18 [00:03<00:00,  5.75it/s]\n"
     ]
    },
    {
     "name": "stdout",
     "output_type": "stream",
     "text": [
      "Epoch : 54 - Train_loss : 0.5656 - Train_Acc: 0.7080 - Val_loss : 0.0025 - Val_Acc: 0.6886  - Time: 9.678788185119629\n",
      "\n"
     ]
    },
    {
     "name": "stderr",
     "output_type": "stream",
     "text": [
      "100%|███████████████████████████████████████████| 40/40 [00:06<00:00,  6.46it/s]\n",
      "100%|███████████████████████████████████████████| 18/18 [00:03<00:00,  5.08it/s]\n"
     ]
    },
    {
     "name": "stdout",
     "output_type": "stream",
     "text": [
      "Epoch : 55 - Train_loss : 0.5707 - Train_Acc: 0.6978 - Val_loss : 0.0025 - Val_Acc: 0.6886  - Time: 9.744319915771484\n",
      "\n"
     ]
    },
    {
     "name": "stderr",
     "output_type": "stream",
     "text": [
      "100%|███████████████████████████████████████████| 40/40 [00:06<00:00,  6.58it/s]\n",
      "100%|███████████████████████████████████████████| 18/18 [00:03<00:00,  5.07it/s]\n"
     ]
    },
    {
     "name": "stdout",
     "output_type": "stream",
     "text": [
      "Epoch : 56 - Train_loss : 0.5645 - Train_Acc: 0.6994 - Val_loss : 0.0025 - Val_Acc: 0.6886  - Time: 9.630234241485596\n",
      "\n"
     ]
    },
    {
     "name": "stderr",
     "output_type": "stream",
     "text": [
      "100%|███████████████████████████████████████████| 40/40 [00:06<00:00,  6.12it/s]\n",
      "100%|███████████████████████████████████████████| 18/18 [00:03<00:00,  5.53it/s]\n"
     ]
    },
    {
     "name": "stdout",
     "output_type": "stream",
     "text": [
      "Epoch : 57 - Train_loss : 0.5650 - Train_Acc: 0.6978 - Val_loss : 0.0025 - Val_Acc: 0.6923  - Time: 9.80001974105835\n",
      "\n"
     ]
    },
    {
     "name": "stderr",
     "output_type": "stream",
     "text": [
      "100%|███████████████████████████████████████████| 40/40 [00:06<00:00,  6.06it/s]\n",
      "100%|███████████████████████████████████████████| 18/18 [00:03<00:00,  5.32it/s]\n"
     ]
    },
    {
     "name": "stdout",
     "output_type": "stream",
     "text": [
      "Epoch : 58 - Train_loss : 0.5632 - Train_Acc: 0.7009 - Val_loss : 0.0025 - Val_Acc: 0.6886  - Time: 9.985711574554443\n",
      "\n"
     ]
    },
    {
     "name": "stderr",
     "output_type": "stream",
     "text": [
      "100%|███████████████████████████████████████████| 40/40 [00:06<00:00,  6.02it/s]\n",
      "100%|███████████████████████████████████████████| 18/18 [00:03<00:00,  5.52it/s]\n"
     ]
    },
    {
     "name": "stdout",
     "output_type": "stream",
     "text": [
      "Epoch : 59 - Train_loss : 0.5698 - Train_Acc: 0.7033 - Val_loss : 0.0025 - Val_Acc: 0.6868  - Time: 9.912314414978027\n",
      "\n"
     ]
    },
    {
     "name": "stderr",
     "output_type": "stream",
     "text": [
      "100%|███████████████████████████████████████████| 40/40 [00:06<00:00,  5.82it/s]\n",
      "100%|███████████████████████████████████████████| 18/18 [00:03<00:00,  5.88it/s]\n"
     ]
    },
    {
     "name": "stdout",
     "output_type": "stream",
     "text": [
      "Epoch : 60 - Train_loss : 0.5607 - Train_Acc: 0.7135 - Val_loss : 0.0025 - Val_Acc: 0.6960  - Time: 9.937187910079956\n",
      "\n"
     ]
    },
    {
     "name": "stderr",
     "output_type": "stream",
     "text": [
      "100%|███████████████████████████████████████████| 40/40 [00:06<00:00,  6.09it/s]\n",
      "100%|███████████████████████████████████████████| 18/18 [00:03<00:00,  5.79it/s]\n"
     ]
    },
    {
     "name": "stdout",
     "output_type": "stream",
     "text": [
      "Epoch : 61 - Train_loss : 0.5631 - Train_Acc: 0.7064 - Val_loss : 0.0025 - Val_Acc: 0.6941  - Time: 9.686460971832275\n",
      "\n"
     ]
    },
    {
     "name": "stderr",
     "output_type": "stream",
     "text": [
      "100%|███████████████████████████████████████████| 40/40 [00:06<00:00,  6.10it/s]\n",
      "100%|███████████████████████████████████████████| 18/18 [00:03<00:00,  5.11it/s]\n"
     ]
    },
    {
     "name": "stdout",
     "output_type": "stream",
     "text": [
      "Epoch : 62 - Train_loss : 0.5614 - Train_Acc: 0.7104 - Val_loss : 0.0025 - Val_Acc: 0.6941  - Time: 10.092511653900146\n",
      "\n"
     ]
    },
    {
     "name": "stderr",
     "output_type": "stream",
     "text": [
      "100%|███████████████████████████████████████████| 40/40 [00:06<00:00,  6.38it/s]\n",
      "100%|███████████████████████████████████████████| 18/18 [00:03<00:00,  5.02it/s]\n"
     ]
    },
    {
     "name": "stdout",
     "output_type": "stream",
     "text": [
      "Epoch : 63 - Train_loss : 0.5616 - Train_Acc: 0.7025 - Val_loss : 0.0025 - Val_Acc: 0.6941  - Time: 9.862567663192749\n",
      "\n"
     ]
    },
    {
     "name": "stderr",
     "output_type": "stream",
     "text": [
      "100%|███████████████████████████████████████████| 40/40 [00:06<00:00,  6.33it/s]\n",
      "100%|███████████████████████████████████████████| 18/18 [00:03<00:00,  5.08it/s]\n"
     ]
    },
    {
     "name": "stdout",
     "output_type": "stream",
     "text": [
      "Epoch : 64 - Train_loss : 0.5609 - Train_Acc: 0.7025 - Val_loss : 0.0025 - Val_Acc: 0.6923  - Time: 9.869520664215088\n",
      "\n"
     ]
    },
    {
     "name": "stderr",
     "output_type": "stream",
     "text": [
      "100%|███████████████████████████████████████████| 40/40 [00:06<00:00,  6.07it/s]\n",
      "100%|███████████████████████████████████████████| 18/18 [00:03<00:00,  5.50it/s]\n"
     ]
    },
    {
     "name": "stdout",
     "output_type": "stream",
     "text": [
      "Epoch : 65 - Train_loss : 0.5630 - Train_Acc: 0.6994 - Val_loss : 0.0025 - Val_Acc: 0.6905  - Time: 9.866431951522827\n",
      "\n"
     ]
    },
    {
     "name": "stderr",
     "output_type": "stream",
     "text": [
      "100%|███████████████████████████████████████████| 40/40 [00:06<00:00,  6.11it/s]\n",
      "100%|███████████████████████████████████████████| 18/18 [00:03<00:00,  5.28it/s]\n"
     ]
    },
    {
     "name": "stdout",
     "output_type": "stream",
     "text": [
      "Epoch : 66 - Train_loss : 0.5597 - Train_Acc: 0.7049 - Val_loss : 0.0025 - Val_Acc: 0.6905  - Time: 9.95934534072876\n",
      "\n"
     ]
    },
    {
     "name": "stderr",
     "output_type": "stream",
     "text": [
      "100%|███████████████████████████████████████████| 40/40 [00:06<00:00,  5.89it/s]\n",
      "100%|███████████████████████████████████████████| 18/18 [00:02<00:00,  6.24it/s]\n"
     ]
    },
    {
     "name": "stdout",
     "output_type": "stream",
     "text": [
      "Epoch : 67 - Train_loss : 0.5588 - Train_Acc: 0.7033 - Val_loss : 0.0025 - Val_Acc: 0.6850  - Time: 9.685529708862305\n",
      "\n"
     ]
    },
    {
     "name": "stderr",
     "output_type": "stream",
     "text": [
      "100%|███████████████████████████████████████████| 40/40 [00:06<00:00,  5.99it/s]\n",
      "100%|███████████████████████████████████████████| 18/18 [00:03<00:00,  5.65it/s]\n"
     ]
    },
    {
     "name": "stdout",
     "output_type": "stream",
     "text": [
      "Epoch : 68 - Train_loss : 0.5609 - Train_Acc: 0.7017 - Val_loss : 0.0025 - Val_Acc: 0.6905  - Time: 9.865844011306763\n",
      "\n"
     ]
    },
    {
     "name": "stderr",
     "output_type": "stream",
     "text": [
      "100%|███████████████████████████████████████████| 40/40 [00:06<00:00,  5.98it/s]\n",
      "100%|███████████████████████████████████████████| 18/18 [00:03<00:00,  5.13it/s]\n"
     ]
    },
    {
     "name": "stdout",
     "output_type": "stream",
     "text": [
      "Epoch : 69 - Train_loss : 0.5599 - Train_Acc: 0.7072 - Val_loss : 0.0025 - Val_Acc: 0.6886  - Time: 10.207712173461914\n",
      "\n"
     ]
    },
    {
     "name": "stderr",
     "output_type": "stream",
     "text": [
      "100%|███████████████████████████████████████████| 40/40 [00:06<00:00,  6.02it/s]\n",
      "100%|███████████████████████████████████████████| 18/18 [00:03<00:00,  4.93it/s]\n"
     ]
    },
    {
     "name": "stdout",
     "output_type": "stream",
     "text": [
      "Epoch : 70 - Train_loss : 0.5567 - Train_Acc: 0.7017 - Val_loss : 0.0025 - Val_Acc: 0.6832  - Time: 10.296923637390137\n",
      "\n"
     ]
    },
    {
     "name": "stderr",
     "output_type": "stream",
     "text": [
      "100%|███████████████████████████████████████████| 40/40 [00:06<00:00,  6.40it/s]\n",
      "100%|███████████████████████████████████████████| 18/18 [00:03<00:00,  5.09it/s]\n"
     ]
    },
    {
     "name": "stdout",
     "output_type": "stream",
     "text": [
      "Epoch : 71 - Train_loss : 0.5576 - Train_Acc: 0.7064 - Val_loss : 0.0025 - Val_Acc: 0.6850  - Time: 9.79095983505249\n",
      "\n"
     ]
    },
    {
     "name": "stderr",
     "output_type": "stream",
     "text": [
      "100%|███████████████████████████████████████████| 40/40 [00:06<00:00,  6.27it/s]\n",
      "100%|███████████████████████████████████████████| 18/18 [00:03<00:00,  5.72it/s]\n"
     ]
    },
    {
     "name": "stdout",
     "output_type": "stream",
     "text": [
      "Epoch : 72 - Train_loss : 0.5636 - Train_Acc: 0.7096 - Val_loss : 0.0025 - Val_Acc: 0.6832  - Time: 9.529793977737427\n",
      "\n"
     ]
    },
    {
     "name": "stderr",
     "output_type": "stream",
     "text": [
      "100%|███████████████████████████████████████████| 40/40 [00:07<00:00,  5.71it/s]\n",
      "100%|███████████████████████████████████████████| 18/18 [00:03<00:00,  5.11it/s]\n"
     ]
    },
    {
     "name": "stdout",
     "output_type": "stream",
     "text": [
      "Epoch : 73 - Train_loss : 0.5592 - Train_Acc: 0.7033 - Val_loss : 0.0025 - Val_Acc: 0.6850  - Time: 10.531313419342041\n",
      "\n"
     ]
    },
    {
     "name": "stderr",
     "output_type": "stream",
     "text": [
      "100%|███████████████████████████████████████████| 40/40 [00:06<00:00,  5.89it/s]\n",
      "100%|███████████████████████████████████████████| 18/18 [00:03<00:00,  5.40it/s]\n"
     ]
    },
    {
     "name": "stdout",
     "output_type": "stream",
     "text": [
      "Epoch : 74 - Train_loss : 0.5572 - Train_Acc: 0.7096 - Val_loss : 0.0025 - Val_Acc: 0.6850  - Time: 10.130085945129395\n",
      "\n"
     ]
    },
    {
     "name": "stderr",
     "output_type": "stream",
     "text": [
      "100%|███████████████████████████████████████████| 40/40 [00:06<00:00,  5.93it/s]\n",
      "100%|███████████████████████████████████████████| 18/18 [00:02<00:00,  6.39it/s]\n"
     ]
    },
    {
     "name": "stdout",
     "output_type": "stream",
     "text": [
      "Epoch : 75 - Train_loss : 0.5581 - Train_Acc: 0.7135 - Val_loss : 0.0025 - Val_Acc: 0.6832  - Time: 9.57390832901001\n",
      "\n"
     ]
    },
    {
     "name": "stderr",
     "output_type": "stream",
     "text": [
      "100%|███████████████████████████████████████████| 40/40 [00:07<00:00,  5.55it/s]\n",
      "100%|███████████████████████████████████████████| 18/18 [00:03<00:00,  5.68it/s]\n"
     ]
    },
    {
     "name": "stdout",
     "output_type": "stream",
     "text": [
      "Epoch : 76 - Train_loss : 0.5562 - Train_Acc: 0.7080 - Val_loss : 0.0025 - Val_Acc: 0.6813  - Time: 10.389659881591797\n",
      "\n"
     ]
    },
    {
     "name": "stderr",
     "output_type": "stream",
     "text": [
      "100%|███████████████████████████████████████████| 40/40 [00:06<00:00,  6.07it/s]\n",
      "100%|███████████████████████████████████████████| 18/18 [00:03<00:00,  5.08it/s]\n"
     ]
    },
    {
     "name": "stdout",
     "output_type": "stream",
     "text": [
      "Epoch : 77 - Train_loss : 0.5570 - Train_Acc: 0.7072 - Val_loss : 0.0025 - Val_Acc: 0.6813  - Time: 10.135671854019165\n",
      "\n"
     ]
    },
    {
     "name": "stderr",
     "output_type": "stream",
     "text": [
      "100%|███████████████████████████████████████████| 40/40 [00:06<00:00,  6.56it/s]\n",
      "100%|███████████████████████████████████████████| 18/18 [00:03<00:00,  4.99it/s]\n"
     ]
    },
    {
     "name": "stdout",
     "output_type": "stream",
     "text": [
      "Epoch : 78 - Train_loss : 0.5560 - Train_Acc: 0.7017 - Val_loss : 0.0025 - Val_Acc: 0.6813  - Time: 9.714575290679932\n",
      "\n"
     ]
    },
    {
     "name": "stderr",
     "output_type": "stream",
     "text": [
      "100%|███████████████████████████████████████████| 40/40 [00:06<00:00,  6.36it/s]\n",
      "100%|███████████████████████████████████████████| 18/18 [00:03<00:00,  5.00it/s]\n"
     ]
    },
    {
     "name": "stdout",
     "output_type": "stream",
     "text": [
      "Epoch : 79 - Train_loss : 0.5562 - Train_Acc: 0.7143 - Val_loss : 0.0025 - Val_Acc: 0.6813  - Time: 9.893138647079468\n",
      "\n"
     ]
    },
    {
     "name": "stderr",
     "output_type": "stream",
     "text": [
      "100%|███████████████████████████████████████████| 40/40 [00:06<00:00,  6.40it/s]\n",
      "100%|███████████████████████████████████████████| 18/18 [00:03<00:00,  5.71it/s]\n"
     ]
    },
    {
     "name": "stdout",
     "output_type": "stream",
     "text": [
      "Epoch : 80 - Train_loss : 0.5550 - Train_Acc: 0.7096 - Val_loss : 0.0025 - Val_Acc: 0.6850  - Time: 9.409181833267212\n",
      "\n"
     ]
    },
    {
     "name": "stderr",
     "output_type": "stream",
     "text": [
      "100%|███████████████████████████████████████████| 40/40 [00:06<00:00,  5.75it/s]\n",
      "100%|███████████████████████████████████████████| 18/18 [00:03<00:00,  4.84it/s]\n"
     ]
    },
    {
     "name": "stdout",
     "output_type": "stream",
     "text": [
      "Epoch : 81 - Train_loss : 0.5597 - Train_Acc: 0.7127 - Val_loss : 0.0025 - Val_Acc: 0.6813  - Time: 10.676371812820435\n",
      "\n"
     ]
    },
    {
     "name": "stderr",
     "output_type": "stream",
     "text": [
      "100%|███████████████████████████████████████████| 40/40 [00:06<00:00,  5.77it/s]\n",
      "100%|███████████████████████████████████████████| 18/18 [00:03<00:00,  5.89it/s]\n"
     ]
    },
    {
     "name": "stdout",
     "output_type": "stream",
     "text": [
      "Epoch : 82 - Train_loss : 0.5542 - Train_Acc: 0.7080 - Val_loss : 0.0025 - Val_Acc: 0.6832  - Time: 9.996974468231201\n",
      "\n"
     ]
    },
    {
     "name": "stderr",
     "output_type": "stream",
     "text": [
      "100%|███████████████████████████████████████████| 40/40 [00:06<00:00,  5.74it/s]\n",
      "100%|███████████████████████████████████████████| 18/18 [00:02<00:00,  6.20it/s]\n"
     ]
    },
    {
     "name": "stdout",
     "output_type": "stream",
     "text": [
      "Epoch : 83 - Train_loss : 0.5562 - Train_Acc: 0.7025 - Val_loss : 0.0025 - Val_Acc: 0.6777  - Time: 9.874178409576416\n",
      "\n"
     ]
    },
    {
     "name": "stderr",
     "output_type": "stream",
     "text": [
      "100%|███████████████████████████████████████████| 40/40 [00:06<00:00,  5.73it/s]\n",
      "100%|███████████████████████████████████████████| 18/18 [00:03<00:00,  5.28it/s]\n"
     ]
    },
    {
     "name": "stdout",
     "output_type": "stream",
     "text": [
      "Epoch : 84 - Train_loss : 0.5532 - Train_Acc: 0.7151 - Val_loss : 0.0025 - Val_Acc: 0.6795  - Time: 10.393568754196167\n",
      "\n"
     ]
    },
    {
     "name": "stderr",
     "output_type": "stream",
     "text": [
      "100%|███████████████████████████████████████████| 40/40 [00:06<00:00,  6.42it/s]\n",
      "100%|███████████████████████████████████████████| 18/18 [00:03<00:00,  5.00it/s]\n"
     ]
    },
    {
     "name": "stdout",
     "output_type": "stream",
     "text": [
      "Epoch : 85 - Train_loss : 0.5526 - Train_Acc: 0.7111 - Val_loss : 0.0025 - Val_Acc: 0.6795  - Time: 9.83271837234497\n",
      "\n"
     ]
    },
    {
     "name": "stderr",
     "output_type": "stream",
     "text": [
      "100%|███████████████████████████████████████████| 40/40 [00:06<00:00,  6.43it/s]\n",
      "100%|███████████████████████████████████████████| 18/18 [00:03<00:00,  5.11it/s]\n"
     ]
    },
    {
     "name": "stdout",
     "output_type": "stream",
     "text": [
      "Epoch : 86 - Train_loss : 0.5536 - Train_Acc: 0.7127 - Val_loss : 0.0025 - Val_Acc: 0.6832  - Time: 9.748199224472046\n",
      "\n"
     ]
    },
    {
     "name": "stderr",
     "output_type": "stream",
     "text": [
      "100%|███████████████████████████████████████████| 40/40 [00:06<00:00,  6.21it/s]\n",
      "100%|███████████████████████████████████████████| 18/18 [00:03<00:00,  5.26it/s]\n"
     ]
    },
    {
     "name": "stdout",
     "output_type": "stream",
     "text": [
      "Epoch : 87 - Train_loss : 0.5549 - Train_Acc: 0.7127 - Val_loss : 0.0025 - Val_Acc: 0.6813  - Time: 9.876356363296509\n",
      "\n"
     ]
    },
    {
     "name": "stderr",
     "output_type": "stream",
     "text": [
      "100%|███████████████████████████████████████████| 40/40 [00:06<00:00,  6.27it/s]\n",
      "100%|███████████████████████████████████████████| 18/18 [00:03<00:00,  5.52it/s]\n"
     ]
    },
    {
     "name": "stdout",
     "output_type": "stream",
     "text": [
      "Epoch : 88 - Train_loss : 0.5537 - Train_Acc: 0.7127 - Val_loss : 0.0025 - Val_Acc: 0.6813  - Time: 9.647775888442993\n",
      "\n"
     ]
    },
    {
     "name": "stderr",
     "output_type": "stream",
     "text": [
      "100%|███████████████████████████████████████████| 40/40 [00:07<00:00,  5.50it/s]\n",
      "100%|███████████████████████████████████████████| 18/18 [00:03<00:00,  4.98it/s]\n"
     ]
    },
    {
     "name": "stdout",
     "output_type": "stream",
     "text": [
      "Epoch : 89 - Train_loss : 0.5543 - Train_Acc: 0.7096 - Val_loss : 0.0025 - Val_Acc: 0.6832  - Time: 10.895642518997192\n",
      "\n"
     ]
    },
    {
     "name": "stderr",
     "output_type": "stream",
     "text": [
      "100%|███████████████████████████████████████████| 40/40 [00:06<00:00,  5.83it/s]\n",
      "100%|███████████████████████████████████████████| 18/18 [00:02<00:00,  6.24it/s]\n"
     ]
    },
    {
     "name": "stdout",
     "output_type": "stream",
     "text": [
      "Epoch : 90 - Train_loss : 0.5522 - Train_Acc: 0.7104 - Val_loss : 0.0025 - Val_Acc: 0.6832  - Time: 9.747674465179443\n",
      "\n"
     ]
    },
    {
     "name": "stderr",
     "output_type": "stream",
     "text": [
      "100%|███████████████████████████████████████████| 40/40 [00:07<00:00,  5.64it/s]\n",
      "100%|███████████████████████████████████████████| 18/18 [00:02<00:00,  6.13it/s]\n"
     ]
    },
    {
     "name": "stdout",
     "output_type": "stream",
     "text": [
      "Epoch : 91 - Train_loss : 0.5532 - Train_Acc: 0.7143 - Val_loss : 0.0025 - Val_Acc: 0.6850  - Time: 10.036584854125977\n",
      "\n"
     ]
    },
    {
     "name": "stderr",
     "output_type": "stream",
     "text": [
      "100%|███████████████████████████████████████████| 40/40 [00:06<00:00,  5.78it/s]\n",
      "100%|███████████████████████████████████████████| 18/18 [00:03<00:00,  5.17it/s]\n"
     ]
    },
    {
     "name": "stdout",
     "output_type": "stream",
     "text": [
      "Epoch : 92 - Train_loss : 0.5517 - Train_Acc: 0.7151 - Val_loss : 0.0025 - Val_Acc: 0.6850  - Time: 10.405478715896606\n",
      "\n"
     ]
    },
    {
     "name": "stderr",
     "output_type": "stream",
     "text": [
      "100%|███████████████████████████████████████████| 40/40 [00:06<00:00,  5.96it/s]\n",
      "100%|███████████████████████████████████████████| 18/18 [00:03<00:00,  5.11it/s]\n"
     ]
    },
    {
     "name": "stdout",
     "output_type": "stream",
     "text": [
      "Epoch : 93 - Train_loss : 0.5551 - Train_Acc: 0.7135 - Val_loss : 0.0025 - Val_Acc: 0.6832  - Time: 10.236671209335327\n",
      "\n"
     ]
    },
    {
     "name": "stderr",
     "output_type": "stream",
     "text": [
      "100%|███████████████████████████████████████████| 40/40 [00:06<00:00,  6.51it/s]\n",
      "100%|███████████████████████████████████████████| 18/18 [00:03<00:00,  4.97it/s]\n"
     ]
    },
    {
     "name": "stdout",
     "output_type": "stream",
     "text": [
      "Epoch : 94 - Train_loss : 0.5531 - Train_Acc: 0.7072 - Val_loss : 0.0025 - Val_Acc: 0.6850  - Time: 9.774288415908813\n",
      "\n"
     ]
    },
    {
     "name": "stderr",
     "output_type": "stream",
     "text": [
      "100%|███████████████████████████████████████████| 40/40 [00:06<00:00,  6.19it/s]\n",
      "100%|███████████████████████████████████████████| 18/18 [00:03<00:00,  5.76it/s]\n"
     ]
    },
    {
     "name": "stdout",
     "output_type": "stream",
     "text": [
      "Epoch : 95 - Train_loss : 0.5518 - Train_Acc: 0.7104 - Val_loss : 0.0025 - Val_Acc: 0.6868  - Time: 9.590934038162231\n",
      "\n"
     ]
    },
    {
     "name": "stderr",
     "output_type": "stream",
     "text": [
      "100%|███████████████████████████████████████████| 40/40 [00:06<00:00,  6.29it/s]\n",
      "100%|███████████████████████████████████████████| 18/18 [00:03<00:00,  5.46it/s]\n"
     ]
    },
    {
     "name": "stdout",
     "output_type": "stream",
     "text": [
      "Epoch : 96 - Train_loss : 0.5444 - Train_Acc: 0.7151 - Val_loss : 0.0025 - Val_Acc: 0.6868  - Time: 9.66434097290039\n",
      "\n"
     ]
    },
    {
     "name": "stderr",
     "output_type": "stream",
     "text": [
      "100%|███████████████████████████████████████████| 40/40 [00:07<00:00,  5.53it/s]\n",
      "100%|███████████████████████████████████████████| 18/18 [00:03<00:00,  5.10it/s]\n"
     ]
    },
    {
     "name": "stdout",
     "output_type": "stream",
     "text": [
      "Epoch : 97 - Train_loss : 0.5528 - Train_Acc: 0.7143 - Val_loss : 0.0025 - Val_Acc: 0.6868  - Time: 10.772803544998169\n",
      "\n"
     ]
    },
    {
     "name": "stderr",
     "output_type": "stream",
     "text": [
      "100%|███████████████████████████████████████████| 40/40 [00:07<00:00,  5.65it/s]\n",
      "100%|███████████████████████████████████████████| 18/18 [00:03<00:00,  5.81it/s]\n"
     ]
    },
    {
     "name": "stdout",
     "output_type": "stream",
     "text": [
      "Epoch : 98 - Train_loss : 0.5547 - Train_Acc: 0.7057 - Val_loss : 0.0025 - Val_Acc: 0.6868  - Time: 10.182594776153564\n",
      "\n"
     ]
    },
    {
     "name": "stderr",
     "output_type": "stream",
     "text": [
      "100%|███████████████████████████████████████████| 40/40 [00:06<00:00,  5.82it/s]\n",
      "100%|███████████████████████████████████████████| 18/18 [00:03<00:00,  5.87it/s]\n"
     ]
    },
    {
     "name": "stdout",
     "output_type": "stream",
     "text": [
      "Epoch : 99 - Train_loss : 0.5490 - Train_Acc: 0.7104 - Val_loss : 0.0025 - Val_Acc: 0.6868  - Time: 9.950813055038452\n",
      "\n"
     ]
    },
    {
     "name": "stderr",
     "output_type": "stream",
     "text": [
      "100%|███████████████████████████████████████████| 40/40 [00:06<00:00,  5.75it/s]\n",
      "100%|███████████████████████████████████████████| 18/18 [00:03<00:00,  5.45it/s]\n"
     ]
    },
    {
     "name": "stdout",
     "output_type": "stream",
     "text": [
      "Epoch : 100 - Train_loss : 0.5494 - Train_Acc: 0.7072 - Val_loss : 0.0025 - Val_Acc: 0.6850  - Time: 10.267328023910522\n",
      "\n"
     ]
    },
    {
     "name": "stderr",
     "output_type": "stream",
     "text": [
      "100%|███████████████████████████████████████████| 40/40 [00:06<00:00,  6.00it/s]\n",
      "100%|███████████████████████████████████████████| 18/18 [00:03<00:00,  5.04it/s]\n"
     ]
    },
    {
     "name": "stdout",
     "output_type": "stream",
     "text": [
      "Epoch : 101 - Train_loss : 0.5510 - Train_Acc: 0.7096 - Val_loss : 0.0025 - Val_Acc: 0.6905  - Time: 10.247576236724854\n",
      "\n"
     ]
    },
    {
     "name": "stderr",
     "output_type": "stream",
     "text": [
      "100%|███████████████████████████████████████████| 40/40 [00:05<00:00,  6.72it/s]\n",
      "100%|███████████████████████████████████████████| 18/18 [00:03<00:00,  4.88it/s]\n"
     ]
    },
    {
     "name": "stdout",
     "output_type": "stream",
     "text": [
      "Epoch : 102 - Train_loss : 0.5515 - Train_Acc: 0.7088 - Val_loss : 0.0025 - Val_Acc: 0.6886  - Time: 9.640787839889526\n",
      "\n"
     ]
    },
    {
     "name": "stderr",
     "output_type": "stream",
     "text": [
      "100%|███████████████████████████████████████████| 40/40 [00:06<00:00,  6.19it/s]\n",
      "100%|███████████████████████████████████████████| 18/18 [00:03<00:00,  4.89it/s]\n"
     ]
    },
    {
     "name": "stdout",
     "output_type": "stream",
     "text": [
      "Epoch : 103 - Train_loss : 0.5499 - Train_Acc: 0.7096 - Val_loss : 0.0025 - Val_Acc: 0.6905  - Time: 10.148282766342163\n",
      "\n"
     ]
    },
    {
     "name": "stderr",
     "output_type": "stream",
     "text": [
      "100%|███████████████████████████████████████████| 40/40 [00:06<00:00,  6.26it/s]\n",
      "100%|███████████████████████████████████████████| 18/18 [00:03<00:00,  5.51it/s]\n"
     ]
    },
    {
     "name": "stdout",
     "output_type": "stream",
     "text": [
      "Epoch : 104 - Train_loss : 0.5494 - Train_Acc: 0.7127 - Val_loss : 0.0025 - Val_Acc: 0.6886  - Time: 9.666829824447632\n",
      "\n"
     ]
    },
    {
     "name": "stderr",
     "output_type": "stream",
     "text": [
      "100%|███████████████████████████████████████████| 40/40 [00:06<00:00,  5.84it/s]\n",
      "100%|███████████████████████████████████████████| 18/18 [00:03<00:00,  5.26it/s]\n"
     ]
    },
    {
     "name": "stdout",
     "output_type": "stream",
     "text": [
      "Epoch : 105 - Train_loss : 0.5493 - Train_Acc: 0.7088 - Val_loss : 0.0025 - Val_Acc: 0.6905  - Time: 10.27506160736084\n",
      "\n"
     ]
    },
    {
     "name": "stderr",
     "output_type": "stream",
     "text": [
      "100%|███████████████████████████████████████████| 40/40 [00:06<00:00,  5.80it/s]\n",
      "100%|███████████████████████████████████████████| 18/18 [00:03<00:00,  5.38it/s]\n"
     ]
    },
    {
     "name": "stdout",
     "output_type": "stream",
     "text": [
      "Epoch : 106 - Train_loss : 0.5465 - Train_Acc: 0.7229 - Val_loss : 0.0025 - Val_Acc: 0.6923  - Time: 10.251179456710815\n",
      "\n"
     ]
    },
    {
     "name": "stderr",
     "output_type": "stream",
     "text": [
      "100%|███████████████████████████████████████████| 40/40 [00:06<00:00,  5.84it/s]\n",
      "100%|███████████████████████████████████████████| 18/18 [00:02<00:00,  6.12it/s]\n"
     ]
    },
    {
     "name": "stdout",
     "output_type": "stream",
     "text": [
      "Epoch : 107 - Train_loss : 0.5502 - Train_Acc: 0.7104 - Val_loss : 0.0025 - Val_Acc: 0.6850  - Time: 9.794045448303223\n",
      "\n"
     ]
    },
    {
     "name": "stderr",
     "output_type": "stream",
     "text": [
      "100%|███████████████████████████████████████████| 40/40 [00:07<00:00,  5.67it/s]\n",
      "100%|███████████████████████████████████████████| 18/18 [00:03<00:00,  5.65it/s]\n"
     ]
    },
    {
     "name": "stdout",
     "output_type": "stream",
     "text": [
      "Epoch : 108 - Train_loss : 0.5503 - Train_Acc: 0.7049 - Val_loss : 0.0025 - Val_Acc: 0.6905  - Time: 10.2474844455719\n",
      "\n"
     ]
    },
    {
     "name": "stderr",
     "output_type": "stream",
     "text": [
      "100%|███████████████████████████████████████████| 40/40 [00:06<00:00,  5.99it/s]\n",
      "100%|███████████████████████████████████████████| 18/18 [00:03<00:00,  4.98it/s]\n"
     ]
    },
    {
     "name": "stdout",
     "output_type": "stream",
     "text": [
      "Epoch : 109 - Train_loss : 0.5499 - Train_Acc: 0.7104 - Val_loss : 0.0025 - Val_Acc: 0.6923  - Time: 10.294994592666626\n",
      "\n"
     ]
    },
    {
     "name": "stderr",
     "output_type": "stream",
     "text": [
      "100%|███████████████████████████████████████████| 40/40 [00:06<00:00,  6.25it/s]\n",
      "100%|███████████████████████████████████████████| 18/18 [00:03<00:00,  5.03it/s]\n"
     ]
    },
    {
     "name": "stdout",
     "output_type": "stream",
     "text": [
      "Epoch : 110 - Train_loss : 0.5524 - Train_Acc: 0.7049 - Val_loss : 0.0025 - Val_Acc: 0.6923  - Time: 9.980455875396729\n",
      "\n"
     ]
    },
    {
     "name": "stderr",
     "output_type": "stream",
     "text": [
      "100%|███████████████████████████████████████████| 40/40 [00:05<00:00,  6.67it/s]\n",
      "100%|███████████████████████████████████████████| 18/18 [00:03<00:00,  5.01it/s]\n"
     ]
    },
    {
     "name": "stdout",
     "output_type": "stream",
     "text": [
      "Epoch : 111 - Train_loss : 0.5461 - Train_Acc: 0.7127 - Val_loss : 0.0025 - Val_Acc: 0.6905  - Time: 9.588397979736328\n",
      "\n"
     ]
    },
    {
     "name": "stderr",
     "output_type": "stream",
     "text": [
      "100%|███████████████████████████████████████████| 40/40 [00:06<00:00,  6.37it/s]\n",
      "100%|███████████████████████████████████████████| 18/18 [00:03<00:00,  5.51it/s]\n"
     ]
    },
    {
     "name": "stdout",
     "output_type": "stream",
     "text": [
      "Epoch : 112 - Train_loss : 0.5481 - Train_Acc: 0.7151 - Val_loss : 0.0025 - Val_Acc: 0.6923  - Time: 9.551820039749146\n",
      "\n"
     ]
    },
    {
     "name": "stderr",
     "output_type": "stream",
     "text": [
      "100%|███████████████████████████████████████████| 40/40 [00:06<00:00,  5.96it/s]\n",
      "100%|███████████████████████████████████████████| 18/18 [00:03<00:00,  5.21it/s]\n"
     ]
    },
    {
     "name": "stdout",
     "output_type": "stream",
     "text": [
      "Epoch : 113 - Train_loss : 0.5490 - Train_Acc: 0.7151 - Val_loss : 0.0025 - Val_Acc: 0.6905  - Time: 10.176928520202637\n",
      "\n"
     ]
    },
    {
     "name": "stderr",
     "output_type": "stream",
     "text": [
      "100%|███████████████████████████████████████████| 40/40 [00:07<00:00,  5.54it/s]\n",
      "100%|███████████████████████████████████████████| 18/18 [00:03<00:00,  5.38it/s]\n"
     ]
    },
    {
     "name": "stdout",
     "output_type": "stream",
     "text": [
      "Epoch : 114 - Train_loss : 0.5450 - Train_Acc: 0.7096 - Val_loss : 0.0025 - Val_Acc: 0.6868  - Time: 10.568199872970581\n",
      "\n"
     ]
    },
    {
     "name": "stderr",
     "output_type": "stream",
     "text": [
      "100%|███████████████████████████████████████████| 40/40 [00:07<00:00,  5.67it/s]\n",
      "100%|███████████████████████████████████████████| 18/18 [00:03<00:00,  5.78it/s]\n"
     ]
    },
    {
     "name": "stdout",
     "output_type": "stream",
     "text": [
      "Epoch : 115 - Train_loss : 0.5527 - Train_Acc: 0.7104 - Val_loss : 0.0025 - Val_Acc: 0.6923  - Time: 10.175903558731079\n",
      "\n"
     ]
    },
    {
     "name": "stderr",
     "output_type": "stream",
     "text": [
      "100%|███████████████████████████████████████████| 40/40 [00:07<00:00,  5.62it/s]\n",
      "100%|███████████████████████████████████████████| 18/18 [00:03<00:00,  5.87it/s]\n"
     ]
    },
    {
     "name": "stdout",
     "output_type": "stream",
     "text": [
      "Epoch : 116 - Train_loss : 0.5446 - Train_Acc: 0.7166 - Val_loss : 0.0025 - Val_Acc: 0.6923  - Time: 10.18689775466919\n",
      "\n"
     ]
    },
    {
     "name": "stderr",
     "output_type": "stream",
     "text": [
      "100%|███████████████████████████████████████████| 40/40 [00:06<00:00,  5.96it/s]\n",
      "100%|███████████████████████████████████████████| 18/18 [00:03<00:00,  5.04it/s]\n"
     ]
    },
    {
     "name": "stdout",
     "output_type": "stream",
     "text": [
      "Epoch : 117 - Train_loss : 0.5465 - Train_Acc: 0.7104 - Val_loss : 0.0025 - Val_Acc: 0.6905  - Time: 10.284433841705322\n",
      "\n"
     ]
    },
    {
     "name": "stderr",
     "output_type": "stream",
     "text": [
      "100%|███████████████████████████████████████████| 40/40 [00:06<00:00,  6.16it/s]\n",
      "100%|███████████████████████████████████████████| 18/18 [00:03<00:00,  5.02it/s]\n"
     ]
    },
    {
     "name": "stdout",
     "output_type": "stream",
     "text": [
      "Epoch : 118 - Train_loss : 0.5436 - Train_Acc: 0.7119 - Val_loss : 0.0025 - Val_Acc: 0.6886  - Time: 10.076304912567139\n",
      "\n"
     ]
    },
    {
     "name": "stderr",
     "output_type": "stream",
     "text": [
      "100%|███████████████████████████████████████████| 40/40 [00:06<00:00,  6.48it/s]\n",
      "100%|███████████████████████████████████████████| 18/18 [00:03<00:00,  4.83it/s]\n"
     ]
    },
    {
     "name": "stdout",
     "output_type": "stream",
     "text": [
      "Epoch : 119 - Train_loss : 0.5469 - Train_Acc: 0.7166 - Val_loss : 0.0025 - Val_Acc: 0.6868  - Time: 9.907639741897583\n",
      "\n"
     ]
    },
    {
     "name": "stderr",
     "output_type": "stream",
     "text": [
      "100%|███████████████████████████████████████████| 40/40 [00:06<00:00,  6.29it/s]\n",
      "100%|███████████████████████████████████████████| 18/18 [00:03<00:00,  5.33it/s]\n"
     ]
    },
    {
     "name": "stdout",
     "output_type": "stream",
     "text": [
      "Epoch : 120 - Train_loss : 0.5441 - Train_Acc: 0.7151 - Val_loss : 0.0025 - Val_Acc: 0.6923  - Time: 9.742154836654663\n",
      "\n"
     ]
    },
    {
     "name": "stderr",
     "output_type": "stream",
     "text": [
      "100%|███████████████████████████████████████████| 40/40 [00:06<00:00,  5.72it/s]\n",
      "100%|███████████████████████████████████████████| 18/18 [00:03<00:00,  5.42it/s]\n"
     ]
    },
    {
     "name": "stdout",
     "output_type": "stream",
     "text": [
      "Epoch : 121 - Train_loss : 0.5467 - Train_Acc: 0.7049 - Val_loss : 0.0025 - Val_Acc: 0.6923  - Time: 10.324139833450317\n",
      "\n"
     ]
    },
    {
     "name": "stderr",
     "output_type": "stream",
     "text": [
      "100%|███████████████████████████████████████████| 40/40 [00:06<00:00,  6.03it/s]\n",
      "100%|███████████████████████████████████████████| 18/18 [00:03<00:00,  5.30it/s]\n"
     ]
    },
    {
     "name": "stdout",
     "output_type": "stream",
     "text": [
      "Epoch : 122 - Train_loss : 0.5471 - Train_Acc: 0.7190 - Val_loss : 0.0025 - Val_Acc: 0.6886  - Time: 10.037370920181274\n",
      "\n"
     ]
    },
    {
     "name": "stderr",
     "output_type": "stream",
     "text": [
      "100%|███████████████████████████████████████████| 40/40 [00:07<00:00,  5.60it/s]\n",
      "100%|███████████████████████████████████████████| 18/18 [00:03<00:00,  5.52it/s]\n"
     ]
    },
    {
     "name": "stdout",
     "output_type": "stream",
     "text": [
      "Epoch : 123 - Train_loss : 0.5432 - Train_Acc: 0.7041 - Val_loss : 0.0025 - Val_Acc: 0.6923  - Time: 10.409355878829956\n",
      "\n"
     ]
    },
    {
     "name": "stderr",
     "output_type": "stream",
     "text": [
      "100%|███████████████████████████████████████████| 40/40 [00:06<00:00,  5.77it/s]\n",
      "100%|███████████████████████████████████████████| 18/18 [00:03<00:00,  5.56it/s]\n"
     ]
    },
    {
     "name": "stdout",
     "output_type": "stream",
     "text": [
      "Epoch : 124 - Train_loss : 0.5438 - Train_Acc: 0.7135 - Val_loss : 0.0025 - Val_Acc: 0.6905  - Time: 10.170029878616333\n",
      "\n"
     ]
    },
    {
     "name": "stderr",
     "output_type": "stream",
     "text": [
      "100%|███████████████████████████████████████████| 40/40 [00:06<00:00,  6.02it/s]\n",
      "100%|███████████████████████████████████████████| 18/18 [00:03<00:00,  5.59it/s]\n"
     ]
    },
    {
     "name": "stdout",
     "output_type": "stream",
     "text": [
      "Epoch : 125 - Train_loss : 0.5458 - Train_Acc: 0.7104 - Val_loss : 0.0025 - Val_Acc: 0.6868  - Time: 9.869282722473145\n",
      "\n"
     ]
    },
    {
     "name": "stderr",
     "output_type": "stream",
     "text": [
      "100%|███████████████████████████████████████████| 40/40 [00:06<00:00,  5.95it/s]\n",
      "100%|███████████████████████████████████████████| 18/18 [00:03<00:00,  5.19it/s]\n"
     ]
    },
    {
     "name": "stdout",
     "output_type": "stream",
     "text": [
      "Epoch : 126 - Train_loss : 0.5501 - Train_Acc: 0.7111 - Val_loss : 0.0025 - Val_Acc: 0.6923  - Time: 10.193633794784546\n",
      "\n"
     ]
    },
    {
     "name": "stderr",
     "output_type": "stream",
     "text": [
      "100%|███████████████████████████████████████████| 40/40 [00:06<00:00,  6.54it/s]\n",
      "100%|███████████████████████████████████████████| 18/18 [00:03<00:00,  4.99it/s]\n"
     ]
    },
    {
     "name": "stdout",
     "output_type": "stream",
     "text": [
      "Epoch : 127 - Train_loss : 0.5469 - Train_Acc: 0.7049 - Val_loss : 0.0025 - Val_Acc: 0.6868  - Time: 9.72623085975647\n",
      "\n"
     ]
    },
    {
     "name": "stderr",
     "output_type": "stream",
     "text": [
      "100%|███████████████████████████████████████████| 40/40 [00:06<00:00,  6.40it/s]\n",
      "100%|███████████████████████████████████████████| 18/18 [00:03<00:00,  5.08it/s]\n"
     ]
    },
    {
     "name": "stdout",
     "output_type": "stream",
     "text": [
      "Epoch : 128 - Train_loss : 0.5426 - Train_Acc: 0.7143 - Val_loss : 0.0025 - Val_Acc: 0.6905  - Time: 9.801512241363525\n",
      "\n"
     ]
    },
    {
     "name": "stderr",
     "output_type": "stream",
     "text": [
      "100%|███████████████████████████████████████████| 40/40 [00:06<00:00,  5.83it/s]\n",
      "100%|███████████████████████████████████████████| 18/18 [00:03<00:00,  5.48it/s]\n"
     ]
    },
    {
     "name": "stdout",
     "output_type": "stream",
     "text": [
      "Epoch : 129 - Train_loss : 0.5473 - Train_Acc: 0.7096 - Val_loss : 0.0025 - Val_Acc: 0.6868  - Time: 10.153488397598267\n",
      "\n"
     ]
    },
    {
     "name": "stderr",
     "output_type": "stream",
     "text": [
      "100%|███████████████████████████████████████████| 40/40 [00:06<00:00,  6.02it/s]\n",
      "100%|███████████████████████████████████████████| 18/18 [00:03<00:00,  5.46it/s]\n"
     ]
    },
    {
     "name": "stdout",
     "output_type": "stream",
     "text": [
      "Epoch : 130 - Train_loss : 0.5517 - Train_Acc: 0.7041 - Val_loss : 0.0025 - Val_Acc: 0.6868  - Time: 9.952869415283203\n",
      "\n"
     ]
    },
    {
     "name": "stderr",
     "output_type": "stream",
     "text": [
      "100%|███████████████████████████████████████████| 40/40 [00:06<00:00,  5.78it/s]\n",
      "100%|███████████████████████████████████████████| 18/18 [00:03<00:00,  5.13it/s]\n"
     ]
    },
    {
     "name": "stdout",
     "output_type": "stream",
     "text": [
      "Epoch : 131 - Train_loss : 0.5486 - Train_Acc: 0.7166 - Val_loss : 0.0025 - Val_Acc: 0.6886  - Time: 10.430362224578857\n",
      "\n"
     ]
    },
    {
     "name": "stderr",
     "output_type": "stream",
     "text": [
      "100%|███████████████████████████████████████████| 40/40 [00:06<00:00,  5.75it/s]\n",
      "100%|███████████████████████████████████████████| 18/18 [00:03<00:00,  5.93it/s]\n"
     ]
    },
    {
     "name": "stdout",
     "output_type": "stream",
     "text": [
      "Epoch : 132 - Train_loss : 0.5453 - Train_Acc: 0.7159 - Val_loss : 0.0025 - Val_Acc: 0.6868  - Time: 9.996929168701172\n",
      "\n"
     ]
    },
    {
     "name": "stderr",
     "output_type": "stream",
     "text": [
      "100%|███████████████████████████████████████████| 40/40 [00:06<00:00,  6.03it/s]\n",
      "100%|███████████████████████████████████████████| 18/18 [00:03<00:00,  5.91it/s]\n"
     ]
    },
    {
     "name": "stdout",
     "output_type": "stream",
     "text": [
      "Epoch : 133 - Train_loss : 0.5457 - Train_Acc: 0.7096 - Val_loss : 0.0025 - Val_Acc: 0.6905  - Time: 9.686896085739136\n",
      "\n"
     ]
    },
    {
     "name": "stderr",
     "output_type": "stream",
     "text": [
      "100%|███████████████████████████████████████████| 40/40 [00:06<00:00,  5.86it/s]\n",
      "100%|███████████████████████████████████████████| 18/18 [00:03<00:00,  5.20it/s]\n"
     ]
    },
    {
     "name": "stdout",
     "output_type": "stream",
     "text": [
      "Epoch : 134 - Train_loss : 0.5483 - Train_Acc: 0.7088 - Val_loss : 0.0025 - Val_Acc: 0.6905  - Time: 10.290348052978516\n",
      "\n"
     ]
    },
    {
     "name": "stderr",
     "output_type": "stream",
     "text": [
      "100%|███████████████████████████████████████████| 40/40 [00:06<00:00,  6.45it/s]\n",
      "100%|███████████████████████████████████████████| 18/18 [00:03<00:00,  4.96it/s]\n"
     ]
    },
    {
     "name": "stdout",
     "output_type": "stream",
     "text": [
      "Epoch : 135 - Train_loss : 0.5433 - Train_Acc: 0.7166 - Val_loss : 0.0025 - Val_Acc: 0.6886  - Time: 9.844401359558105\n",
      "\n"
     ]
    },
    {
     "name": "stderr",
     "output_type": "stream",
     "text": [
      "100%|███████████████████████████████████████████| 40/40 [00:05<00:00,  6.69it/s]\n",
      "100%|███████████████████████████████████████████| 18/18 [00:03<00:00,  5.37it/s]\n"
     ]
    },
    {
     "name": "stdout",
     "output_type": "stream",
     "text": [
      "Epoch : 136 - Train_loss : 0.5499 - Train_Acc: 0.7057 - Val_loss : 0.0025 - Val_Acc: 0.6905  - Time: 9.3377845287323\n",
      "\n"
     ]
    },
    {
     "name": "stderr",
     "output_type": "stream",
     "text": [
      "100%|███████████████████████████████████████████| 40/40 [00:07<00:00,  5.63it/s]\n",
      "100%|███████████████████████████████████████████| 18/18 [00:03<00:00,  5.23it/s]\n"
     ]
    },
    {
     "name": "stdout",
     "output_type": "stream",
     "text": [
      "Epoch : 137 - Train_loss : 0.5448 - Train_Acc: 0.7143 - Val_loss : 0.0025 - Val_Acc: 0.6886  - Time: 10.550642967224121\n",
      "\n"
     ]
    },
    {
     "name": "stderr",
     "output_type": "stream",
     "text": [
      "100%|███████████████████████████████████████████| 40/40 [00:06<00:00,  6.27it/s]\n",
      "100%|███████████████████████████████████████████| 18/18 [00:03<00:00,  5.13it/s]\n"
     ]
    },
    {
     "name": "stdout",
     "output_type": "stream",
     "text": [
      "Epoch : 138 - Train_loss : 0.5431 - Train_Acc: 0.7182 - Val_loss : 0.0025 - Val_Acc: 0.6868  - Time: 9.889636516571045\n",
      "\n"
     ]
    },
    {
     "name": "stderr",
     "output_type": "stream",
     "text": [
      "100%|███████████████████████████████████████████| 40/40 [00:06<00:00,  6.05it/s]\n",
      "100%|███████████████████████████████████████████| 18/18 [00:03<00:00,  5.43it/s]\n"
     ]
    },
    {
     "name": "stdout",
     "output_type": "stream",
     "text": [
      "Epoch : 139 - Train_loss : 0.5480 - Train_Acc: 0.7119 - Val_loss : 0.0025 - Val_Acc: 0.6905  - Time: 9.925364971160889\n",
      "\n"
     ]
    },
    {
     "name": "stderr",
     "output_type": "stream",
     "text": [
      "100%|███████████████████████████████████████████| 40/40 [00:07<00:00,  5.67it/s]\n",
      "100%|███████████████████████████████████████████| 18/18 [00:02<00:00,  6.15it/s]\n"
     ]
    },
    {
     "name": "stdout",
     "output_type": "stream",
     "text": [
      "Epoch : 140 - Train_loss : 0.5471 - Train_Acc: 0.7135 - Val_loss : 0.0025 - Val_Acc: 0.6905  - Time: 9.983644247055054\n",
      "\n"
     ]
    },
    {
     "name": "stderr",
     "output_type": "stream",
     "text": [
      "100%|███████████████████████████████████████████| 40/40 [00:06<00:00,  6.15it/s]\n",
      "100%|███████████████████████████████████████████| 18/18 [00:03<00:00,  5.69it/s]\n"
     ]
    },
    {
     "name": "stdout",
     "output_type": "stream",
     "text": [
      "Epoch : 141 - Train_loss : 0.5448 - Train_Acc: 0.7135 - Val_loss : 0.0025 - Val_Acc: 0.6905  - Time: 9.673979043960571\n",
      "\n"
     ]
    },
    {
     "name": "stderr",
     "output_type": "stream",
     "text": [
      "100%|███████████████████████████████████████████| 40/40 [00:06<00:00,  5.83it/s]\n",
      "100%|███████████████████████████████████████████| 18/18 [00:03<00:00,  5.24it/s]\n"
     ]
    },
    {
     "name": "stdout",
     "output_type": "stream",
     "text": [
      "Epoch : 142 - Train_loss : 0.5447 - Train_Acc: 0.7127 - Val_loss : 0.0025 - Val_Acc: 0.6905  - Time: 10.298610925674438\n",
      "\n"
     ]
    },
    {
     "name": "stderr",
     "output_type": "stream",
     "text": [
      "100%|███████████████████████████████████████████| 40/40 [00:06<00:00,  6.25it/s]\n",
      "100%|███████████████████████████████████████████| 18/18 [00:03<00:00,  4.92it/s]\n"
     ]
    },
    {
     "name": "stdout",
     "output_type": "stream",
     "text": [
      "Epoch : 143 - Train_loss : 0.5450 - Train_Acc: 0.7135 - Val_loss : 0.0025 - Val_Acc: 0.6886  - Time: 10.065144300460815\n",
      "\n"
     ]
    },
    {
     "name": "stderr",
     "output_type": "stream",
     "text": [
      "100%|███████████████████████████████████████████| 40/40 [00:06<00:00,  6.63it/s]\n",
      "100%|███████████████████████████████████████████| 18/18 [00:03<00:00,  4.75it/s]\n"
     ]
    },
    {
     "name": "stdout",
     "output_type": "stream",
     "text": [
      "Epoch : 144 - Train_loss : 0.5436 - Train_Acc: 0.7166 - Val_loss : 0.0025 - Val_Acc: 0.6868  - Time: 9.829059362411499\n",
      "\n"
     ]
    },
    {
     "name": "stderr",
     "output_type": "stream",
     "text": [
      "100%|███████████████████████████████████████████| 40/40 [00:06<00:00,  5.99it/s]\n",
      "100%|███████████████████████████████████████████| 18/18 [00:03<00:00,  5.20it/s]\n"
     ]
    },
    {
     "name": "stdout",
     "output_type": "stream",
     "text": [
      "Epoch : 145 - Train_loss : 0.5385 - Train_Acc: 0.7166 - Val_loss : 0.0025 - Val_Acc: 0.6905  - Time: 10.14455246925354\n",
      "\n"
     ]
    },
    {
     "name": "stderr",
     "output_type": "stream",
     "text": [
      "100%|███████████████████████████████████████████| 40/40 [00:06<00:00,  6.19it/s]\n",
      "100%|███████████████████████████████████████████| 18/18 [00:03<00:00,  5.54it/s]\n"
     ]
    },
    {
     "name": "stdout",
     "output_type": "stream",
     "text": [
      "Epoch : 146 - Train_loss : 0.5454 - Train_Acc: 0.7127 - Val_loss : 0.0025 - Val_Acc: 0.6886  - Time: 9.714640855789185\n",
      "\n"
     ]
    },
    {
     "name": "stderr",
     "output_type": "stream",
     "text": [
      "100%|███████████████████████████████████████████| 40/40 [00:06<00:00,  6.21it/s]\n",
      "100%|███████████████████████████████████████████| 18/18 [00:03<00:00,  5.51it/s]\n"
     ]
    },
    {
     "name": "stdout",
     "output_type": "stream",
     "text": [
      "Epoch : 147 - Train_loss : 0.5436 - Train_Acc: 0.7198 - Val_loss : 0.0025 - Val_Acc: 0.6832  - Time: 9.717943906784058\n",
      "\n"
     ]
    },
    {
     "name": "stderr",
     "output_type": "stream",
     "text": [
      "100%|███████████████████████████████████████████| 40/40 [00:06<00:00,  5.75it/s]\n",
      "100%|███████████████████████████████████████████| 18/18 [00:03<00:00,  5.81it/s]\n"
     ]
    },
    {
     "name": "stdout",
     "output_type": "stream",
     "text": [
      "Epoch : 148 - Train_loss : 0.5416 - Train_Acc: 0.7166 - Val_loss : 0.0025 - Val_Acc: 0.6868  - Time: 10.058977842330933\n",
      "\n"
     ]
    },
    {
     "name": "stderr",
     "output_type": "stream",
     "text": [
      "100%|███████████████████████████████████████████| 40/40 [00:06<00:00,  5.92it/s]\n",
      "100%|███████████████████████████████████████████| 18/18 [00:02<00:00,  6.02it/s]\n"
     ]
    },
    {
     "name": "stdout",
     "output_type": "stream",
     "text": [
      "Epoch : 149 - Train_loss : 0.5469 - Train_Acc: 0.7072 - Val_loss : 0.0025 - Val_Acc: 0.6905  - Time: 9.755921363830566\n",
      "\n"
     ]
    },
    {
     "name": "stderr",
     "output_type": "stream",
     "text": [
      "100%|███████████████████████████████████████████| 40/40 [00:06<00:00,  6.30it/s]\n",
      "100%|███████████████████████████████████████████| 18/18 [00:03<00:00,  5.21it/s]\n"
     ]
    },
    {
     "name": "stdout",
     "output_type": "stream",
     "text": [
      "Epoch : 150 - Train_loss : 0.5446 - Train_Acc: 0.7041 - Val_loss : 0.0025 - Val_Acc: 0.6868  - Time: 9.803385257720947\n",
      "\n"
     ]
    },
    {
     "name": "stderr",
     "output_type": "stream",
     "text": [
      "100%|███████████████████████████████████████████| 40/40 [00:06<00:00,  6.65it/s]\n",
      "100%|███████████████████████████████████████████| 18/18 [00:03<00:00,  4.95it/s]\n"
     ]
    },
    {
     "name": "stdout",
     "output_type": "stream",
     "text": [
      "Epoch : 151 - Train_loss : 0.5423 - Train_Acc: 0.7080 - Val_loss : 0.0025 - Val_Acc: 0.6832  - Time: 9.663067817687988\n",
      "\n"
     ]
    },
    {
     "name": "stderr",
     "output_type": "stream",
     "text": [
      "100%|███████████████████████████████████████████| 40/40 [00:06<00:00,  6.33it/s]\n",
      "100%|███████████████████████████████████████████| 18/18 [00:03<00:00,  5.19it/s]\n"
     ]
    },
    {
     "name": "stdout",
     "output_type": "stream",
     "text": [
      "Epoch : 152 - Train_loss : 0.5432 - Train_Acc: 0.7057 - Val_loss : 0.0025 - Val_Acc: 0.6850  - Time: 9.795707702636719\n",
      "\n"
     ]
    },
    {
     "name": "stderr",
     "output_type": "stream",
     "text": [
      "100%|███████████████████████████████████████████| 40/40 [00:06<00:00,  5.81it/s]\n",
      "100%|███████████████████████████████████████████| 18/18 [00:03<00:00,  5.46it/s]\n"
     ]
    },
    {
     "name": "stdout",
     "output_type": "stream",
     "text": [
      "Epoch : 153 - Train_loss : 0.5422 - Train_Acc: 0.7245 - Val_loss : 0.0025 - Val_Acc: 0.6832  - Time: 10.192532777786255\n",
      "\n"
     ]
    },
    {
     "name": "stderr",
     "output_type": "stream",
     "text": [
      "100%|███████████████████████████████████████████| 40/40 [00:06<00:00,  6.04it/s]\n",
      "100%|███████████████████████████████████████████| 18/18 [00:03<00:00,  5.62it/s]\n"
     ]
    },
    {
     "name": "stdout",
     "output_type": "stream",
     "text": [
      "Epoch : 154 - Train_loss : 0.5441 - Train_Acc: 0.7135 - Val_loss : 0.0025 - Val_Acc: 0.6905  - Time: 9.825140476226807\n",
      "\n"
     ]
    },
    {
     "name": "stderr",
     "output_type": "stream",
     "text": [
      "100%|███████████████████████████████████████████| 40/40 [00:06<00:00,  5.74it/s]\n",
      "100%|███████████████████████████████████████████| 18/18 [00:03<00:00,  5.44it/s]\n"
     ]
    },
    {
     "name": "stdout",
     "output_type": "stream",
     "text": [
      "Epoch : 155 - Train_loss : 0.5398 - Train_Acc: 0.7166 - Val_loss : 0.0025 - Val_Acc: 0.6905  - Time: 10.274731874465942\n",
      "\n"
     ]
    },
    {
     "name": "stderr",
     "output_type": "stream",
     "text": [
      "100%|███████████████████████████████████████████| 40/40 [00:06<00:00,  5.76it/s]\n",
      "100%|███████████████████████████████████████████| 18/18 [00:03<00:00,  5.88it/s]\n"
     ]
    },
    {
     "name": "stdout",
     "output_type": "stream",
     "text": [
      "Epoch : 156 - Train_loss : 0.5430 - Train_Acc: 0.7214 - Val_loss : 0.0025 - Val_Acc: 0.6832  - Time: 10.00666069984436\n",
      "\n"
     ]
    },
    {
     "name": "stderr",
     "output_type": "stream",
     "text": [
      "100%|███████████████████████████████████████████| 40/40 [00:06<00:00,  6.10it/s]\n",
      "100%|███████████████████████████████████████████| 18/18 [00:03<00:00,  5.45it/s]\n"
     ]
    },
    {
     "name": "stdout",
     "output_type": "stream",
     "text": [
      "Epoch : 157 - Train_loss : 0.5416 - Train_Acc: 0.7174 - Val_loss : 0.0025 - Val_Acc: 0.6850  - Time: 9.872968435287476\n",
      "\n"
     ]
    },
    {
     "name": "stderr",
     "output_type": "stream",
     "text": [
      "100%|███████████████████████████████████████████| 40/40 [00:06<00:00,  6.17it/s]\n",
      "100%|███████████████████████████████████████████| 18/18 [00:03<00:00,  4.86it/s]\n"
     ]
    },
    {
     "name": "stdout",
     "output_type": "stream",
     "text": [
      "Epoch : 158 - Train_loss : 0.5409 - Train_Acc: 0.7198 - Val_loss : 0.0025 - Val_Acc: 0.6832  - Time: 10.19157886505127\n",
      "\n"
     ]
    },
    {
     "name": "stderr",
     "output_type": "stream",
     "text": [
      "100%|███████████████████████████████████████████| 40/40 [00:06<00:00,  6.51it/s]\n",
      "100%|███████████████████████████████████████████| 18/18 [00:03<00:00,  4.90it/s]\n"
     ]
    },
    {
     "name": "stdout",
     "output_type": "stream",
     "text": [
      "Epoch : 159 - Train_loss : 0.5407 - Train_Acc: 0.7151 - Val_loss : 0.0025 - Val_Acc: 0.6905  - Time: 9.827398538589478\n",
      "\n"
     ]
    },
    {
     "name": "stderr",
     "output_type": "stream",
     "text": [
      "100%|███████████████████████████████████████████| 40/40 [00:06<00:00,  6.33it/s]\n",
      "100%|███████████████████████████████████████████| 18/18 [00:03<00:00,  5.13it/s]\n"
     ]
    },
    {
     "name": "stdout",
     "output_type": "stream",
     "text": [
      "Epoch : 160 - Train_loss : 0.5377 - Train_Acc: 0.7174 - Val_loss : 0.0025 - Val_Acc: 0.6850  - Time: 9.832624912261963\n",
      "\n"
     ]
    },
    {
     "name": "stderr",
     "output_type": "stream",
     "text": [
      "100%|███████████████████████████████████████████| 40/40 [00:06<00:00,  6.07it/s]\n",
      "100%|███████████████████████████████████████████| 18/18 [00:03<00:00,  5.35it/s]\n"
     ]
    },
    {
     "name": "stdout",
     "output_type": "stream",
     "text": [
      "Epoch : 161 - Train_loss : 0.5456 - Train_Acc: 0.7002 - Val_loss : 0.0025 - Val_Acc: 0.6868  - Time: 9.958361387252808\n",
      "\n"
     ]
    },
    {
     "name": "stderr",
     "output_type": "stream",
     "text": [
      "100%|███████████████████████████████████████████| 40/40 [00:06<00:00,  5.92it/s]\n",
      "100%|███████████████████████████████████████████| 18/18 [00:03<00:00,  5.05it/s]\n"
     ]
    },
    {
     "name": "stdout",
     "output_type": "stream",
     "text": [
      "Epoch : 162 - Train_loss : 0.5404 - Train_Acc: 0.7237 - Val_loss : 0.0025 - Val_Acc: 0.6832  - Time: 10.32610297203064\n",
      "\n"
     ]
    },
    {
     "name": "stderr",
     "output_type": "stream",
     "text": [
      "100%|███████████████████████████████████████████| 40/40 [00:06<00:00,  5.99it/s]\n",
      "100%|███████████████████████████████████████████| 18/18 [00:03<00:00,  5.65it/s]\n"
     ]
    },
    {
     "name": "stdout",
     "output_type": "stream",
     "text": [
      "Epoch : 163 - Train_loss : 0.5411 - Train_Acc: 0.7135 - Val_loss : 0.0025 - Val_Acc: 0.6850  - Time: 9.87098240852356\n",
      "\n"
     ]
    },
    {
     "name": "stderr",
     "output_type": "stream",
     "text": [
      "100%|███████████████████████████████████████████| 40/40 [00:07<00:00,  5.60it/s]\n",
      "100%|███████████████████████████████████████████| 18/18 [00:02<00:00,  6.01it/s]\n"
     ]
    },
    {
     "name": "stdout",
     "output_type": "stream",
     "text": [
      "Epoch : 164 - Train_loss : 0.5402 - Train_Acc: 0.7143 - Val_loss : 0.0025 - Val_Acc: 0.6868  - Time: 10.149470567703247\n",
      "\n"
     ]
    },
    {
     "name": "stderr",
     "output_type": "stream",
     "text": [
      "100%|███████████████████████████████████████████| 40/40 [00:06<00:00,  5.84it/s]\n",
      "100%|███████████████████████████████████████████| 18/18 [00:03<00:00,  5.90it/s]\n"
     ]
    },
    {
     "name": "stdout",
     "output_type": "stream",
     "text": [
      "Epoch : 165 - Train_loss : 0.5444 - Train_Acc: 0.7159 - Val_loss : 0.0025 - Val_Acc: 0.6850  - Time: 9.910242795944214\n",
      "\n"
     ]
    },
    {
     "name": "stderr",
     "output_type": "stream",
     "text": [
      "100%|███████████████████████████████████████████| 40/40 [00:06<00:00,  5.80it/s]\n",
      "100%|███████████████████████████████████████████| 18/18 [00:03<00:00,  5.64it/s]\n"
     ]
    },
    {
     "name": "stdout",
     "output_type": "stream",
     "text": [
      "Epoch : 166 - Train_loss : 0.5382 - Train_Acc: 0.7182 - Val_loss : 0.0025 - Val_Acc: 0.6850  - Time: 10.101430654525757\n",
      "\n"
     ]
    },
    {
     "name": "stderr",
     "output_type": "stream",
     "text": [
      "100%|███████████████████████████████████████████| 40/40 [00:06<00:00,  6.20it/s]\n",
      "100%|███████████████████████████████████████████| 18/18 [00:03<00:00,  5.09it/s]\n"
     ]
    },
    {
     "name": "stdout",
     "output_type": "stream",
     "text": [
      "Epoch : 167 - Train_loss : 0.5381 - Train_Acc: 0.7237 - Val_loss : 0.0025 - Val_Acc: 0.6850  - Time: 9.989225387573242\n",
      "\n"
     ]
    },
    {
     "name": "stderr",
     "output_type": "stream",
     "text": [
      "100%|███████████████████████████████████████████| 40/40 [00:06<00:00,  6.47it/s]\n",
      "100%|███████████████████████████████████████████| 18/18 [00:03<00:00,  4.88it/s]\n"
     ]
    },
    {
     "name": "stdout",
     "output_type": "stream",
     "text": [
      "Epoch : 168 - Train_loss : 0.5394 - Train_Acc: 0.7229 - Val_loss : 0.0025 - Val_Acc: 0.6850  - Time: 9.875446557998657\n",
      "\n"
     ]
    },
    {
     "name": "stderr",
     "output_type": "stream",
     "text": [
      "100%|███████████████████████████████████████████| 40/40 [00:06<00:00,  5.83it/s]\n",
      "100%|███████████████████████████████████████████| 18/18 [00:03<00:00,  5.01it/s]\n"
     ]
    },
    {
     "name": "stdout",
     "output_type": "stream",
     "text": [
      "Epoch : 169 - Train_loss : 0.5375 - Train_Acc: 0.7206 - Val_loss : 0.0025 - Val_Acc: 0.6850  - Time: 10.459078073501587\n",
      "\n"
     ]
    },
    {
     "name": "stderr",
     "output_type": "stream",
     "text": [
      "100%|███████████████████████████████████████████| 40/40 [00:06<00:00,  6.06it/s]\n",
      "100%|███████████████████████████████████████████| 18/18 [00:03<00:00,  5.59it/s]\n"
     ]
    },
    {
     "name": "stdout",
     "output_type": "stream",
     "text": [
      "Epoch : 170 - Train_loss : 0.5424 - Train_Acc: 0.7135 - Val_loss : 0.0025 - Val_Acc: 0.6832  - Time: 9.828658819198608\n",
      "\n"
     ]
    },
    {
     "name": "stderr",
     "output_type": "stream",
     "text": [
      "100%|███████████████████████████████████████████| 40/40 [00:06<00:00,  6.18it/s]\n",
      "100%|███████████████████████████████████████████| 18/18 [00:03<00:00,  5.50it/s]\n"
     ]
    },
    {
     "name": "stdout",
     "output_type": "stream",
     "text": [
      "Epoch : 171 - Train_loss : 0.5401 - Train_Acc: 0.7104 - Val_loss : 0.0025 - Val_Acc: 0.6813  - Time: 9.751876592636108\n",
      "\n"
     ]
    },
    {
     "name": "stderr",
     "output_type": "stream",
     "text": [
      "100%|███████████████████████████████████████████| 40/40 [00:06<00:00,  5.80it/s]\n",
      "100%|███████████████████████████████████████████| 18/18 [00:03<00:00,  5.28it/s]\n"
     ]
    },
    {
     "name": "stdout",
     "output_type": "stream",
     "text": [
      "Epoch : 172 - Train_loss : 0.5355 - Train_Acc: 0.7221 - Val_loss : 0.0025 - Val_Acc: 0.6832  - Time: 10.309144973754883\n",
      "\n"
     ]
    },
    {
     "name": "stderr",
     "output_type": "stream",
     "text": [
      "100%|███████████████████████████████████████████| 40/40 [00:06<00:00,  6.09it/s]\n",
      "100%|███████████████████████████████████████████| 18/18 [00:02<00:00,  6.03it/s]\n"
     ]
    },
    {
     "name": "stdout",
     "output_type": "stream",
     "text": [
      "Epoch : 173 - Train_loss : 0.5383 - Train_Acc: 0.7221 - Val_loss : 0.0025 - Val_Acc: 0.6850  - Time: 9.561481475830078\n",
      "\n"
     ]
    },
    {
     "name": "stderr",
     "output_type": "stream",
     "text": [
      "100%|███████████████████████████████████████████| 40/40 [00:06<00:00,  6.04it/s]\n",
      "100%|███████████████████████████████████████████| 18/18 [00:03<00:00,  5.45it/s]\n"
     ]
    },
    {
     "name": "stdout",
     "output_type": "stream",
     "text": [
      "Epoch : 174 - Train_loss : 0.5386 - Train_Acc: 0.7198 - Val_loss : 0.0025 - Val_Acc: 0.6832  - Time: 9.930582284927368\n",
      "\n"
     ]
    },
    {
     "name": "stderr",
     "output_type": "stream",
     "text": [
      "100%|███████████████████████████████████████████| 40/40 [00:06<00:00,  6.06it/s]\n",
      "100%|███████████████████████████████████████████| 18/18 [00:03<00:00,  4.97it/s]\n"
     ]
    },
    {
     "name": "stdout",
     "output_type": "stream",
     "text": [
      "Epoch : 175 - Train_loss : 0.5381 - Train_Acc: 0.7119 - Val_loss : 0.0025 - Val_Acc: 0.6795  - Time: 10.223663568496704\n",
      "\n"
     ]
    },
    {
     "name": "stderr",
     "output_type": "stream",
     "text": [
      "100%|███████████████████████████████████████████| 40/40 [00:06<00:00,  6.39it/s]\n",
      "100%|███████████████████████████████████████████| 18/18 [00:03<00:00,  4.87it/s]\n"
     ]
    },
    {
     "name": "stdout",
     "output_type": "stream",
     "text": [
      "Epoch : 176 - Train_loss : 0.5410 - Train_Acc: 0.7229 - Val_loss : 0.0025 - Val_Acc: 0.6777  - Time: 9.969026327133179\n",
      "\n"
     ]
    },
    {
     "name": "stderr",
     "output_type": "stream",
     "text": [
      "100%|███████████████████████████████████████████| 40/40 [00:06<00:00,  6.08it/s]\n",
      "100%|███████████████████████████████████████████| 18/18 [00:03<00:00,  4.85it/s]\n"
     ]
    },
    {
     "name": "stdout",
     "output_type": "stream",
     "text": [
      "Epoch : 177 - Train_loss : 0.5440 - Train_Acc: 0.7182 - Val_loss : 0.0025 - Val_Acc: 0.6850  - Time: 10.292921781539917\n",
      "\n"
     ]
    },
    {
     "name": "stderr",
     "output_type": "stream",
     "text": [
      "100%|███████████████████████████████████████████| 40/40 [00:06<00:00,  6.33it/s]\n",
      "100%|███████████████████████████████████████████| 18/18 [00:03<00:00,  5.55it/s]\n"
     ]
    },
    {
     "name": "stdout",
     "output_type": "stream",
     "text": [
      "Epoch : 178 - Train_loss : 0.5421 - Train_Acc: 0.7135 - Val_loss : 0.0025 - Val_Acc: 0.6795  - Time: 9.570500135421753\n",
      "\n"
     ]
    },
    {
     "name": "stderr",
     "output_type": "stream",
     "text": [
      "100%|███████████████████████████████████████████| 40/40 [00:06<00:00,  6.01it/s]\n",
      "100%|███████████████████████████████████████████| 18/18 [00:03<00:00,  5.41it/s]\n"
     ]
    },
    {
     "name": "stdout",
     "output_type": "stream",
     "text": [
      "Epoch : 179 - Train_loss : 0.5404 - Train_Acc: 0.7104 - Val_loss : 0.0025 - Val_Acc: 0.6813  - Time: 9.991718053817749\n",
      "\n"
     ]
    },
    {
     "name": "stderr",
     "output_type": "stream",
     "text": [
      "100%|███████████████████████████████████████████| 40/40 [00:06<00:00,  5.88it/s]\n",
      "100%|███████████████████████████████████████████| 18/18 [00:03<00:00,  5.55it/s]\n"
     ]
    },
    {
     "name": "stdout",
     "output_type": "stream",
     "text": [
      "Epoch : 180 - Train_loss : 0.5424 - Train_Acc: 0.7111 - Val_loss : 0.0025 - Val_Acc: 0.6813  - Time: 10.051669120788574\n",
      "\n"
     ]
    },
    {
     "name": "stderr",
     "output_type": "stream",
     "text": [
      "100%|███████████████████████████████████████████| 40/40 [00:06<00:00,  5.74it/s]\n",
      "100%|███████████████████████████████████████████| 18/18 [00:02<00:00,  6.27it/s]\n"
     ]
    },
    {
     "name": "stdout",
     "output_type": "stream",
     "text": [
      "Epoch : 181 - Train_loss : 0.5406 - Train_Acc: 0.7253 - Val_loss : 0.0025 - Val_Acc: 0.6795  - Time: 9.845390319824219\n",
      "\n"
     ]
    },
    {
     "name": "stderr",
     "output_type": "stream",
     "text": [
      "100%|███████████████████████████████████████████| 40/40 [00:07<00:00,  5.67it/s]\n",
      "100%|███████████████████████████████████████████| 18/18 [00:02<00:00,  6.02it/s]\n"
     ]
    },
    {
     "name": "stdout",
     "output_type": "stream",
     "text": [
      "Epoch : 182 - Train_loss : 0.5390 - Train_Acc: 0.7214 - Val_loss : 0.0025 - Val_Acc: 0.6813  - Time: 10.054179191589355\n",
      "\n"
     ]
    },
    {
     "name": "stderr",
     "output_type": "stream",
     "text": [
      "100%|███████████████████████████████████████████| 40/40 [00:06<00:00,  5.86it/s]\n",
      "100%|███████████████████████████████████████████| 18/18 [00:03<00:00,  5.44it/s]\n"
     ]
    },
    {
     "name": "stdout",
     "output_type": "stream",
     "text": [
      "Epoch : 183 - Train_loss : 0.5425 - Train_Acc: 0.7096 - Val_loss : 0.0025 - Val_Acc: 0.6795  - Time: 10.141770839691162\n",
      "\n"
     ]
    },
    {
     "name": "stderr",
     "output_type": "stream",
     "text": [
      "100%|███████████████████████████████████████████| 40/40 [00:06<00:00,  6.01it/s]\n",
      "100%|███████████████████████████████████████████| 18/18 [00:03<00:00,  5.17it/s]\n"
     ]
    },
    {
     "name": "stdout",
     "output_type": "stream",
     "text": [
      "Epoch : 184 - Train_loss : 0.5383 - Train_Acc: 0.7151 - Val_loss : 0.0025 - Val_Acc: 0.6795  - Time: 10.147291898727417\n",
      "\n"
     ]
    },
    {
     "name": "stderr",
     "output_type": "stream",
     "text": [
      "100%|███████████████████████████████████████████| 40/40 [00:06<00:00,  6.29it/s]\n",
      "100%|███████████████████████████████████████████| 18/18 [00:03<00:00,  5.13it/s]\n"
     ]
    },
    {
     "name": "stdout",
     "output_type": "stream",
     "text": [
      "Epoch : 185 - Train_loss : 0.5380 - Train_Acc: 0.7151 - Val_loss : 0.0025 - Val_Acc: 0.6795  - Time: 9.87801218032837\n",
      "\n"
     ]
    },
    {
     "name": "stderr",
     "output_type": "stream",
     "text": [
      "100%|███████████████████████████████████████████| 40/40 [00:06<00:00,  6.21it/s]\n",
      "100%|███████████████████████████████████████████| 18/18 [00:03<00:00,  5.61it/s]\n"
     ]
    },
    {
     "name": "stdout",
     "output_type": "stream",
     "text": [
      "Epoch : 186 - Train_loss : 0.5383 - Train_Acc: 0.7245 - Val_loss : 0.0025 - Val_Acc: 0.6795  - Time: 9.65392279624939\n",
      "\n"
     ]
    },
    {
     "name": "stderr",
     "output_type": "stream",
     "text": [
      "100%|███████████████████████████████████████████| 40/40 [00:06<00:00,  6.16it/s]\n",
      "100%|███████████████████████████████████████████| 18/18 [00:03<00:00,  5.47it/s]\n"
     ]
    },
    {
     "name": "stdout",
     "output_type": "stream",
     "text": [
      "Epoch : 187 - Train_loss : 0.5343 - Train_Acc: 0.7221 - Val_loss : 0.0025 - Val_Acc: 0.6813  - Time: 9.792870044708252\n",
      "\n"
     ]
    },
    {
     "name": "stderr",
     "output_type": "stream",
     "text": [
      "100%|███████████████████████████████████████████| 40/40 [00:06<00:00,  5.89it/s]\n",
      "100%|███████████████████████████████████████████| 18/18 [00:03<00:00,  5.76it/s]\n"
     ]
    },
    {
     "name": "stdout",
     "output_type": "stream",
     "text": [
      "Epoch : 188 - Train_loss : 0.5422 - Train_Acc: 0.7221 - Val_loss : 0.0025 - Val_Acc: 0.6795  - Time: 9.919366359710693\n",
      "\n"
     ]
    },
    {
     "name": "stderr",
     "output_type": "stream",
     "text": [
      "100%|███████████████████████████████████████████| 40/40 [00:06<00:00,  6.07it/s]\n",
      "100%|███████████████████████████████████████████| 18/18 [00:02<00:00,  6.21it/s]\n"
     ]
    },
    {
     "name": "stdout",
     "output_type": "stream",
     "text": [
      "Epoch : 189 - Train_loss : 0.5376 - Train_Acc: 0.7182 - Val_loss : 0.0025 - Val_Acc: 0.6795  - Time: 9.493556499481201\n",
      "\n"
     ]
    },
    {
     "name": "stderr",
     "output_type": "stream",
     "text": [
      "100%|███████████████████████████████████████████| 40/40 [00:06<00:00,  6.00it/s]\n",
      "100%|███████████████████████████████████████████| 18/18 [00:03<00:00,  5.51it/s]\n"
     ]
    },
    {
     "name": "stdout",
     "output_type": "stream",
     "text": [
      "Epoch : 190 - Train_loss : 0.5395 - Train_Acc: 0.7135 - Val_loss : 0.0025 - Val_Acc: 0.6777  - Time: 9.94049620628357\n",
      "\n"
     ]
    },
    {
     "name": "stderr",
     "output_type": "stream",
     "text": [
      "100%|███████████████████████████████████████████| 40/40 [00:06<00:00,  6.39it/s]\n",
      "100%|███████████████████████████████████████████| 18/18 [00:03<00:00,  5.19it/s]\n"
     ]
    },
    {
     "name": "stdout",
     "output_type": "stream",
     "text": [
      "Epoch : 191 - Train_loss : 0.5396 - Train_Acc: 0.7159 - Val_loss : 0.0025 - Val_Acc: 0.6795  - Time: 9.733256578445435\n",
      "\n"
     ]
    },
    {
     "name": "stderr",
     "output_type": "stream",
     "text": [
      "100%|███████████████████████████████████████████| 40/40 [00:05<00:00,  6.69it/s]\n",
      "100%|███████████████████████████████████████████| 18/18 [00:03<00:00,  4.98it/s]\n"
     ]
    },
    {
     "name": "stdout",
     "output_type": "stream",
     "text": [
      "Epoch : 192 - Train_loss : 0.5313 - Train_Acc: 0.7253 - Val_loss : 0.0025 - Val_Acc: 0.6777  - Time: 9.599459171295166\n",
      "\n"
     ]
    },
    {
     "name": "stderr",
     "output_type": "stream",
     "text": [
      "100%|███████████████████████████████████████████| 40/40 [00:06<00:00,  5.94it/s]\n",
      "100%|███████████████████████████████████████████| 18/18 [00:03<00:00,  5.40it/s]\n"
     ]
    },
    {
     "name": "stdout",
     "output_type": "stream",
     "text": [
      "Epoch : 193 - Train_loss : 0.5369 - Train_Acc: 0.7135 - Val_loss : 0.0025 - Val_Acc: 0.6777  - Time: 10.077586650848389\n",
      "\n"
     ]
    },
    {
     "name": "stderr",
     "output_type": "stream",
     "text": [
      "100%|███████████████████████████████████████████| 40/40 [00:06<00:00,  6.21it/s]\n",
      "100%|███████████████████████████████████████████| 18/18 [00:03<00:00,  5.33it/s]\n"
     ]
    },
    {
     "name": "stdout",
     "output_type": "stream",
     "text": [
      "Epoch : 194 - Train_loss : 0.5377 - Train_Acc: 0.7182 - Val_loss : 0.0025 - Val_Acc: 0.6777  - Time: 9.822476625442505\n",
      "\n"
     ]
    },
    {
     "name": "stderr",
     "output_type": "stream",
     "text": [
      "100%|███████████████████████████████████████████| 40/40 [00:06<00:00,  6.11it/s]\n",
      "100%|███████████████████████████████████████████| 18/18 [00:03<00:00,  5.37it/s]\n"
     ]
    },
    {
     "name": "stdout",
     "output_type": "stream",
     "text": [
      "Epoch : 195 - Train_loss : 0.5411 - Train_Acc: 0.7119 - Val_loss : 0.0025 - Val_Acc: 0.6777  - Time: 9.906173467636108\n",
      "\n"
     ]
    },
    {
     "name": "stderr",
     "output_type": "stream",
     "text": [
      "100%|███████████████████████████████████████████| 40/40 [00:07<00:00,  5.56it/s]\n",
      "100%|███████████████████████████████████████████| 18/18 [00:02<00:00,  6.13it/s]\n"
     ]
    },
    {
     "name": "stdout",
     "output_type": "stream",
     "text": [
      "Epoch : 196 - Train_loss : 0.5397 - Train_Acc: 0.7143 - Val_loss : 0.0025 - Val_Acc: 0.6795  - Time: 10.131781101226807\n",
      "\n"
     ]
    },
    {
     "name": "stderr",
     "output_type": "stream",
     "text": [
      "100%|███████████████████████████████████████████| 40/40 [00:06<00:00,  6.24it/s]\n",
      "100%|███████████████████████████████████████████| 18/18 [00:03<00:00,  5.59it/s]\n"
     ]
    },
    {
     "name": "stdout",
     "output_type": "stream",
     "text": [
      "Epoch : 197 - Train_loss : 0.5401 - Train_Acc: 0.7214 - Val_loss : 0.0025 - Val_Acc: 0.6813  - Time: 9.63252592086792\n",
      "\n"
     ]
    },
    {
     "name": "stderr",
     "output_type": "stream",
     "text": [
      "100%|███████████████████████████████████████████| 40/40 [00:06<00:00,  6.10it/s]\n",
      "100%|███████████████████████████████████████████| 18/18 [00:03<00:00,  4.98it/s]\n"
     ]
    },
    {
     "name": "stdout",
     "output_type": "stream",
     "text": [
      "Epoch : 198 - Train_loss : 0.5381 - Train_Acc: 0.7221 - Val_loss : 0.0025 - Val_Acc: 0.6777  - Time: 10.181339263916016\n",
      "\n"
     ]
    },
    {
     "name": "stderr",
     "output_type": "stream",
     "text": [
      "100%|███████████████████████████████████████████| 40/40 [00:05<00:00,  6.67it/s]\n",
      "100%|███████████████████████████████████████████| 18/18 [00:03<00:00,  4.90it/s]\n"
     ]
    },
    {
     "name": "stdout",
     "output_type": "stream",
     "text": [
      "Epoch : 199 - Train_loss : 0.5401 - Train_Acc: 0.7214 - Val_loss : 0.0025 - Val_Acc: 0.6777  - Time: 9.676738977432251\n",
      "\n"
     ]
    },
    {
     "name": "stderr",
     "output_type": "stream",
     "text": [
      "100%|███████████████████████████████████████████| 40/40 [00:06<00:00,  6.33it/s]\n",
      "100%|███████████████████████████████████████████| 18/18 [00:03<00:00,  5.10it/s]\n"
     ]
    },
    {
     "name": "stdout",
     "output_type": "stream",
     "text": [
      "Epoch : 200 - Train_loss : 0.5388 - Train_Acc: 0.7214 - Val_loss : 0.0025 - Val_Acc: 0.6758  - Time: 9.847729444503784\n",
      "\n"
     ]
    },
    {
     "name": "stderr",
     "output_type": "stream",
     "text": [
      "100%|███████████████████████████████████████████| 40/40 [00:07<00:00,  5.66it/s]\n",
      "100%|███████████████████████████████████████████| 18/18 [00:03<00:00,  5.27it/s]\n"
     ]
    },
    {
     "name": "stdout",
     "output_type": "stream",
     "text": [
      "Epoch : 201 - Train_loss : 0.5418 - Train_Acc: 0.7214 - Val_loss : 0.0025 - Val_Acc: 0.6795  - Time: 10.489267587661743\n",
      "\n"
     ]
    },
    {
     "name": "stderr",
     "output_type": "stream",
     "text": [
      "100%|███████████████████████████████████████████| 40/40 [00:06<00:00,  5.99it/s]\n",
      "100%|███████████████████████████████████████████| 18/18 [00:03<00:00,  5.64it/s]\n"
     ]
    },
    {
     "name": "stdout",
     "output_type": "stream",
     "text": [
      "Epoch : 202 - Train_loss : 0.5394 - Train_Acc: 0.7174 - Val_loss : 0.0025 - Val_Acc: 0.6795  - Time: 9.872786521911621\n",
      "\n"
     ]
    },
    {
     "name": "stderr",
     "output_type": "stream",
     "text": [
      "100%|███████████████████████████████████████████| 40/40 [00:06<00:00,  6.11it/s]\n",
      "100%|███████████████████████████████████████████| 18/18 [00:03<00:00,  5.42it/s]\n"
     ]
    },
    {
     "name": "stdout",
     "output_type": "stream",
     "text": [
      "Epoch : 203 - Train_loss : 0.5361 - Train_Acc: 0.7143 - Val_loss : 0.0025 - Val_Acc: 0.6758  - Time: 9.870046615600586\n",
      "\n"
     ]
    },
    {
     "name": "stderr",
     "output_type": "stream",
     "text": [
      "100%|███████████████████████████████████████████| 40/40 [00:06<00:00,  5.76it/s]\n",
      "100%|███████████████████████████████████████████| 18/18 [00:02<00:00,  6.19it/s]\n"
     ]
    },
    {
     "name": "stdout",
     "output_type": "stream",
     "text": [
      "Epoch : 204 - Train_loss : 0.5375 - Train_Acc: 0.7214 - Val_loss : 0.0025 - Val_Acc: 0.6795  - Time: 9.856666803359985\n",
      "\n"
     ]
    },
    {
     "name": "stderr",
     "output_type": "stream",
     "text": [
      "100%|███████████████████████████████████████████| 40/40 [00:06<00:00,  5.91it/s]\n",
      "100%|███████████████████████████████████████████| 18/18 [00:03<00:00,  5.79it/s]\n"
     ]
    },
    {
     "name": "stdout",
     "output_type": "stream",
     "text": [
      "Epoch : 205 - Train_loss : 0.5408 - Train_Acc: 0.7229 - Val_loss : 0.0025 - Val_Acc: 0.6758  - Time: 9.880706310272217\n",
      "\n"
     ]
    },
    {
     "name": "stderr",
     "output_type": "stream",
     "text": [
      "100%|███████████████████████████████████████████| 40/40 [00:06<00:00,  6.00it/s]\n",
      "100%|███████████████████████████████████████████| 18/18 [00:03<00:00,  5.20it/s]\n"
     ]
    },
    {
     "name": "stdout",
     "output_type": "stream",
     "text": [
      "Epoch : 206 - Train_loss : 0.5361 - Train_Acc: 0.7276 - Val_loss : 0.0025 - Val_Acc: 0.6777  - Time: 10.13377070426941\n",
      "\n"
     ]
    },
    {
     "name": "stderr",
     "output_type": "stream",
     "text": [
      "100%|███████████████████████████████████████████| 40/40 [00:06<00:00,  6.58it/s]\n",
      "100%|███████████████████████████████████████████| 18/18 [00:03<00:00,  4.82it/s]\n"
     ]
    },
    {
     "name": "stdout",
     "output_type": "stream",
     "text": [
      "Epoch : 207 - Train_loss : 0.5371 - Train_Acc: 0.7214 - Val_loss : 0.0025 - Val_Acc: 0.6777  - Time: 9.823930740356445\n",
      "\n"
     ]
    },
    {
     "name": "stderr",
     "output_type": "stream",
     "text": [
      "100%|███████████████████████████████████████████| 40/40 [00:06<00:00,  6.55it/s]\n",
      "100%|███████████████████████████████████████████| 18/18 [00:03<00:00,  5.09it/s]\n"
     ]
    },
    {
     "name": "stdout",
     "output_type": "stream",
     "text": [
      "Epoch : 208 - Train_loss : 0.5365 - Train_Acc: 0.7198 - Val_loss : 0.0026 - Val_Acc: 0.6777  - Time: 9.647798776626587\n",
      "\n"
     ]
    },
    {
     "name": "stderr",
     "output_type": "stream",
     "text": [
      "100%|███████████████████████████████████████████| 40/40 [00:06<00:00,  5.94it/s]\n",
      "100%|███████████████████████████████████████████| 18/18 [00:03<00:00,  5.30it/s]\n"
     ]
    },
    {
     "name": "stdout",
     "output_type": "stream",
     "text": [
      "Epoch : 209 - Train_loss : 0.5399 - Train_Acc: 0.7206 - Val_loss : 0.0025 - Val_Acc: 0.6777  - Time: 10.137857913970947\n",
      "\n"
     ]
    },
    {
     "name": "stderr",
     "output_type": "stream",
     "text": [
      "100%|███████████████████████████████████████████| 40/40 [00:06<00:00,  6.12it/s]\n",
      "100%|███████████████████████████████████████████| 18/18 [00:03<00:00,  5.22it/s]\n"
     ]
    },
    {
     "name": "stdout",
     "output_type": "stream",
     "text": [
      "Epoch : 210 - Train_loss : 0.5362 - Train_Acc: 0.7159 - Val_loss : 0.0025 - Val_Acc: 0.6777  - Time: 9.99499249458313\n",
      "\n"
     ]
    },
    {
     "name": "stderr",
     "output_type": "stream",
     "text": [
      "100%|███████████████████████████████████████████| 40/40 [00:06<00:00,  6.08it/s]\n",
      "100%|███████████████████████████████████████████| 18/18 [00:03<00:00,  5.45it/s]\n"
     ]
    },
    {
     "name": "stdout",
     "output_type": "stream",
     "text": [
      "Epoch : 211 - Train_loss : 0.5380 - Train_Acc: 0.7206 - Val_loss : 0.0025 - Val_Acc: 0.6777  - Time: 9.886770725250244\n",
      "\n"
     ]
    },
    {
     "name": "stderr",
     "output_type": "stream",
     "text": [
      "100%|███████████████████████████████████████████| 40/40 [00:06<00:00,  5.80it/s]\n",
      "100%|███████████████████████████████████████████| 18/18 [00:02<00:00,  6.17it/s]\n"
     ]
    },
    {
     "name": "stdout",
     "output_type": "stream",
     "text": [
      "Epoch : 212 - Train_loss : 0.5325 - Train_Acc: 0.7268 - Val_loss : 0.0025 - Val_Acc: 0.6758  - Time: 9.825826168060303\n",
      "\n"
     ]
    },
    {
     "name": "stderr",
     "output_type": "stream",
     "text": [
      "100%|███████████████████████████████████████████| 40/40 [00:06<00:00,  5.77it/s]\n",
      "100%|███████████████████████████████████████████| 18/18 [00:03<00:00,  5.90it/s]\n"
     ]
    },
    {
     "name": "stdout",
     "output_type": "stream",
     "text": [
      "Epoch : 213 - Train_loss : 0.5369 - Train_Acc: 0.7174 - Val_loss : 0.0025 - Val_Acc: 0.6777  - Time: 9.986503601074219\n",
      "\n"
     ]
    },
    {
     "name": "stderr",
     "output_type": "stream",
     "text": [
      "100%|███████████████████████████████████████████| 40/40 [00:06<00:00,  6.12it/s]\n",
      "100%|███████████████████████████████████████████| 18/18 [00:03<00:00,  5.13it/s]\n"
     ]
    },
    {
     "name": "stdout",
     "output_type": "stream",
     "text": [
      "Epoch : 214 - Train_loss : 0.5367 - Train_Acc: 0.7182 - Val_loss : 0.0025 - Val_Acc: 0.6777  - Time: 10.047592639923096\n",
      "\n"
     ]
    },
    {
     "name": "stderr",
     "output_type": "stream",
     "text": [
      "100%|███████████████████████████████████████████| 40/40 [00:06<00:00,  6.44it/s]\n",
      "100%|███████████████████████████████████████████| 18/18 [00:03<00:00,  5.22it/s]\n"
     ]
    },
    {
     "name": "stdout",
     "output_type": "stream",
     "text": [
      "Epoch : 215 - Train_loss : 0.5358 - Train_Acc: 0.7253 - Val_loss : 0.0025 - Val_Acc: 0.6777  - Time: 9.659452676773071\n",
      "\n"
     ]
    },
    {
     "name": "stderr",
     "output_type": "stream",
     "text": [
      "100%|███████████████████████████████████████████| 40/40 [00:06<00:00,  6.36it/s]\n",
      "100%|███████████████████████████████████████████| 18/18 [00:03<00:00,  5.54it/s]\n"
     ]
    },
    {
     "name": "stdout",
     "output_type": "stream",
     "text": [
      "Epoch : 216 - Train_loss : 0.5370 - Train_Acc: 0.7127 - Val_loss : 0.0025 - Val_Acc: 0.6777  - Time: 9.541516065597534\n",
      "\n"
     ]
    },
    {
     "name": "stderr",
     "output_type": "stream",
     "text": [
      "100%|███████████████████████████████████████████| 40/40 [00:06<00:00,  6.03it/s]\n",
      "100%|███████████████████████████████████████████| 18/18 [00:03<00:00,  5.75it/s]\n"
     ]
    },
    {
     "name": "stdout",
     "output_type": "stream",
     "text": [
      "Epoch : 217 - Train_loss : 0.5397 - Train_Acc: 0.7174 - Val_loss : 0.0025 - Val_Acc: 0.6777  - Time: 9.771161317825317\n",
      "\n"
     ]
    },
    {
     "name": "stderr",
     "output_type": "stream",
     "text": [
      "100%|███████████████████████████████████████████| 40/40 [00:06<00:00,  5.95it/s]\n",
      "100%|███████████████████████████████████████████| 18/18 [00:03<00:00,  5.32it/s]\n"
     ]
    },
    {
     "name": "stdout",
     "output_type": "stream",
     "text": [
      "Epoch : 218 - Train_loss : 0.5395 - Train_Acc: 0.7237 - Val_loss : 0.0025 - Val_Acc: 0.6777  - Time: 10.107344627380371\n",
      "\n"
     ]
    },
    {
     "name": "stderr",
     "output_type": "stream",
     "text": [
      "100%|███████████████████████████████████████████| 40/40 [00:06<00:00,  5.90it/s]\n",
      "100%|███████████████████████████████████████████| 18/18 [00:02<00:00,  6.09it/s]\n"
     ]
    },
    {
     "name": "stdout",
     "output_type": "stream",
     "text": [
      "Epoch : 219 - Train_loss : 0.5368 - Train_Acc: 0.7198 - Val_loss : 0.0025 - Val_Acc: 0.6758  - Time: 9.743315696716309\n",
      "\n"
     ]
    },
    {
     "name": "stderr",
     "output_type": "stream",
     "text": [
      "100%|███████████████████████████████████████████| 40/40 [00:06<00:00,  5.96it/s]\n",
      "100%|███████████████████████████████████████████| 18/18 [00:03<00:00,  5.76it/s]\n"
     ]
    },
    {
     "name": "stdout",
     "output_type": "stream",
     "text": [
      "Epoch : 220 - Train_loss : 0.5328 - Train_Acc: 0.7292 - Val_loss : 0.0025 - Val_Acc: 0.6758  - Time: 9.847320318222046\n",
      "\n"
     ]
    },
    {
     "name": "stderr",
     "output_type": "stream",
     "text": [
      "100%|███████████████████████████████████████████| 40/40 [00:06<00:00,  6.19it/s]\n",
      "100%|███████████████████████████████████████████| 18/18 [00:03<00:00,  4.99it/s]\n"
     ]
    },
    {
     "name": "stdout",
     "output_type": "stream",
     "text": [
      "Epoch : 221 - Train_loss : 0.5347 - Train_Acc: 0.7221 - Val_loss : 0.0025 - Val_Acc: 0.6758  - Time: 10.076955318450928\n",
      "\n"
     ]
    },
    {
     "name": "stderr",
     "output_type": "stream",
     "text": [
      "100%|███████████████████████████████████████████| 40/40 [00:06<00:00,  6.61it/s]\n",
      "100%|███████████████████████████████████████████| 18/18 [00:03<00:00,  5.01it/s]\n"
     ]
    },
    {
     "name": "stdout",
     "output_type": "stream",
     "text": [
      "Epoch : 222 - Train_loss : 0.5357 - Train_Acc: 0.7229 - Val_loss : 0.0025 - Val_Acc: 0.6758  - Time: 9.656276941299438\n",
      "\n"
     ]
    },
    {
     "name": "stderr",
     "output_type": "stream",
     "text": [
      "100%|███████████████████████████████████████████| 40/40 [00:06<00:00,  6.20it/s]\n",
      "100%|███████████████████████████████████████████| 18/18 [00:03<00:00,  5.00it/s]\n"
     ]
    },
    {
     "name": "stdout",
     "output_type": "stream",
     "text": [
      "Epoch : 223 - Train_loss : 0.5334 - Train_Acc: 0.7143 - Val_loss : 0.0026 - Val_Acc: 0.6777  - Time: 10.052279233932495\n",
      "\n"
     ]
    },
    {
     "name": "stderr",
     "output_type": "stream",
     "text": [
      "100%|███████████████████████████████████████████| 40/40 [00:06<00:00,  6.29it/s]\n",
      "100%|███████████████████████████████████████████| 18/18 [00:03<00:00,  5.59it/s]\n"
     ]
    },
    {
     "name": "stdout",
     "output_type": "stream",
     "text": [
      "Epoch : 224 - Train_loss : 0.5300 - Train_Acc: 0.7206 - Val_loss : 0.0025 - Val_Acc: 0.6777  - Time: 9.584012508392334\n",
      "\n"
     ]
    },
    {
     "name": "stderr",
     "output_type": "stream",
     "text": [
      "100%|███████████████████████████████████████████| 40/40 [00:06<00:00,  6.02it/s]\n",
      "100%|███████████████████████████████████████████| 18/18 [00:03<00:00,  5.16it/s]\n"
     ]
    },
    {
     "name": "stdout",
     "output_type": "stream",
     "text": [
      "Epoch : 225 - Train_loss : 0.5368 - Train_Acc: 0.7159 - Val_loss : 0.0025 - Val_Acc: 0.6758  - Time: 10.138163328170776\n",
      "\n"
     ]
    },
    {
     "name": "stderr",
     "output_type": "stream",
     "text": [
      "100%|███████████████████████████████████████████| 40/40 [00:06<00:00,  5.85it/s]\n",
      "100%|███████████████████████████████████████████| 18/18 [00:03<00:00,  5.38it/s]\n"
     ]
    },
    {
     "name": "stdout",
     "output_type": "stream",
     "text": [
      "Epoch : 226 - Train_loss : 0.5346 - Train_Acc: 0.7159 - Val_loss : 0.0025 - Val_Acc: 0.6758  - Time: 10.18681788444519\n",
      "\n"
     ]
    },
    {
     "name": "stderr",
     "output_type": "stream",
     "text": [
      "100%|███████████████████████████████████████████| 40/40 [00:06<00:00,  5.83it/s]\n",
      "100%|███████████████████████████████████████████| 18/18 [00:03<00:00,  5.89it/s]\n"
     ]
    },
    {
     "name": "stdout",
     "output_type": "stream",
     "text": [
      "Epoch : 227 - Train_loss : 0.5315 - Train_Acc: 0.7174 - Val_loss : 0.0025 - Val_Acc: 0.6777  - Time: 9.929446935653687\n",
      "\n"
     ]
    },
    {
     "name": "stderr",
     "output_type": "stream",
     "text": [
      "100%|███████████████████████████████████████████| 40/40 [00:06<00:00,  5.89it/s]\n",
      "100%|███████████████████████████████████████████| 18/18 [00:03<00:00,  5.78it/s]\n"
     ]
    },
    {
     "name": "stdout",
     "output_type": "stream",
     "text": [
      "Epoch : 228 - Train_loss : 0.5398 - Train_Acc: 0.7229 - Val_loss : 0.0025 - Val_Acc: 0.6777  - Time: 9.916353702545166\n",
      "\n"
     ]
    },
    {
     "name": "stderr",
     "output_type": "stream",
     "text": [
      "100%|███████████████████████████████████████████| 40/40 [00:06<00:00,  6.00it/s]\n",
      "100%|███████████████████████████████████████████| 18/18 [00:03<00:00,  5.26it/s]\n"
     ]
    },
    {
     "name": "stdout",
     "output_type": "stream",
     "text": [
      "Epoch : 229 - Train_loss : 0.5372 - Train_Acc: 0.7151 - Val_loss : 0.0025 - Val_Acc: 0.6777  - Time: 10.097261428833008\n",
      "\n"
     ]
    },
    {
     "name": "stderr",
     "output_type": "stream",
     "text": [
      "100%|███████████████████████████████████████████| 40/40 [00:06<00:00,  6.50it/s]\n",
      "100%|███████████████████████████████████████████| 18/18 [00:03<00:00,  5.01it/s]\n"
     ]
    },
    {
     "name": "stdout",
     "output_type": "stream",
     "text": [
      "Epoch : 230 - Train_loss : 0.5384 - Train_Acc: 0.7135 - Val_loss : 0.0025 - Val_Acc: 0.6777  - Time: 9.755105257034302\n",
      "\n"
     ]
    },
    {
     "name": "stderr",
     "output_type": "stream",
     "text": [
      "100%|███████████████████████████████████████████| 40/40 [00:06<00:00,  6.44it/s]\n",
      "100%|███████████████████████████████████████████| 18/18 [00:03<00:00,  4.95it/s]\n"
     ]
    },
    {
     "name": "stdout",
     "output_type": "stream",
     "text": [
      "Epoch : 231 - Train_loss : 0.5354 - Train_Acc: 0.7214 - Val_loss : 0.0025 - Val_Acc: 0.6758  - Time: 9.859781265258789\n",
      "\n"
     ]
    },
    {
     "name": "stderr",
     "output_type": "stream",
     "text": [
      "100%|███████████████████████████████████████████| 40/40 [00:06<00:00,  6.38it/s]\n",
      "100%|███████████████████████████████████████████| 18/18 [00:03<00:00,  5.39it/s]\n"
     ]
    },
    {
     "name": "stdout",
     "output_type": "stream",
     "text": [
      "Epoch : 232 - Train_loss : 0.5378 - Train_Acc: 0.7151 - Val_loss : 0.0025 - Val_Acc: 0.6777  - Time: 9.616599559783936\n",
      "\n"
     ]
    },
    {
     "name": "stderr",
     "output_type": "stream",
     "text": [
      "100%|███████████████████████████████████████████| 40/40 [00:06<00:00,  5.90it/s]\n",
      "100%|███████████████████████████████████████████| 18/18 [00:03<00:00,  5.17it/s]\n"
     ]
    },
    {
     "name": "stdout",
     "output_type": "stream",
     "text": [
      "Epoch : 233 - Train_loss : 0.5352 - Train_Acc: 0.7166 - Val_loss : 0.0025 - Val_Acc: 0.6795  - Time: 10.272948980331421\n",
      "\n"
     ]
    },
    {
     "name": "stderr",
     "output_type": "stream",
     "text": [
      "100%|███████████████████████████████████████████| 40/40 [00:06<00:00,  5.75it/s]\n",
      "100%|███████████████████████████████████████████| 18/18 [00:03<00:00,  5.52it/s]\n"
     ]
    },
    {
     "name": "stdout",
     "output_type": "stream",
     "text": [
      "Epoch : 234 - Train_loss : 0.5336 - Train_Acc: 0.7221 - Val_loss : 0.0025 - Val_Acc: 0.6758  - Time: 10.227487564086914\n",
      "\n"
     ]
    },
    {
     "name": "stderr",
     "output_type": "stream",
     "text": [
      "100%|███████████████████████████████████████████| 40/40 [00:06<00:00,  6.06it/s]\n",
      "100%|███████████████████████████████████████████| 18/18 [00:02<00:00,  6.12it/s]\n"
     ]
    },
    {
     "name": "stdout",
     "output_type": "stream",
     "text": [
      "Epoch : 235 - Train_loss : 0.5383 - Train_Acc: 0.7221 - Val_loss : 0.0025 - Val_Acc: 0.6758  - Time: 9.549005270004272\n",
      "\n"
     ]
    },
    {
     "name": "stderr",
     "output_type": "stream",
     "text": [
      "100%|███████████████████████████████████████████| 40/40 [00:06<00:00,  5.88it/s]\n",
      "100%|███████████████████████████████████████████| 18/18 [00:03<00:00,  5.49it/s]\n"
     ]
    },
    {
     "name": "stdout",
     "output_type": "stream",
     "text": [
      "Epoch : 236 - Train_loss : 0.5346 - Train_Acc: 0.7206 - Val_loss : 0.0025 - Val_Acc: 0.6777  - Time: 10.082648754119873\n",
      "\n"
     ]
    },
    {
     "name": "stderr",
     "output_type": "stream",
     "text": [
      "100%|███████████████████████████████████████████| 40/40 [00:06<00:00,  6.45it/s]\n",
      "100%|███████████████████████████████████████████| 18/18 [00:03<00:00,  4.99it/s]\n"
     ]
    },
    {
     "name": "stdout",
     "output_type": "stream",
     "text": [
      "Epoch : 237 - Train_loss : 0.5356 - Train_Acc: 0.7221 - Val_loss : 0.0025 - Val_Acc: 0.6758  - Time: 9.809444427490234\n",
      "\n"
     ]
    },
    {
     "name": "stderr",
     "output_type": "stream",
     "text": [
      "100%|███████████████████████████████████████████| 40/40 [00:06<00:00,  6.63it/s]\n",
      "100%|███████████████████████████████████████████| 18/18 [00:03<00:00,  4.80it/s]\n"
     ]
    },
    {
     "name": "stdout",
     "output_type": "stream",
     "text": [
      "Epoch : 238 - Train_loss : 0.5335 - Train_Acc: 0.7214 - Val_loss : 0.0025 - Val_Acc: 0.6758  - Time: 9.787510871887207\n",
      "\n"
     ]
    },
    {
     "name": "stderr",
     "output_type": "stream",
     "text": [
      "100%|███████████████████████████████████████████| 40/40 [00:06<00:00,  6.29it/s]\n",
      "100%|███████████████████████████████████████████| 18/18 [00:03<00:00,  5.50it/s]\n"
     ]
    },
    {
     "name": "stdout",
     "output_type": "stream",
     "text": [
      "Epoch : 239 - Train_loss : 0.5374 - Train_Acc: 0.7064 - Val_loss : 0.0026 - Val_Acc: 0.6777  - Time: 9.638840436935425\n",
      "\n"
     ]
    },
    {
     "name": "stderr",
     "output_type": "stream",
     "text": [
      "100%|███████████████████████████████████████████| 40/40 [00:06<00:00,  6.29it/s]\n",
      "100%|███████████████████████████████████████████| 18/18 [00:03<00:00,  5.65it/s]\n"
     ]
    },
    {
     "name": "stdout",
     "output_type": "stream",
     "text": [
      "Epoch : 240 - Train_loss : 0.5363 - Train_Acc: 0.7316 - Val_loss : 0.0025 - Val_Acc: 0.6758  - Time: 9.555064678192139\n",
      "\n"
     ]
    },
    {
     "name": "stderr",
     "output_type": "stream",
     "text": [
      "100%|███████████████████████████████████████████| 40/40 [00:06<00:00,  5.98it/s]\n",
      "100%|███████████████████████████████████████████| 18/18 [00:03<00:00,  5.22it/s]\n"
     ]
    },
    {
     "name": "stdout",
     "output_type": "stream",
     "text": [
      "Epoch : 241 - Train_loss : 0.5370 - Train_Acc: 0.7111 - Val_loss : 0.0025 - Val_Acc: 0.6777  - Time: 10.135799884796143\n",
      "\n"
     ]
    },
    {
     "name": "stderr",
     "output_type": "stream",
     "text": [
      "100%|███████████████████████████████████████████| 40/40 [00:07<00:00,  5.42it/s]\n",
      "100%|███████████████████████████████████████████| 18/18 [00:03<00:00,  5.82it/s]\n"
     ]
    },
    {
     "name": "stdout",
     "output_type": "stream",
     "text": [
      "Epoch : 242 - Train_loss : 0.5329 - Train_Acc: 0.7174 - Val_loss : 0.0025 - Val_Acc: 0.6758  - Time: 10.476890087127686\n",
      "\n"
     ]
    },
    {
     "name": "stderr",
     "output_type": "stream",
     "text": [
      "100%|███████████████████████████████████████████| 40/40 [00:06<00:00,  6.02it/s]\n",
      "100%|███████████████████████████████████████████| 18/18 [00:03<00:00,  5.90it/s]\n"
     ]
    },
    {
     "name": "stdout",
     "output_type": "stream",
     "text": [
      "Epoch : 243 - Train_loss : 0.5329 - Train_Acc: 0.7214 - Val_loss : 0.0025 - Val_Acc: 0.6758  - Time: 9.703242301940918\n",
      "\n"
     ]
    },
    {
     "name": "stderr",
     "output_type": "stream",
     "text": [
      "100%|███████████████████████████████████████████| 40/40 [00:06<00:00,  5.93it/s]\n",
      "100%|███████████████████████████████████████████| 18/18 [00:03<00:00,  5.22it/s]\n"
     ]
    },
    {
     "name": "stdout",
     "output_type": "stream",
     "text": [
      "Epoch : 244 - Train_loss : 0.5359 - Train_Acc: 0.7174 - Val_loss : 0.0025 - Val_Acc: 0.6758  - Time: 10.199886560440063\n",
      "\n"
     ]
    },
    {
     "name": "stderr",
     "output_type": "stream",
     "text": [
      "100%|███████████████████████████████████████████| 40/40 [00:06<00:00,  6.08it/s]\n",
      "100%|███████████████████████████████████████████| 18/18 [00:03<00:00,  5.43it/s]\n"
     ]
    },
    {
     "name": "stdout",
     "output_type": "stream",
     "text": [
      "Epoch : 245 - Train_loss : 0.5348 - Train_Acc: 0.7174 - Val_loss : 0.0025 - Val_Acc: 0.6758  - Time: 9.894369840621948\n",
      "\n"
     ]
    },
    {
     "name": "stderr",
     "output_type": "stream",
     "text": [
      "100%|███████████████████████████████████████████| 40/40 [00:06<00:00,  6.44it/s]\n",
      "100%|███████████████████████████████████████████| 18/18 [00:03<00:00,  5.14it/s]\n"
     ]
    },
    {
     "name": "stdout",
     "output_type": "stream",
     "text": [
      "Epoch : 246 - Train_loss : 0.5379 - Train_Acc: 0.7166 - Val_loss : 0.0026 - Val_Acc: 0.6777  - Time: 9.713919401168823\n",
      "\n"
     ]
    },
    {
     "name": "stderr",
     "output_type": "stream",
     "text": [
      "100%|███████████████████████████████████████████| 40/40 [00:06<00:00,  6.23it/s]\n",
      "100%|███████████████████████████████████████████| 18/18 [00:03<00:00,  5.62it/s]\n"
     ]
    },
    {
     "name": "stdout",
     "output_type": "stream",
     "text": [
      "Epoch : 247 - Train_loss : 0.5336 - Train_Acc: 0.7253 - Val_loss : 0.0025 - Val_Acc: 0.6758  - Time: 9.623200178146362\n",
      "\n"
     ]
    },
    {
     "name": "stderr",
     "output_type": "stream",
     "text": [
      "100%|███████████████████████████████████████████| 40/40 [00:06<00:00,  6.02it/s]\n",
      "100%|███████████████████████████████████████████| 18/18 [00:03<00:00,  5.62it/s]\n"
     ]
    },
    {
     "name": "stdout",
     "output_type": "stream",
     "text": [
      "Epoch : 248 - Train_loss : 0.5354 - Train_Acc: 0.7190 - Val_loss : 0.0025 - Val_Acc: 0.6758  - Time: 9.854550123214722\n",
      "\n"
     ]
    },
    {
     "name": "stderr",
     "output_type": "stream",
     "text": [
      "100%|███████████████████████████████████████████| 40/40 [00:06<00:00,  5.85it/s]\n",
      "100%|███████████████████████████████████████████| 18/18 [00:03<00:00,  5.16it/s]\n"
     ]
    },
    {
     "name": "stdout",
     "output_type": "stream",
     "text": [
      "Epoch : 249 - Train_loss : 0.5319 - Train_Acc: 0.7206 - Val_loss : 0.0025 - Val_Acc: 0.6740  - Time: 10.330634117126465\n",
      "\n"
     ]
    },
    {
     "name": "stderr",
     "output_type": "stream",
     "text": [
      "100%|███████████████████████████████████████████| 40/40 [00:06<00:00,  5.93it/s]\n",
      "100%|███████████████████████████████████████████| 18/18 [00:02<00:00,  6.06it/s]\n"
     ]
    },
    {
     "name": "stdout",
     "output_type": "stream",
     "text": [
      "Epoch : 250 - Train_loss : 0.5342 - Train_Acc: 0.7237 - Val_loss : 0.0025 - Val_Acc: 0.6740  - Time: 9.72610592842102\n",
      "\n"
     ]
    },
    {
     "name": "stderr",
     "output_type": "stream",
     "text": [
      "100%|███████████████████████████████████████████| 40/40 [00:06<00:00,  5.94it/s]\n",
      "100%|███████████████████████████████████████████| 18/18 [00:03<00:00,  5.72it/s]\n"
     ]
    },
    {
     "name": "stdout",
     "output_type": "stream",
     "text": [
      "Epoch : 251 - Train_loss : 0.5360 - Train_Acc: 0.7143 - Val_loss : 0.0025 - Val_Acc: 0.6758  - Time: 9.886406898498535\n",
      "\n"
     ]
    },
    {
     "name": "stderr",
     "output_type": "stream",
     "text": [
      "100%|███████████████████████████████████████████| 40/40 [00:06<00:00,  5.75it/s]\n",
      "100%|███████████████████████████████████████████| 18/18 [00:03<00:00,  5.09it/s]\n"
     ]
    },
    {
     "name": "stdout",
     "output_type": "stream",
     "text": [
      "Epoch : 252 - Train_loss : 0.5378 - Train_Acc: 0.7174 - Val_loss : 0.0025 - Val_Acc: 0.6740  - Time: 10.498303651809692\n",
      "\n"
     ]
    },
    {
     "name": "stderr",
     "output_type": "stream",
     "text": [
      "100%|███████████████████████████████████████████| 40/40 [00:06<00:00,  6.54it/s]\n",
      "100%|███████████████████████████████████████████| 18/18 [00:03<00:00,  4.74it/s]\n"
     ]
    },
    {
     "name": "stdout",
     "output_type": "stream",
     "text": [
      "Epoch : 253 - Train_loss : 0.5329 - Train_Acc: 0.7174 - Val_loss : 0.0025 - Val_Acc: 0.6758  - Time: 9.915989875793457\n",
      "\n"
     ]
    },
    {
     "name": "stderr",
     "output_type": "stream",
     "text": [
      "100%|███████████████████████████████████████████| 40/40 [00:06<00:00,  6.27it/s]\n",
      "100%|███████████████████████████████████████████| 18/18 [00:03<00:00,  5.21it/s]\n"
     ]
    },
    {
     "name": "stdout",
     "output_type": "stream",
     "text": [
      "Epoch : 254 - Train_loss : 0.5341 - Train_Acc: 0.7237 - Val_loss : 0.0026 - Val_Acc: 0.6758  - Time: 9.836626529693604\n",
      "\n"
     ]
    },
    {
     "name": "stderr",
     "output_type": "stream",
     "text": [
      "100%|███████████████████████████████████████████| 40/40 [00:06<00:00,  6.26it/s]\n",
      "100%|███████████████████████████████████████████| 18/18 [00:03<00:00,  5.64it/s]\n"
     ]
    },
    {
     "name": "stdout",
     "output_type": "stream",
     "text": [
      "Epoch : 255 - Train_loss : 0.5371 - Train_Acc: 0.7174 - Val_loss : 0.0025 - Val_Acc: 0.6758  - Time: 9.589668989181519\n",
      "\n"
     ]
    },
    {
     "name": "stderr",
     "output_type": "stream",
     "text": [
      "100%|███████████████████████████████████████████| 40/40 [00:06<00:00,  6.18it/s]\n",
      "100%|███████████████████████████████████████████| 18/18 [00:03<00:00,  5.56it/s]\n"
     ]
    },
    {
     "name": "stdout",
     "output_type": "stream",
     "text": [
      "Epoch : 256 - Train_loss : 0.5322 - Train_Acc: 0.7229 - Val_loss : 0.0025 - Val_Acc: 0.6758  - Time: 9.722867488861084\n",
      "\n"
     ]
    },
    {
     "name": "stderr",
     "output_type": "stream",
     "text": [
      "100%|███████████████████████████████████████████| 40/40 [00:06<00:00,  5.87it/s]\n",
      "100%|███████████████████████████████████████████| 18/18 [00:03<00:00,  5.14it/s]\n"
     ]
    },
    {
     "name": "stdout",
     "output_type": "stream",
     "text": [
      "Epoch : 257 - Train_loss : 0.5339 - Train_Acc: 0.7214 - Val_loss : 0.0025 - Val_Acc: 0.6758  - Time: 10.322863101959229\n",
      "\n"
     ]
    },
    {
     "name": "stderr",
     "output_type": "stream",
     "text": [
      "100%|███████████████████████████████████████████| 40/40 [00:06<00:00,  5.79it/s]\n",
      "100%|███████████████████████████████████████████| 18/18 [00:03<00:00,  5.90it/s]\n"
     ]
    },
    {
     "name": "stdout",
     "output_type": "stream",
     "text": [
      "Epoch : 258 - Train_loss : 0.5327 - Train_Acc: 0.7190 - Val_loss : 0.0025 - Val_Acc: 0.6758  - Time: 9.97082805633545\n",
      "\n"
     ]
    },
    {
     "name": "stderr",
     "output_type": "stream",
     "text": [
      "100%|███████████████████████████████████████████| 40/40 [00:07<00:00,  5.71it/s]\n",
      "100%|███████████████████████████████████████████| 18/18 [00:02<00:00,  6.07it/s]\n"
     ]
    },
    {
     "name": "stdout",
     "output_type": "stream",
     "text": [
      "Epoch : 259 - Train_loss : 0.5339 - Train_Acc: 0.7229 - Val_loss : 0.0026 - Val_Acc: 0.6740  - Time: 9.977915048599243\n",
      "\n"
     ]
    },
    {
     "name": "stderr",
     "output_type": "stream",
     "text": [
      "100%|███████████████████████████████████████████| 40/40 [00:07<00:00,  5.53it/s]\n",
      "100%|███████████████████████████████████████████| 18/18 [00:03<00:00,  5.60it/s]\n"
     ]
    },
    {
     "name": "stdout",
     "output_type": "stream",
     "text": [
      "Epoch : 260 - Train_loss : 0.5327 - Train_Acc: 0.7190 - Val_loss : 0.0025 - Val_Acc: 0.6758  - Time: 10.455032348632812\n",
      "\n"
     ]
    },
    {
     "name": "stderr",
     "output_type": "stream",
     "text": [
      "100%|███████████████████████████████████████████| 40/40 [00:06<00:00,  6.07it/s]\n",
      "100%|███████████████████████████████████████████| 18/18 [00:03<00:00,  4.95it/s]\n"
     ]
    },
    {
     "name": "stdout",
     "output_type": "stream",
     "text": [
      "Epoch : 261 - Train_loss : 0.5364 - Train_Acc: 0.7182 - Val_loss : 0.0025 - Val_Acc: 0.6758  - Time: 10.230387210845947\n",
      "\n"
     ]
    },
    {
     "name": "stderr",
     "output_type": "stream",
     "text": [
      "100%|███████████████████████████████████████████| 40/40 [00:06<00:00,  6.45it/s]\n",
      "100%|███████████████████████████████████████████| 18/18 [00:03<00:00,  4.72it/s]\n"
     ]
    },
    {
     "name": "stdout",
     "output_type": "stream",
     "text": [
      "Epoch : 262 - Train_loss : 0.5343 - Train_Acc: 0.7159 - Val_loss : 0.0026 - Val_Acc: 0.6740  - Time: 10.014806509017944\n",
      "\n"
     ]
    },
    {
     "name": "stderr",
     "output_type": "stream",
     "text": [
      "100%|███████████████████████████████████████████| 40/40 [00:06<00:00,  6.58it/s]\n",
      "100%|███████████████████████████████████████████| 18/18 [00:03<00:00,  5.37it/s]\n"
     ]
    },
    {
     "name": "stdout",
     "output_type": "stream",
     "text": [
      "Epoch : 263 - Train_loss : 0.5320 - Train_Acc: 0.7206 - Val_loss : 0.0025 - Val_Acc: 0.6758  - Time: 9.439785242080688\n",
      "\n"
     ]
    },
    {
     "name": "stderr",
     "output_type": "stream",
     "text": [
      "100%|███████████████████████████████████████████| 40/40 [00:06<00:00,  6.01it/s]\n",
      "100%|███████████████████████████████████████████| 18/18 [00:03<00:00,  5.27it/s]\n"
     ]
    },
    {
     "name": "stdout",
     "output_type": "stream",
     "text": [
      "Epoch : 264 - Train_loss : 0.5322 - Train_Acc: 0.7221 - Val_loss : 0.0025 - Val_Acc: 0.6740  - Time: 10.076863765716553\n",
      "\n"
     ]
    },
    {
     "name": "stderr",
     "output_type": "stream",
     "text": [
      "100%|███████████████████████████████████████████| 40/40 [00:06<00:00,  6.08it/s]\n",
      "100%|███████████████████████████████████████████| 18/18 [00:03<00:00,  5.22it/s]\n"
     ]
    },
    {
     "name": "stdout",
     "output_type": "stream",
     "text": [
      "Epoch : 265 - Train_loss : 0.5307 - Train_Acc: 0.7253 - Val_loss : 0.0025 - Val_Acc: 0.6758  - Time: 10.034723043441772\n",
      "\n"
     ]
    },
    {
     "name": "stderr",
     "output_type": "stream",
     "text": [
      "100%|███████████████████████████████████████████| 40/40 [00:07<00:00,  5.69it/s]\n",
      "100%|███████████████████████████████████████████| 18/18 [00:03<00:00,  5.44it/s]\n"
     ]
    },
    {
     "name": "stdout",
     "output_type": "stream",
     "text": [
      "Epoch : 266 - Train_loss : 0.5317 - Train_Acc: 0.7190 - Val_loss : 0.0026 - Val_Acc: 0.6758  - Time: 10.342536449432373\n",
      "\n"
     ]
    },
    {
     "name": "stderr",
     "output_type": "stream",
     "text": [
      "100%|███████████████████████████████████████████| 40/40 [00:06<00:00,  6.02it/s]\n",
      "100%|███████████████████████████████████████████| 18/18 [00:02<00:00,  6.13it/s]\n"
     ]
    },
    {
     "name": "stdout",
     "output_type": "stream",
     "text": [
      "Epoch : 267 - Train_loss : 0.5299 - Train_Acc: 0.7198 - Val_loss : 0.0025 - Val_Acc: 0.6758  - Time: 9.58917498588562\n",
      "\n"
     ]
    },
    {
     "name": "stderr",
     "output_type": "stream",
     "text": [
      "100%|███████████████████████████████████████████| 40/40 [00:07<00:00,  5.70it/s]\n",
      "100%|███████████████████████████████████████████| 18/18 [00:03<00:00,  5.69it/s]\n"
     ]
    },
    {
     "name": "stdout",
     "output_type": "stream",
     "text": [
      "Epoch : 268 - Train_loss : 0.5354 - Train_Acc: 0.7166 - Val_loss : 0.0025 - Val_Acc: 0.6758  - Time: 10.192931652069092\n",
      "\n"
     ]
    },
    {
     "name": "stderr",
     "output_type": "stream",
     "text": [
      "100%|███████████████████████████████████████████| 40/40 [00:06<00:00,  6.16it/s]\n",
      "100%|███████████████████████████████████████████| 18/18 [00:03<00:00,  5.00it/s]\n"
     ]
    },
    {
     "name": "stdout",
     "output_type": "stream",
     "text": [
      "Epoch : 269 - Train_loss : 0.5339 - Train_Acc: 0.7159 - Val_loss : 0.0025 - Val_Acc: 0.6777  - Time: 10.100149393081665\n",
      "\n"
     ]
    },
    {
     "name": "stderr",
     "output_type": "stream",
     "text": [
      "100%|███████████████████████████████████████████| 40/40 [00:06<00:00,  6.22it/s]\n",
      "100%|███████████████████████████████████████████| 18/18 [00:03<00:00,  4.87it/s]\n"
     ]
    },
    {
     "name": "stdout",
     "output_type": "stream",
     "text": [
      "Epoch : 270 - Train_loss : 0.5332 - Train_Acc: 0.7221 - Val_loss : 0.0026 - Val_Acc: 0.6740  - Time: 10.136599063873291\n",
      "\n"
     ]
    },
    {
     "name": "stderr",
     "output_type": "stream",
     "text": [
      "100%|███████████████████████████████████████████| 40/40 [00:06<00:00,  6.48it/s]\n",
      "100%|███████████████████████████████████████████| 18/18 [00:03<00:00,  5.12it/s]\n"
     ]
    },
    {
     "name": "stdout",
     "output_type": "stream",
     "text": [
      "Epoch : 271 - Train_loss : 0.5308 - Train_Acc: 0.7166 - Val_loss : 0.0026 - Val_Acc: 0.6758  - Time: 9.694932222366333\n",
      "\n"
     ]
    },
    {
     "name": "stderr",
     "output_type": "stream",
     "text": [
      "100%|███████████████████████████████████████████| 40/40 [00:06<00:00,  6.33it/s]\n",
      "100%|███████████████████████████████████████████| 18/18 [00:03<00:00,  5.44it/s]\n"
     ]
    },
    {
     "name": "stdout",
     "output_type": "stream",
     "text": [
      "Epoch : 272 - Train_loss : 0.5329 - Train_Acc: 0.7261 - Val_loss : 0.0026 - Val_Acc: 0.6758  - Time: 9.637593030929565\n",
      "\n"
     ]
    },
    {
     "name": "stderr",
     "output_type": "stream",
     "text": [
      "100%|███████████████████████████████████████████| 40/40 [00:06<00:00,  6.21it/s]\n",
      "100%|███████████████████████████████████████████| 18/18 [00:03<00:00,  4.93it/s]\n"
     ]
    },
    {
     "name": "stdout",
     "output_type": "stream",
     "text": [
      "Epoch : 273 - Train_loss : 0.5347 - Train_Acc: 0.7214 - Val_loss : 0.0025 - Val_Acc: 0.6758  - Time: 10.09693694114685\n",
      "\n"
     ]
    },
    {
     "name": "stderr",
     "output_type": "stream",
     "text": [
      "100%|███████████████████████████████████████████| 40/40 [00:06<00:00,  5.94it/s]\n",
      "100%|███████████████████████████████████████████| 18/18 [00:03<00:00,  5.39it/s]\n"
     ]
    },
    {
     "name": "stdout",
     "output_type": "stream",
     "text": [
      "Epoch : 274 - Train_loss : 0.5377 - Train_Acc: 0.7206 - Val_loss : 0.0026 - Val_Acc: 0.6740  - Time: 10.07628870010376\n",
      "\n"
     ]
    },
    {
     "name": "stderr",
     "output_type": "stream",
     "text": [
      "100%|███████████████████████████████████████████| 40/40 [00:06<00:00,  5.96it/s]\n",
      "100%|███████████████████████████████████████████| 18/18 [00:02<00:00,  6.31it/s]\n"
     ]
    },
    {
     "name": "stdout",
     "output_type": "stream",
     "text": [
      "Epoch : 275 - Train_loss : 0.5358 - Train_Acc: 0.7174 - Val_loss : 0.0025 - Val_Acc: 0.6758  - Time: 9.566622257232666\n",
      "\n"
     ]
    },
    {
     "name": "stderr",
     "output_type": "stream",
     "text": [
      "100%|███████████████████████████████████████████| 40/40 [00:06<00:00,  5.92it/s]\n",
      "100%|███████████████████████████████████████████| 18/18 [00:03<00:00,  5.22it/s]\n"
     ]
    },
    {
     "name": "stdout",
     "output_type": "stream",
     "text": [
      "Epoch : 276 - Train_loss : 0.5309 - Train_Acc: 0.7237 - Val_loss : 0.0026 - Val_Acc: 0.6758  - Time: 10.210614442825317\n",
      "\n"
     ]
    },
    {
     "name": "stderr",
     "output_type": "stream",
     "text": [
      "100%|███████████████████████████████████████████| 40/40 [00:06<00:00,  6.19it/s]\n",
      "100%|███████████████████████████████████████████| 18/18 [00:03<00:00,  4.92it/s]\n"
     ]
    },
    {
     "name": "stdout",
     "output_type": "stream",
     "text": [
      "Epoch : 277 - Train_loss : 0.5318 - Train_Acc: 0.7268 - Val_loss : 0.0026 - Val_Acc: 0.6758  - Time: 10.131450891494751\n",
      "\n"
     ]
    },
    {
     "name": "stderr",
     "output_type": "stream",
     "text": [
      "100%|███████████████████████████████████████████| 40/40 [00:06<00:00,  6.24it/s]\n",
      "100%|███████████████████████████████████████████| 18/18 [00:03<00:00,  4.88it/s]\n"
     ]
    },
    {
     "name": "stdout",
     "output_type": "stream",
     "text": [
      "Epoch : 278 - Train_loss : 0.5336 - Train_Acc: 0.7166 - Val_loss : 0.0025 - Val_Acc: 0.6758  - Time: 10.109147071838379\n",
      "\n"
     ]
    },
    {
     "name": "stderr",
     "output_type": "stream",
     "text": [
      "100%|███████████████████████████████████████████| 40/40 [00:06<00:00,  6.53it/s]\n",
      "100%|███████████████████████████████████████████| 18/18 [00:03<00:00,  4.96it/s]\n"
     ]
    },
    {
     "name": "stdout",
     "output_type": "stream",
     "text": [
      "Epoch : 279 - Train_loss : 0.5314 - Train_Acc: 0.7198 - Val_loss : 0.0026 - Val_Acc: 0.6740  - Time: 9.767413854598999\n",
      "\n"
     ]
    },
    {
     "name": "stderr",
     "output_type": "stream",
     "text": [
      "100%|███████████████████████████████████████████| 40/40 [00:06<00:00,  6.37it/s]\n",
      "100%|███████████████████████████████████████████| 18/18 [00:03<00:00,  4.94it/s]\n"
     ]
    },
    {
     "name": "stdout",
     "output_type": "stream",
     "text": [
      "Epoch : 280 - Train_loss : 0.5293 - Train_Acc: 0.7166 - Val_loss : 0.0026 - Val_Acc: 0.6722  - Time: 9.93390440940857\n",
      "\n"
     ]
    },
    {
     "name": "stderr",
     "output_type": "stream",
     "text": [
      "100%|███████████████████████████████████████████| 40/40 [00:06<00:00,  5.72it/s]\n",
      "100%|███████████████████████████████████████████| 18/18 [00:03<00:00,  5.66it/s]\n"
     ]
    },
    {
     "name": "stdout",
     "output_type": "stream",
     "text": [
      "Epoch : 281 - Train_loss : 0.5314 - Train_Acc: 0.7245 - Val_loss : 0.0026 - Val_Acc: 0.6740  - Time: 10.180473566055298\n",
      "\n"
     ]
    },
    {
     "name": "stderr",
     "output_type": "stream",
     "text": [
      "100%|███████████████████████████████████████████| 40/40 [00:06<00:00,  6.12it/s]\n",
      "100%|███████████████████████████████████████████| 18/18 [00:03<00:00,  5.39it/s]\n"
     ]
    },
    {
     "name": "stdout",
     "output_type": "stream",
     "text": [
      "Epoch : 282 - Train_loss : 0.5389 - Train_Acc: 0.7135 - Val_loss : 0.0026 - Val_Acc: 0.6758  - Time: 9.878247022628784\n",
      "\n"
     ]
    },
    {
     "name": "stderr",
     "output_type": "stream",
     "text": [
      "100%|███████████████████████████████████████████| 40/40 [00:06<00:00,  6.12it/s]\n",
      "100%|███████████████████████████████████████████| 18/18 [00:02<00:00,  6.08it/s]\n"
     ]
    },
    {
     "name": "stdout",
     "output_type": "stream",
     "text": [
      "Epoch : 283 - Train_loss : 0.5273 - Train_Acc: 0.7253 - Val_loss : 0.0025 - Val_Acc: 0.6777  - Time: 9.504000186920166\n",
      "\n"
     ]
    },
    {
     "name": "stderr",
     "output_type": "stream",
     "text": [
      "100%|███████████████████████████████████████████| 40/40 [00:06<00:00,  5.88it/s]\n",
      "100%|███████████████████████████████████████████| 18/18 [00:03<00:00,  5.43it/s]\n"
     ]
    },
    {
     "name": "stdout",
     "output_type": "stream",
     "text": [
      "Epoch : 284 - Train_loss : 0.5338 - Train_Acc: 0.7284 - Val_loss : 0.0026 - Val_Acc: 0.6722  - Time: 10.126481533050537\n",
      "\n"
     ]
    },
    {
     "name": "stderr",
     "output_type": "stream",
     "text": [
      "100%|███████████████████████████████████████████| 40/40 [00:06<00:00,  6.13it/s]\n",
      "100%|███████████████████████████████████████████| 18/18 [00:03<00:00,  4.88it/s]\n"
     ]
    },
    {
     "name": "stdout",
     "output_type": "stream",
     "text": [
      "Epoch : 285 - Train_loss : 0.5318 - Train_Acc: 0.7316 - Val_loss : 0.0025 - Val_Acc: 0.6758  - Time: 10.219031810760498\n",
      "\n"
     ]
    },
    {
     "name": "stderr",
     "output_type": "stream",
     "text": [
      "100%|███████████████████████████████████████████| 40/40 [00:06<00:00,  6.56it/s]\n",
      "100%|███████████████████████████████████████████| 18/18 [00:03<00:00,  4.79it/s]\n"
     ]
    },
    {
     "name": "stdout",
     "output_type": "stream",
     "text": [
      "Epoch : 286 - Train_loss : 0.5363 - Train_Acc: 0.7206 - Val_loss : 0.0026 - Val_Acc: 0.6777  - Time: 9.867493152618408\n",
      "\n"
     ]
    },
    {
     "name": "stderr",
     "output_type": "stream",
     "text": [
      "100%|███████████████████████████████████████████| 40/40 [00:06<00:00,  6.47it/s]\n",
      "100%|███████████████████████████████████████████| 18/18 [00:03<00:00,  5.25it/s]\n"
     ]
    },
    {
     "name": "stdout",
     "output_type": "stream",
     "text": [
      "Epoch : 287 - Train_loss : 0.5317 - Train_Acc: 0.7237 - Val_loss : 0.0026 - Val_Acc: 0.6777  - Time: 9.623929262161255\n",
      "\n"
     ]
    },
    {
     "name": "stderr",
     "output_type": "stream",
     "text": [
      "100%|███████████████████████████████████████████| 40/40 [00:06<00:00,  6.15it/s]\n",
      "100%|███████████████████████████████████████████| 18/18 [00:03<00:00,  5.58it/s]\n"
     ]
    },
    {
     "name": "stdout",
     "output_type": "stream",
     "text": [
      "Epoch : 288 - Train_loss : 0.5263 - Train_Acc: 0.7221 - Val_loss : 0.0025 - Val_Acc: 0.6777  - Time: 9.731902122497559\n",
      "\n"
     ]
    },
    {
     "name": "stderr",
     "output_type": "stream",
     "text": [
      "100%|███████████████████████████████████████████| 40/40 [00:06<00:00,  5.98it/s]\n",
      "100%|███████████████████████████████████████████| 18/18 [00:03<00:00,  5.24it/s]\n"
     ]
    },
    {
     "name": "stdout",
     "output_type": "stream",
     "text": [
      "Epoch : 289 - Train_loss : 0.5304 - Train_Acc: 0.7143 - Val_loss : 0.0025 - Val_Acc: 0.6758  - Time: 10.127408266067505\n",
      "\n"
     ]
    },
    {
     "name": "stderr",
     "output_type": "stream",
     "text": [
      "100%|███████████████████████████████████████████| 40/40 [00:06<00:00,  5.88it/s]\n",
      "100%|███████████████████████████████████████████| 18/18 [00:03<00:00,  5.77it/s]\n"
     ]
    },
    {
     "name": "stdout",
     "output_type": "stream",
     "text": [
      "Epoch : 290 - Train_loss : 0.5347 - Train_Acc: 0.7119 - Val_loss : 0.0026 - Val_Acc: 0.6740  - Time: 9.929521560668945\n",
      "\n"
     ]
    },
    {
     "name": "stderr",
     "output_type": "stream",
     "text": [
      "100%|███████████████████████████████████████████| 40/40 [00:06<00:00,  5.83it/s]\n",
      "100%|███████████████████████████████████████████| 18/18 [00:03<00:00,  5.91it/s]\n"
     ]
    },
    {
     "name": "stdout",
     "output_type": "stream",
     "text": [
      "Epoch : 291 - Train_loss : 0.5296 - Train_Acc: 0.7151 - Val_loss : 0.0025 - Val_Acc: 0.6777  - Time: 9.909681558609009\n",
      "\n"
     ]
    },
    {
     "name": "stderr",
     "output_type": "stream",
     "text": [
      "100%|███████████████████████████████████████████| 40/40 [00:06<00:00,  5.88it/s]\n",
      "100%|███████████████████████████████████████████| 18/18 [00:03<00:00,  5.52it/s]\n"
     ]
    },
    {
     "name": "stdout",
     "output_type": "stream",
     "text": [
      "Epoch : 292 - Train_loss : 0.5353 - Train_Acc: 0.7229 - Val_loss : 0.0025 - Val_Acc: 0.6777  - Time: 10.075993537902832\n",
      "\n"
     ]
    },
    {
     "name": "stderr",
     "output_type": "stream",
     "text": [
      "100%|███████████████████████████████████████████| 40/40 [00:06<00:00,  5.95it/s]\n",
      "100%|███████████████████████████████████████████| 18/18 [00:03<00:00,  5.52it/s]\n"
     ]
    },
    {
     "name": "stdout",
     "output_type": "stream",
     "text": [
      "Epoch : 293 - Train_loss : 0.5321 - Train_Acc: 0.7166 - Val_loss : 0.0026 - Val_Acc: 0.6758  - Time: 9.985676765441895\n",
      "\n"
     ]
    },
    {
     "name": "stderr",
     "output_type": "stream",
     "text": [
      "100%|███████████████████████████████████████████| 40/40 [00:06<00:00,  6.42it/s]\n",
      "100%|███████████████████████████████████████████| 18/18 [00:03<00:00,  4.94it/s]\n"
     ]
    },
    {
     "name": "stdout",
     "output_type": "stream",
     "text": [
      "Epoch : 294 - Train_loss : 0.5323 - Train_Acc: 0.7276 - Val_loss : 0.0026 - Val_Acc: 0.6740  - Time: 9.877399921417236\n",
      "\n"
     ]
    },
    {
     "name": "stderr",
     "output_type": "stream",
     "text": [
      "100%|███████████████████████████████████████████| 40/40 [00:06<00:00,  6.43it/s]\n",
      "100%|███████████████████████████████████████████| 18/18 [00:03<00:00,  5.07it/s]\n"
     ]
    },
    {
     "name": "stdout",
     "output_type": "stream",
     "text": [
      "Epoch : 295 - Train_loss : 0.5311 - Train_Acc: 0.7159 - Val_loss : 0.0025 - Val_Acc: 0.6777  - Time: 9.778067827224731\n",
      "\n"
     ]
    },
    {
     "name": "stderr",
     "output_type": "stream",
     "text": [
      "100%|███████████████████████████████████████████| 40/40 [00:06<00:00,  6.27it/s]\n",
      "100%|███████████████████████████████████████████| 18/18 [00:03<00:00,  5.70it/s]\n"
     ]
    },
    {
     "name": "stdout",
     "output_type": "stream",
     "text": [
      "Epoch : 296 - Train_loss : 0.5371 - Train_Acc: 0.7276 - Val_loss : 0.0025 - Val_Acc: 0.6777  - Time: 9.538495063781738\n",
      "\n"
     ]
    },
    {
     "name": "stderr",
     "output_type": "stream",
     "text": [
      "100%|███████████████████████████████████████████| 40/40 [00:06<00:00,  6.04it/s]\n",
      "100%|███████████████████████████████████████████| 18/18 [00:03<00:00,  5.31it/s]\n"
     ]
    },
    {
     "name": "stdout",
     "output_type": "stream",
     "text": [
      "Epoch : 297 - Train_loss : 0.5305 - Train_Acc: 0.7198 - Val_loss : 0.0026 - Val_Acc: 0.6758  - Time: 10.02054214477539\n",
      "\n"
     ]
    },
    {
     "name": "stderr",
     "output_type": "stream",
     "text": [
      "100%|███████████████████████████████████████████| 40/40 [00:06<00:00,  5.83it/s]\n",
      "100%|███████████████████████████████████████████| 18/18 [00:02<00:00,  6.02it/s]\n"
     ]
    },
    {
     "name": "stdout",
     "output_type": "stream",
     "text": [
      "Epoch : 298 - Train_loss : 0.5280 - Train_Acc: 0.7261 - Val_loss : 0.0026 - Val_Acc: 0.6777  - Time: 9.857285022735596\n",
      "\n"
     ]
    },
    {
     "name": "stderr",
     "output_type": "stream",
     "text": [
      "100%|███████████████████████████████████████████| 40/40 [00:06<00:00,  5.84it/s]\n",
      "100%|███████████████████████████████████████████| 18/18 [00:02<00:00,  6.24it/s]\n"
     ]
    },
    {
     "name": "stdout",
     "output_type": "stream",
     "text": [
      "Epoch : 299 - Train_loss : 0.5302 - Train_Acc: 0.7111 - Val_loss : 0.0026 - Val_Acc: 0.6758  - Time: 9.738028287887573\n",
      "\n"
     ]
    },
    {
     "name": "stderr",
     "output_type": "stream",
     "text": [
      "100%|███████████████████████████████████████████| 40/40 [00:06<00:00,  5.72it/s]\n",
      "100%|███████████████████████████████████████████| 18/18 [00:03<00:00,  5.17it/s]\n"
     ]
    },
    {
     "name": "stdout",
     "output_type": "stream",
     "text": [
      "Epoch : 300 - Train_loss : 0.5341 - Train_Acc: 0.7214 - Val_loss : 0.0025 - Val_Acc: 0.6777  - Time: 10.48442268371582\n",
      "\n"
     ]
    },
    {
     "name": "stderr",
     "output_type": "stream",
     "text": [
      "100%|███████████████████████████████████████████| 40/40 [00:06<00:00,  6.42it/s]\n",
      "100%|███████████████████████████████████████████| 18/18 [00:03<00:00,  5.04it/s]\n"
     ]
    },
    {
     "name": "stdout",
     "output_type": "stream",
     "text": [
      "Epoch : 301 - Train_loss : 0.5309 - Train_Acc: 0.7261 - Val_loss : 0.0026 - Val_Acc: 0.6740  - Time: 9.803542613983154\n",
      "\n"
     ]
    },
    {
     "name": "stderr",
     "output_type": "stream",
     "text": [
      "100%|███████████████████████████████████████████| 40/40 [00:06<00:00,  6.48it/s]\n",
      "100%|███████████████████████████████████████████| 18/18 [00:03<00:00,  4.85it/s]\n"
     ]
    },
    {
     "name": "stdout",
     "output_type": "stream",
     "text": [
      "Epoch : 302 - Train_loss : 0.5296 - Train_Acc: 0.7276 - Val_loss : 0.0026 - Val_Acc: 0.6795  - Time: 9.895336627960205\n",
      "\n"
     ]
    },
    {
     "name": "stderr",
     "output_type": "stream",
     "text": [
      "100%|███████████████████████████████████████████| 40/40 [00:06<00:00,  6.34it/s]\n",
      "100%|███████████████████████████████████████████| 18/18 [00:03<00:00,  5.58it/s]\n"
     ]
    },
    {
     "name": "stdout",
     "output_type": "stream",
     "text": [
      "Epoch : 303 - Train_loss : 0.5343 - Train_Acc: 0.7268 - Val_loss : 0.0026 - Val_Acc: 0.6758  - Time: 9.54231333732605\n",
      "\n"
     ]
    },
    {
     "name": "stderr",
     "output_type": "stream",
     "text": [
      "100%|███████████████████████████████████████████| 40/40 [00:06<00:00,  5.96it/s]\n",
      "100%|███████████████████████████████████████████| 18/18 [00:03<00:00,  5.77it/s]\n"
     ]
    },
    {
     "name": "stdout",
     "output_type": "stream",
     "text": [
      "Epoch : 304 - Train_loss : 0.5324 - Train_Acc: 0.7221 - Val_loss : 0.0026 - Val_Acc: 0.6795  - Time: 9.832759857177734\n",
      "\n"
     ]
    },
    {
     "name": "stderr",
     "output_type": "stream",
     "text": [
      "100%|███████████████████████████████████████████| 40/40 [00:06<00:00,  5.98it/s]\n",
      "100%|███████████████████████████████████████████| 18/18 [00:03<00:00,  4.93it/s]\n"
     ]
    },
    {
     "name": "stdout",
     "output_type": "stream",
     "text": [
      "Epoch : 305 - Train_loss : 0.5315 - Train_Acc: 0.7206 - Val_loss : 0.0026 - Val_Acc: 0.6777  - Time: 10.343896865844727\n",
      "\n"
     ]
    },
    {
     "name": "stderr",
     "output_type": "stream",
     "text": [
      "100%|███████████████████████████████████████████| 40/40 [00:07<00:00,  5.65it/s]\n",
      "100%|███████████████████████████████████████████| 18/18 [00:02<00:00,  6.08it/s]\n"
     ]
    },
    {
     "name": "stdout",
     "output_type": "stream",
     "text": [
      "Epoch : 306 - Train_loss : 0.5330 - Train_Acc: 0.7190 - Val_loss : 0.0026 - Val_Acc: 0.6795  - Time: 10.046733617782593\n",
      "\n"
     ]
    },
    {
     "name": "stderr",
     "output_type": "stream",
     "text": [
      "100%|███████████████████████████████████████████| 40/40 [00:06<00:00,  5.77it/s]\n",
      "100%|███████████████████████████████████████████| 18/18 [00:03<00:00,  5.76it/s]\n"
     ]
    },
    {
     "name": "stdout",
     "output_type": "stream",
     "text": [
      "Epoch : 307 - Train_loss : 0.5334 - Train_Acc: 0.7198 - Val_loss : 0.0026 - Val_Acc: 0.6795  - Time: 10.060195922851562\n",
      "\n"
     ]
    },
    {
     "name": "stderr",
     "output_type": "stream",
     "text": [
      "100%|███████████████████████████████████████████| 40/40 [00:06<00:00,  5.81it/s]\n",
      "100%|███████████████████████████████████████████| 18/18 [00:03<00:00,  5.23it/s]\n"
     ]
    },
    {
     "name": "stdout",
     "output_type": "stream",
     "text": [
      "Epoch : 308 - Train_loss : 0.5334 - Train_Acc: 0.7253 - Val_loss : 0.0026 - Val_Acc: 0.6758  - Time: 10.33360767364502\n",
      "\n"
     ]
    },
    {
     "name": "stderr",
     "output_type": "stream",
     "text": [
      "100%|███████████████████████████████████████████| 40/40 [00:06<00:00,  6.19it/s]\n",
      "100%|███████████████████████████████████████████| 18/18 [00:03<00:00,  5.04it/s]\n"
     ]
    },
    {
     "name": "stdout",
     "output_type": "stream",
     "text": [
      "Epoch : 309 - Train_loss : 0.5279 - Train_Acc: 0.7300 - Val_loss : 0.0026 - Val_Acc: 0.6758  - Time: 10.041802167892456\n",
      "\n"
     ]
    },
    {
     "name": "stderr",
     "output_type": "stream",
     "text": [
      "100%|███████████████████████████████████████████| 40/40 [00:06<00:00,  6.48it/s]\n",
      "100%|███████████████████████████████████████████| 18/18 [00:03<00:00,  5.16it/s]\n"
     ]
    },
    {
     "name": "stdout",
     "output_type": "stream",
     "text": [
      "Epoch : 310 - Train_loss : 0.5298 - Train_Acc: 0.7316 - Val_loss : 0.0026 - Val_Acc: 0.6758  - Time: 9.673599004745483\n",
      "\n"
     ]
    },
    {
     "name": "stderr",
     "output_type": "stream",
     "text": [
      "100%|███████████████████████████████████████████| 40/40 [00:06<00:00,  6.41it/s]\n",
      "100%|███████████████████████████████████████████| 18/18 [00:03<00:00,  5.43it/s]\n"
     ]
    },
    {
     "name": "stdout",
     "output_type": "stream",
     "text": [
      "Epoch : 311 - Train_loss : 0.5274 - Train_Acc: 0.7284 - Val_loss : 0.0025 - Val_Acc: 0.6795  - Time: 9.55543041229248\n",
      "\n"
     ]
    },
    {
     "name": "stderr",
     "output_type": "stream",
     "text": [
      "100%|███████████████████████████████████████████| 40/40 [00:06<00:00,  6.35it/s]\n",
      "100%|███████████████████████████████████████████| 18/18 [00:03<00:00,  5.65it/s]\n"
     ]
    },
    {
     "name": "stdout",
     "output_type": "stream",
     "text": [
      "Epoch : 312 - Train_loss : 0.5325 - Train_Acc: 0.7245 - Val_loss : 0.0026 - Val_Acc: 0.6777  - Time: 9.488908052444458\n",
      "\n"
     ]
    },
    {
     "name": "stderr",
     "output_type": "stream",
     "text": [
      "100%|███████████████████████████████████████████| 40/40 [00:06<00:00,  5.88it/s]\n",
      "100%|███████████████████████████████████████████| 18/18 [00:03<00:00,  5.11it/s]\n"
     ]
    },
    {
     "name": "stdout",
     "output_type": "stream",
     "text": [
      "Epoch : 313 - Train_loss : 0.5324 - Train_Acc: 0.7198 - Val_loss : 0.0026 - Val_Acc: 0.6758  - Time: 10.337824583053589\n",
      "\n"
     ]
    },
    {
     "name": "stderr",
     "output_type": "stream",
     "text": [
      "100%|███████████████████████████████████████████| 40/40 [00:07<00:00,  5.60it/s]\n",
      "100%|███████████████████████████████████████████| 18/18 [00:03<00:00,  5.86it/s]\n"
     ]
    },
    {
     "name": "stdout",
     "output_type": "stream",
     "text": [
      "Epoch : 314 - Train_loss : 0.5320 - Train_Acc: 0.7159 - Val_loss : 0.0025 - Val_Acc: 0.6795  - Time: 10.21811056137085\n",
      "\n"
     ]
    },
    {
     "name": "stderr",
     "output_type": "stream",
     "text": [
      "100%|███████████████████████████████████████████| 40/40 [00:06<00:00,  5.97it/s]\n",
      "100%|███████████████████████████████████████████| 18/18 [00:03<00:00,  5.67it/s]\n"
     ]
    },
    {
     "name": "stdout",
     "output_type": "stream",
     "text": [
      "Epoch : 315 - Train_loss : 0.5285 - Train_Acc: 0.7190 - Val_loss : 0.0026 - Val_Acc: 0.6777  - Time: 9.87952733039856\n",
      "\n"
     ]
    },
    {
     "name": "stderr",
     "output_type": "stream",
     "text": [
      "100%|███████████████████████████████████████████| 40/40 [00:07<00:00,  5.62it/s]\n",
      "100%|███████████████████████████████████████████| 18/18 [00:03<00:00,  5.46it/s]\n"
     ]
    },
    {
     "name": "stdout",
     "output_type": "stream",
     "text": [
      "Epoch : 316 - Train_loss : 0.5349 - Train_Acc: 0.7151 - Val_loss : 0.0025 - Val_Acc: 0.6777  - Time: 10.420346736907959\n",
      "\n"
     ]
    },
    {
     "name": "stderr",
     "output_type": "stream",
     "text": [
      "100%|███████████████████████████████████████████| 40/40 [00:06<00:00,  6.25it/s]\n",
      "100%|███████████████████████████████████████████| 18/18 [00:03<00:00,  4.78it/s]\n"
     ]
    },
    {
     "name": "stdout",
     "output_type": "stream",
     "text": [
      "Epoch : 317 - Train_loss : 0.5352 - Train_Acc: 0.7237 - Val_loss : 0.0026 - Val_Acc: 0.6795  - Time: 10.172017574310303\n",
      "\n"
     ]
    },
    {
     "name": "stderr",
     "output_type": "stream",
     "text": [
      "100%|███████████████████████████████████████████| 40/40 [00:06<00:00,  6.59it/s]\n",
      "100%|███████████████████████████████████████████| 18/18 [00:03<00:00,  5.11it/s]\n"
     ]
    },
    {
     "name": "stdout",
     "output_type": "stream",
     "text": [
      "Epoch : 318 - Train_loss : 0.5292 - Train_Acc: 0.7268 - Val_loss : 0.0026 - Val_Acc: 0.6777  - Time: 9.600659608840942\n",
      "\n"
     ]
    },
    {
     "name": "stderr",
     "output_type": "stream",
     "text": [
      "100%|███████████████████████████████████████████| 40/40 [00:06<00:00,  6.05it/s]\n",
      "100%|███████████████████████████████████████████| 18/18 [00:03<00:00,  5.01it/s]\n"
     ]
    },
    {
     "name": "stdout",
     "output_type": "stream",
     "text": [
      "Epoch : 319 - Train_loss : 0.5332 - Train_Acc: 0.7261 - Val_loss : 0.0026 - Val_Acc: 0.6777  - Time: 10.209149360656738\n",
      "\n"
     ]
    },
    {
     "name": "stderr",
     "output_type": "stream",
     "text": [
      "100%|███████████████████████████████████████████| 40/40 [00:06<00:00,  6.27it/s]\n",
      "100%|███████████████████████████████████████████| 18/18 [00:03<00:00,  5.55it/s]\n"
     ]
    },
    {
     "name": "stdout",
     "output_type": "stream",
     "text": [
      "Epoch : 320 - Train_loss : 0.5320 - Train_Acc: 0.7174 - Val_loss : 0.0026 - Val_Acc: 0.6758  - Time: 9.635761260986328\n",
      "\n"
     ]
    },
    {
     "name": "stderr",
     "output_type": "stream",
     "text": [
      "100%|███████████████████████████████████████████| 40/40 [00:06<00:00,  5.99it/s]\n",
      "100%|███████████████████████████████████████████| 18/18 [00:03<00:00,  5.12it/s]\n"
     ]
    },
    {
     "name": "stdout",
     "output_type": "stream",
     "text": [
      "Epoch : 321 - Train_loss : 0.5370 - Train_Acc: 0.7143 - Val_loss : 0.0025 - Val_Acc: 0.6777  - Time: 10.196174144744873\n",
      "\n"
     ]
    },
    {
     "name": "stderr",
     "output_type": "stream",
     "text": [
      "100%|███████████████████████████████████████████| 40/40 [00:06<00:00,  5.81it/s]\n",
      "100%|███████████████████████████████████████████| 18/18 [00:03<00:00,  5.51it/s]\n"
     ]
    },
    {
     "name": "stdout",
     "output_type": "stream",
     "text": [
      "Epoch : 322 - Train_loss : 0.5387 - Train_Acc: 0.7229 - Val_loss : 0.0026 - Val_Acc: 0.6777  - Time: 10.154873847961426\n",
      "\n"
     ]
    },
    {
     "name": "stderr",
     "output_type": "stream",
     "text": [
      "100%|███████████████████████████████████████████| 40/40 [00:06<00:00,  5.78it/s]\n",
      "100%|███████████████████████████████████████████| 18/18 [00:02<00:00,  6.02it/s]\n"
     ]
    },
    {
     "name": "stdout",
     "output_type": "stream",
     "text": [
      "Epoch : 323 - Train_loss : 0.5289 - Train_Acc: 0.7268 - Val_loss : 0.0026 - Val_Acc: 0.6795  - Time: 9.920465469360352\n",
      "\n"
     ]
    },
    {
     "name": "stderr",
     "output_type": "stream",
     "text": [
      "100%|███████████████████████████████████████████| 40/40 [00:06<00:00,  5.80it/s]\n",
      "100%|███████████████████████████████████████████| 18/18 [00:03<00:00,  5.69it/s]\n"
     ]
    },
    {
     "name": "stdout",
     "output_type": "stream",
     "text": [
      "Epoch : 324 - Train_loss : 0.5231 - Train_Acc: 0.7378 - Val_loss : 0.0025 - Val_Acc: 0.6758  - Time: 10.065355777740479\n",
      "\n"
     ]
    },
    {
     "name": "stderr",
     "output_type": "stream",
     "text": [
      "100%|███████████████████████████████████████████| 40/40 [00:06<00:00,  6.26it/s]\n",
      "100%|███████████████████████████████████████████| 18/18 [00:03<00:00,  4.99it/s]\n"
     ]
    },
    {
     "name": "stdout",
     "output_type": "stream",
     "text": [
      "Epoch : 325 - Train_loss : 0.5324 - Train_Acc: 0.7229 - Val_loss : 0.0026 - Val_Acc: 0.6795  - Time: 10.005435943603516\n",
      "\n"
     ]
    },
    {
     "name": "stderr",
     "output_type": "stream",
     "text": [
      "100%|███████████████████████████████████████████| 40/40 [00:06<00:00,  6.48it/s]\n",
      "100%|███████████████████████████████████████████| 18/18 [00:03<00:00,  5.28it/s]\n"
     ]
    },
    {
     "name": "stdout",
     "output_type": "stream",
     "text": [
      "Epoch : 326 - Train_loss : 0.5287 - Train_Acc: 0.7174 - Val_loss : 0.0026 - Val_Acc: 0.6777  - Time: 9.585078954696655\n",
      "\n"
     ]
    },
    {
     "name": "stderr",
     "output_type": "stream",
     "text": [
      "100%|███████████████████████████████████████████| 40/40 [00:06<00:00,  6.34it/s]\n",
      "100%|███████████████████████████████████████████| 18/18 [00:03<00:00,  5.13it/s]\n"
     ]
    },
    {
     "name": "stdout",
     "output_type": "stream",
     "text": [
      "Epoch : 327 - Train_loss : 0.5345 - Train_Acc: 0.7237 - Val_loss : 0.0026 - Val_Acc: 0.6795  - Time: 9.82407522201538\n",
      "\n"
     ]
    },
    {
     "name": "stderr",
     "output_type": "stream",
     "text": [
      "100%|███████████████████████████████████████████| 40/40 [00:06<00:00,  6.33it/s]\n",
      "100%|███████████████████████████████████████████| 18/18 [00:03<00:00,  5.58it/s]\n"
     ]
    },
    {
     "name": "stdout",
     "output_type": "stream",
     "text": [
      "Epoch : 328 - Train_loss : 0.5279 - Train_Acc: 0.7316 - Val_loss : 0.0026 - Val_Acc: 0.6795  - Time: 9.548712015151978\n",
      "\n"
     ]
    },
    {
     "name": "stderr",
     "output_type": "stream",
     "text": [
      "100%|███████████████████████████████████████████| 40/40 [00:06<00:00,  5.73it/s]\n",
      "100%|███████████████████████████████████████████| 18/18 [00:03<00:00,  5.18it/s]\n"
     ]
    },
    {
     "name": "stdout",
     "output_type": "stream",
     "text": [
      "Epoch : 329 - Train_loss : 0.5286 - Train_Acc: 0.7190 - Val_loss : 0.0026 - Val_Acc: 0.6777  - Time: 10.4555344581604\n",
      "\n"
     ]
    },
    {
     "name": "stderr",
     "output_type": "stream",
     "text": [
      "100%|███████████████████████████████████████████| 40/40 [00:06<00:00,  5.93it/s]\n",
      "100%|███████████████████████████████████████████| 18/18 [00:03<00:00,  5.38it/s]\n"
     ]
    },
    {
     "name": "stdout",
     "output_type": "stream",
     "text": [
      "Epoch : 330 - Train_loss : 0.5339 - Train_Acc: 0.7206 - Val_loss : 0.0026 - Val_Acc: 0.6795  - Time: 10.096925497055054\n",
      "\n"
     ]
    },
    {
     "name": "stderr",
     "output_type": "stream",
     "text": [
      "100%|███████████████████████████████████████████| 40/40 [00:06<00:00,  6.02it/s]\n",
      "100%|███████████████████████████████████████████| 18/18 [00:03<00:00,  5.89it/s]\n"
     ]
    },
    {
     "name": "stdout",
     "output_type": "stream",
     "text": [
      "Epoch : 331 - Train_loss : 0.5296 - Train_Acc: 0.7206 - Val_loss : 0.0026 - Val_Acc: 0.6777  - Time: 9.710496425628662\n",
      "\n"
     ]
    },
    {
     "name": "stderr",
     "output_type": "stream",
     "text": [
      "100%|███████████████████████████████████████████| 40/40 [00:06<00:00,  5.78it/s]\n",
      "100%|███████████████████████████████████████████| 18/18 [00:03<00:00,  5.79it/s]\n"
     ]
    },
    {
     "name": "stdout",
     "output_type": "stream",
     "text": [
      "Epoch : 332 - Train_loss : 0.5332 - Train_Acc: 0.7198 - Val_loss : 0.0026 - Val_Acc: 0.6795  - Time: 10.036855459213257\n",
      "\n"
     ]
    },
    {
     "name": "stderr",
     "output_type": "stream",
     "text": [
      "100%|███████████████████████████████████████████| 40/40 [00:06<00:00,  6.04it/s]\n",
      "100%|███████████████████████████████████████████| 18/18 [00:03<00:00,  4.96it/s]\n"
     ]
    },
    {
     "name": "stdout",
     "output_type": "stream",
     "text": [
      "Epoch : 333 - Train_loss : 0.5342 - Train_Acc: 0.7245 - Val_loss : 0.0026 - Val_Acc: 0.6795  - Time: 10.259255170822144\n",
      "\n"
     ]
    },
    {
     "name": "stderr",
     "output_type": "stream",
     "text": [
      "100%|███████████████████████████████████████████| 40/40 [00:06<00:00,  6.15it/s]\n",
      "100%|███████████████████████████████████████████| 18/18 [00:03<00:00,  4.87it/s]\n"
     ]
    },
    {
     "name": "stdout",
     "output_type": "stream",
     "text": [
      "Epoch : 334 - Train_loss : 0.5281 - Train_Acc: 0.7308 - Val_loss : 0.0026 - Val_Acc: 0.6795  - Time: 10.208327770233154\n",
      "\n"
     ]
    },
    {
     "name": "stderr",
     "output_type": "stream",
     "text": [
      "100%|███████████████████████████████████████████| 40/40 [00:05<00:00,  6.73it/s]\n",
      "100%|███████████████████████████████████████████| 18/18 [00:03<00:00,  5.23it/s]\n"
     ]
    },
    {
     "name": "stdout",
     "output_type": "stream",
     "text": [
      "Epoch : 335 - Train_loss : 0.5313 - Train_Acc: 0.7190 - Val_loss : 0.0026 - Val_Acc: 0.6777  - Time: 9.392005205154419\n",
      "\n"
     ]
    },
    {
     "name": "stderr",
     "output_type": "stream",
     "text": [
      "100%|███████████████████████████████████████████| 40/40 [00:06<00:00,  6.19it/s]\n",
      "100%|███████████████████████████████████████████| 18/18 [00:03<00:00,  5.60it/s]\n"
     ]
    },
    {
     "name": "stdout",
     "output_type": "stream",
     "text": [
      "Epoch : 336 - Train_loss : 0.5350 - Train_Acc: 0.7268 - Val_loss : 0.0026 - Val_Acc: 0.6777  - Time: 9.68584132194519\n",
      "\n"
     ]
    },
    {
     "name": "stderr",
     "output_type": "stream",
     "text": [
      "100%|███████████████████████████████████████████| 40/40 [00:06<00:00,  6.15it/s]\n",
      "100%|███████████████████████████████████████████| 18/18 [00:03<00:00,  5.22it/s]\n"
     ]
    },
    {
     "name": "stdout",
     "output_type": "stream",
     "text": [
      "Epoch : 337 - Train_loss : 0.5297 - Train_Acc: 0.7284 - Val_loss : 0.0026 - Val_Acc: 0.6795  - Time: 9.96516728401184\n",
      "\n"
     ]
    },
    {
     "name": "stderr",
     "output_type": "stream",
     "text": [
      "100%|███████████████████████████████████████████| 40/40 [00:06<00:00,  5.96it/s]\n",
      "100%|███████████████████████████████████████████| 18/18 [00:03<00:00,  5.43it/s]\n"
     ]
    },
    {
     "name": "stdout",
     "output_type": "stream",
     "text": [
      "Epoch : 338 - Train_loss : 0.5320 - Train_Acc: 0.7198 - Val_loss : 0.0026 - Val_Acc: 0.6795  - Time: 10.035489320755005\n",
      "\n"
     ]
    },
    {
     "name": "stderr",
     "output_type": "stream",
     "text": [
      "100%|███████████████████████████████████████████| 40/40 [00:06<00:00,  5.98it/s]\n",
      "100%|███████████████████████████████████████████| 18/18 [00:02<00:00,  6.35it/s]\n"
     ]
    },
    {
     "name": "stdout",
     "output_type": "stream",
     "text": [
      "Epoch : 339 - Train_loss : 0.5327 - Train_Acc: 0.7221 - Val_loss : 0.0026 - Val_Acc: 0.6795  - Time: 9.532900333404541\n",
      "\n"
     ]
    },
    {
     "name": "stderr",
     "output_type": "stream",
     "text": [
      "100%|███████████████████████████████████████████| 40/40 [00:07<00:00,  5.61it/s]\n",
      "100%|███████████████████████████████████████████| 18/18 [00:03<00:00,  5.93it/s]\n"
     ]
    },
    {
     "name": "stdout",
     "output_type": "stream",
     "text": [
      "Epoch : 340 - Train_loss : 0.5329 - Train_Acc: 0.7182 - Val_loss : 0.0026 - Val_Acc: 0.6813  - Time: 10.175112962722778\n",
      "\n"
     ]
    },
    {
     "name": "stderr",
     "output_type": "stream",
     "text": [
      "100%|███████████████████████████████████████████| 40/40 [00:06<00:00,  6.13it/s]\n",
      "100%|███████████████████████████████████████████| 18/18 [00:03<00:00,  4.94it/s]\n"
     ]
    },
    {
     "name": "stdout",
     "output_type": "stream",
     "text": [
      "Epoch : 341 - Train_loss : 0.5277 - Train_Acc: 0.7159 - Val_loss : 0.0026 - Val_Acc: 0.6813  - Time: 10.179075241088867\n",
      "\n"
     ]
    },
    {
     "name": "stderr",
     "output_type": "stream",
     "text": [
      "100%|███████████████████████████████████████████| 40/40 [00:06<00:00,  6.54it/s]\n",
      "100%|███████████████████████████████████████████| 18/18 [00:03<00:00,  4.98it/s]\n"
     ]
    },
    {
     "name": "stdout",
     "output_type": "stream",
     "text": [
      "Epoch : 342 - Train_loss : 0.5304 - Train_Acc: 0.7245 - Val_loss : 0.0026 - Val_Acc: 0.6795  - Time: 9.734516143798828\n",
      "\n"
     ]
    },
    {
     "name": "stderr",
     "output_type": "stream",
     "text": [
      "100%|███████████████████████████████████████████| 40/40 [00:06<00:00,  6.33it/s]\n",
      "100%|███████████████████████████████████████████| 18/18 [00:03<00:00,  4.94it/s]\n"
     ]
    },
    {
     "name": "stdout",
     "output_type": "stream",
     "text": [
      "Epoch : 343 - Train_loss : 0.5283 - Train_Acc: 0.7237 - Val_loss : 0.0026 - Val_Acc: 0.6777  - Time: 9.965751647949219\n",
      "\n"
     ]
    },
    {
     "name": "stderr",
     "output_type": "stream",
     "text": [
      "100%|███████████████████████████████████████████| 40/40 [00:06<00:00,  6.22it/s]\n",
      "100%|███████████████████████████████████████████| 18/18 [00:03<00:00,  5.55it/s]\n"
     ]
    },
    {
     "name": "stdout",
     "output_type": "stream",
     "text": [
      "Epoch : 344 - Train_loss : 0.5275 - Train_Acc: 0.7214 - Val_loss : 0.0026 - Val_Acc: 0.6795  - Time: 9.680632829666138\n",
      "\n"
     ]
    },
    {
     "name": "stderr",
     "output_type": "stream",
     "text": [
      "100%|███████████████████████████████████████████| 40/40 [00:06<00:00,  6.12it/s]\n",
      "100%|███████████████████████████████████████████| 18/18 [00:03<00:00,  5.25it/s]\n"
     ]
    },
    {
     "name": "stdout",
     "output_type": "stream",
     "text": [
      "Epoch : 345 - Train_loss : 0.5287 - Train_Acc: 0.7268 - Val_loss : 0.0026 - Val_Acc: 0.6813  - Time: 9.96403455734253\n",
      "\n"
     ]
    },
    {
     "name": "stderr",
     "output_type": "stream",
     "text": [
      "100%|███████████████████████████████████████████| 40/40 [00:06<00:00,  5.76it/s]\n",
      "100%|███████████████████████████████████████████| 18/18 [00:03<00:00,  5.46it/s]\n"
     ]
    },
    {
     "name": "stdout",
     "output_type": "stream",
     "text": [
      "Epoch : 346 - Train_loss : 0.5294 - Train_Acc: 0.7268 - Val_loss : 0.0026 - Val_Acc: 0.6722  - Time: 10.241180658340454\n",
      "\n"
     ]
    },
    {
     "name": "stderr",
     "output_type": "stream",
     "text": [
      "100%|███████████████████████████████████████████| 40/40 [00:06<00:00,  6.01it/s]\n",
      "100%|███████████████████████████████████████████| 18/18 [00:02<00:00,  6.12it/s]\n"
     ]
    },
    {
     "name": "stdout",
     "output_type": "stream",
     "text": [
      "Epoch : 347 - Train_loss : 0.5310 - Train_Acc: 0.7245 - Val_loss : 0.0026 - Val_Acc: 0.6813  - Time: 9.602734327316284\n",
      "\n"
     ]
    },
    {
     "name": "stderr",
     "output_type": "stream",
     "text": [
      "100%|███████████████████████████████████████████| 40/40 [00:06<00:00,  5.72it/s]\n",
      "100%|███████████████████████████████████████████| 18/18 [00:03<00:00,  5.71it/s]\n"
     ]
    },
    {
     "name": "stdout",
     "output_type": "stream",
     "text": [
      "Epoch : 348 - Train_loss : 0.5269 - Train_Acc: 0.7237 - Val_loss : 0.0026 - Val_Acc: 0.6813  - Time: 10.152432680130005\n",
      "\n"
     ]
    },
    {
     "name": "stderr",
     "output_type": "stream",
     "text": [
      "100%|███████████████████████████████████████████| 40/40 [00:06<00:00,  6.18it/s]\n",
      "100%|███████████████████████████████████████████| 18/18 [00:03<00:00,  5.03it/s]\n"
     ]
    },
    {
     "name": "stdout",
     "output_type": "stream",
     "text": [
      "Epoch : 349 - Train_loss : 0.5300 - Train_Acc: 0.7253 - Val_loss : 0.0026 - Val_Acc: 0.6813  - Time: 10.05980896949768\n",
      "\n"
     ]
    },
    {
     "name": "stderr",
     "output_type": "stream",
     "text": [
      "100%|███████████████████████████████████████████| 40/40 [00:05<00:00,  6.74it/s]\n",
      "100%|███████████████████████████████████████████| 18/18 [00:03<00:00,  5.13it/s]\n"
     ]
    },
    {
     "name": "stdout",
     "output_type": "stream",
     "text": [
      "Epoch : 350 - Train_loss : 0.5358 - Train_Acc: 0.7276 - Val_loss : 0.0026 - Val_Acc: 0.6795  - Time: 9.447541236877441\n",
      "\n"
     ]
    },
    {
     "name": "stderr",
     "output_type": "stream",
     "text": [
      "100%|███████████████████████████████████████████| 40/40 [00:06<00:00,  6.47it/s]\n",
      "100%|███████████████████████████████████████████| 18/18 [00:03<00:00,  5.35it/s]\n"
     ]
    },
    {
     "name": "stdout",
     "output_type": "stream",
     "text": [
      "Epoch : 351 - Train_loss : 0.5282 - Train_Acc: 0.7323 - Val_loss : 0.0026 - Val_Acc: 0.6777  - Time: 9.547269582748413\n",
      "\n"
     ]
    },
    {
     "name": "stderr",
     "output_type": "stream",
     "text": [
      "100%|███████████████████████████████████████████| 40/40 [00:06<00:00,  6.07it/s]\n",
      "100%|███████████████████████████████████████████| 18/18 [00:03<00:00,  5.78it/s]\n"
     ]
    },
    {
     "name": "stdout",
     "output_type": "stream",
     "text": [
      "Epoch : 352 - Train_loss : 0.5305 - Train_Acc: 0.7198 - Val_loss : 0.0026 - Val_Acc: 0.6795  - Time: 9.707249641418457\n",
      "\n"
     ]
    },
    {
     "name": "stderr",
     "output_type": "stream",
     "text": [
      "100%|███████████████████████████████████████████| 40/40 [00:06<00:00,  6.16it/s]\n",
      "100%|███████████████████████████████████████████| 18/18 [00:03<00:00,  5.03it/s]\n"
     ]
    },
    {
     "name": "stdout",
     "output_type": "stream",
     "text": [
      "Epoch : 353 - Train_loss : 0.5289 - Train_Acc: 0.7268 - Val_loss : 0.0026 - Val_Acc: 0.6758  - Time: 10.081414699554443\n",
      "\n"
     ]
    },
    {
     "name": "stderr",
     "output_type": "stream",
     "text": [
      "100%|███████████████████████████████████████████| 40/40 [00:06<00:00,  5.79it/s]\n",
      "100%|███████████████████████████████████████████| 18/18 [00:03<00:00,  5.91it/s]\n"
     ]
    },
    {
     "name": "stdout",
     "output_type": "stream",
     "text": [
      "Epoch : 354 - Train_loss : 0.5308 - Train_Acc: 0.7221 - Val_loss : 0.0026 - Val_Acc: 0.6795  - Time: 9.962029933929443\n",
      "\n"
     ]
    },
    {
     "name": "stderr",
     "output_type": "stream",
     "text": [
      "100%|███████████████████████████████████████████| 40/40 [00:06<00:00,  5.89it/s]\n",
      "100%|███████████████████████████████████████████| 18/18 [00:02<00:00,  6.21it/s]\n"
     ]
    },
    {
     "name": "stdout",
     "output_type": "stream",
     "text": [
      "Epoch : 355 - Train_loss : 0.5285 - Train_Acc: 0.7323 - Val_loss : 0.0026 - Val_Acc: 0.6795  - Time: 9.68831467628479\n",
      "\n"
     ]
    },
    {
     "name": "stderr",
     "output_type": "stream",
     "text": [
      "100%|███████████████████████████████████████████| 40/40 [00:06<00:00,  6.14it/s]\n",
      "100%|███████████████████████████████████████████| 18/18 [00:03<00:00,  5.01it/s]\n"
     ]
    },
    {
     "name": "stdout",
     "output_type": "stream",
     "text": [
      "Epoch : 356 - Train_loss : 0.5340 - Train_Acc: 0.7174 - Val_loss : 0.0026 - Val_Acc: 0.6795  - Time: 10.113174438476562\n",
      "\n"
     ]
    },
    {
     "name": "stderr",
     "output_type": "stream",
     "text": [
      "100%|███████████████████████████████████████████| 40/40 [00:06<00:00,  6.56it/s]\n",
      "100%|███████████████████████████████████████████| 18/18 [00:03<00:00,  4.96it/s]\n"
     ]
    },
    {
     "name": "stdout",
     "output_type": "stream",
     "text": [
      "Epoch : 357 - Train_loss : 0.5285 - Train_Acc: 0.7276 - Val_loss : 0.0026 - Val_Acc: 0.6795  - Time: 9.738090991973877\n",
      "\n"
     ]
    },
    {
     "name": "stderr",
     "output_type": "stream",
     "text": [
      "100%|███████████████████████████████████████████| 40/40 [00:06<00:00,  6.51it/s]\n",
      "100%|███████████████████████████████████████████| 18/18 [00:03<00:00,  5.26it/s]\n"
     ]
    },
    {
     "name": "stdout",
     "output_type": "stream",
     "text": [
      "Epoch : 358 - Train_loss : 0.5301 - Train_Acc: 0.7229 - Val_loss : 0.0026 - Val_Acc: 0.6795  - Time: 9.575257778167725\n",
      "\n"
     ]
    },
    {
     "name": "stderr",
     "output_type": "stream",
     "text": [
      "100%|███████████████████████████████████████████| 40/40 [00:06<00:00,  6.12it/s]\n",
      "100%|███████████████████████████████████████████| 18/18 [00:03<00:00,  5.69it/s]\n"
     ]
    },
    {
     "name": "stdout",
     "output_type": "stream",
     "text": [
      "Epoch : 359 - Train_loss : 0.5364 - Train_Acc: 0.7206 - Val_loss : 0.0026 - Val_Acc: 0.6795  - Time: 9.700878143310547\n",
      "\n"
     ]
    },
    {
     "name": "stderr",
     "output_type": "stream",
     "text": [
      "100%|███████████████████████████████████████████| 40/40 [00:06<00:00,  6.30it/s]\n",
      "100%|███████████████████████████████████████████| 18/18 [00:03<00:00,  5.41it/s]\n"
     ]
    },
    {
     "name": "stdout",
     "output_type": "stream",
     "text": [
      "Epoch : 360 - Train_loss : 0.5259 - Train_Acc: 0.7284 - Val_loss : 0.0026 - Val_Acc: 0.6795  - Time: 9.683165788650513\n",
      "\n"
     ]
    },
    {
     "name": "stderr",
     "output_type": "stream",
     "text": [
      "100%|███████████████████████████████████████████| 40/40 [00:07<00:00,  5.58it/s]\n",
      "100%|███████████████████████████████████████████| 18/18 [00:03<00:00,  5.74it/s]\n"
     ]
    },
    {
     "name": "stdout",
     "output_type": "stream",
     "text": [
      "Epoch : 361 - Train_loss : 0.5263 - Train_Acc: 0.7331 - Val_loss : 0.0026 - Val_Acc: 0.6813  - Time: 10.306896448135376\n",
      "\n"
     ]
    },
    {
     "name": "stderr",
     "output_type": "stream",
     "text": [
      "100%|███████████████████████████████████████████| 40/40 [00:06<00:00,  5.75it/s]\n",
      "100%|███████████████████████████████████████████| 18/18 [00:03<00:00,  5.80it/s]\n"
     ]
    },
    {
     "name": "stdout",
     "output_type": "stream",
     "text": [
      "Epoch : 362 - Train_loss : 0.5296 - Train_Acc: 0.7237 - Val_loss : 0.0026 - Val_Acc: 0.6813  - Time: 10.060215950012207\n",
      "\n"
     ]
    },
    {
     "name": "stderr",
     "output_type": "stream",
     "text": [
      "100%|███████████████████████████████████████████| 40/40 [00:06<00:00,  5.96it/s]\n",
      "100%|███████████████████████████████████████████| 18/18 [00:03<00:00,  5.16it/s]\n"
     ]
    },
    {
     "name": "stdout",
     "output_type": "stream",
     "text": [
      "Epoch : 363 - Train_loss : 0.5301 - Train_Acc: 0.7229 - Val_loss : 0.0026 - Val_Acc: 0.6795  - Time: 10.203552007675171\n",
      "\n"
     ]
    },
    {
     "name": "stderr",
     "output_type": "stream",
     "text": [
      "100%|███████████████████████████████████████████| 40/40 [00:06<00:00,  6.46it/s]\n",
      "100%|███████████████████████████████████████████| 18/18 [00:03<00:00,  4.79it/s]\n"
     ]
    },
    {
     "name": "stdout",
     "output_type": "stream",
     "text": [
      "Epoch : 364 - Train_loss : 0.5314 - Train_Acc: 0.7221 - Val_loss : 0.0026 - Val_Acc: 0.6758  - Time: 9.961206674575806\n",
      "\n"
     ]
    },
    {
     "name": "stderr",
     "output_type": "stream",
     "text": [
      "100%|███████████████████████████████████████████| 40/40 [00:06<00:00,  6.25it/s]\n",
      "100%|███████████████████████████████████████████| 18/18 [00:03<00:00,  5.19it/s]\n"
     ]
    },
    {
     "name": "stdout",
     "output_type": "stream",
     "text": [
      "Epoch : 365 - Train_loss : 0.5284 - Train_Acc: 0.7190 - Val_loss : 0.0026 - Val_Acc: 0.6795  - Time: 9.872836112976074\n",
      "\n"
     ]
    },
    {
     "name": "stderr",
     "output_type": "stream",
     "text": [
      "100%|███████████████████████████████████████████| 40/40 [00:06<00:00,  6.32it/s]\n",
      "100%|███████████████████████████████████████████| 18/18 [00:03<00:00,  5.53it/s]\n"
     ]
    },
    {
     "name": "stdout",
     "output_type": "stream",
     "text": [
      "Epoch : 366 - Train_loss : 0.5308 - Train_Acc: 0.7166 - Val_loss : 0.0026 - Val_Acc: 0.6758  - Time: 9.593325138092041\n",
      "\n"
     ]
    },
    {
     "name": "stderr",
     "output_type": "stream",
     "text": [
      "100%|███████████████████████████████████████████| 40/40 [00:06<00:00,  6.30it/s]\n",
      "100%|███████████████████████████████████████████| 18/18 [00:03<00:00,  5.49it/s]\n"
     ]
    },
    {
     "name": "stdout",
     "output_type": "stream",
     "text": [
      "Epoch : 367 - Train_loss : 0.5257 - Train_Acc: 0.7276 - Val_loss : 0.0026 - Val_Acc: 0.6777  - Time: 9.629971981048584\n",
      "\n"
     ]
    },
    {
     "name": "stderr",
     "output_type": "stream",
     "text": [
      "100%|███████████████████████████████████████████| 40/40 [00:06<00:00,  5.77it/s]\n",
      "100%|███████████████████████████████████████████| 18/18 [00:03<00:00,  5.56it/s]\n"
     ]
    },
    {
     "name": "stdout",
     "output_type": "stream",
     "text": [
      "Epoch : 368 - Train_loss : 0.5260 - Train_Acc: 0.7190 - Val_loss : 0.0026 - Val_Acc: 0.6795  - Time: 10.179475545883179\n",
      "\n"
     ]
    },
    {
     "name": "stderr",
     "output_type": "stream",
     "text": [
      "100%|███████████████████████████████████████████| 40/40 [00:06<00:00,  5.85it/s]\n",
      "100%|███████████████████████████████████████████| 18/18 [00:03<00:00,  5.92it/s]\n"
     ]
    },
    {
     "name": "stdout",
     "output_type": "stream",
     "text": [
      "Epoch : 369 - Train_loss : 0.5267 - Train_Acc: 0.7253 - Val_loss : 0.0026 - Val_Acc: 0.6813  - Time: 9.881036758422852\n",
      "\n"
     ]
    },
    {
     "name": "stderr",
     "output_type": "stream",
     "text": [
      "100%|███████████████████████████████████████████| 40/40 [00:07<00:00,  5.66it/s]\n",
      "100%|███████████████████████████████████████████| 18/18 [00:03<00:00,  5.65it/s]\n"
     ]
    },
    {
     "name": "stdout",
     "output_type": "stream",
     "text": [
      "Epoch : 370 - Train_loss : 0.5305 - Train_Acc: 0.7261 - Val_loss : 0.0026 - Val_Acc: 0.6795  - Time: 10.255452871322632\n",
      "\n"
     ]
    },
    {
     "name": "stderr",
     "output_type": "stream",
     "text": [
      "100%|███████████████████████████████████████████| 40/40 [00:06<00:00,  6.10it/s]\n",
      "100%|███████████████████████████████████████████| 18/18 [00:03<00:00,  5.25it/s]\n"
     ]
    },
    {
     "name": "stdout",
     "output_type": "stream",
     "text": [
      "Epoch : 371 - Train_loss : 0.5243 - Train_Acc: 0.7237 - Val_loss : 0.0026 - Val_Acc: 0.6795  - Time: 9.994812488555908\n",
      "\n"
     ]
    },
    {
     "name": "stderr",
     "output_type": "stream",
     "text": [
      "100%|███████████████████████████████████████████| 40/40 [00:05<00:00,  6.72it/s]\n",
      "100%|███████████████████████████████████████████| 18/18 [00:03<00:00,  4.72it/s]\n"
     ]
    },
    {
     "name": "stdout",
     "output_type": "stream",
     "text": [
      "Epoch : 372 - Train_loss : 0.5286 - Train_Acc: 0.7221 - Val_loss : 0.0026 - Val_Acc: 0.6758  - Time: 9.773158311843872\n",
      "\n"
     ]
    },
    {
     "name": "stderr",
     "output_type": "stream",
     "text": [
      "100%|███████████████████████████████████████████| 40/40 [00:06<00:00,  6.27it/s]\n",
      "100%|███████████████████████████████████████████| 18/18 [00:03<00:00,  5.37it/s]\n"
     ]
    },
    {
     "name": "stdout",
     "output_type": "stream",
     "text": [
      "Epoch : 373 - Train_loss : 0.5307 - Train_Acc: 0.7206 - Val_loss : 0.0026 - Val_Acc: 0.6795  - Time: 9.741201639175415\n",
      "\n"
     ]
    },
    {
     "name": "stderr",
     "output_type": "stream",
     "text": [
      "100%|███████████████████████████████████████████| 40/40 [00:06<00:00,  6.14it/s]\n",
      "100%|███████████████████████████████████████████| 18/18 [00:03<00:00,  5.70it/s]\n"
     ]
    },
    {
     "name": "stdout",
     "output_type": "stream",
     "text": [
      "Epoch : 374 - Train_loss : 0.5355 - Train_Acc: 0.7166 - Val_loss : 0.0026 - Val_Acc: 0.6795  - Time: 9.677733659744263\n",
      "\n"
     ]
    },
    {
     "name": "stderr",
     "output_type": "stream",
     "text": [
      "100%|███████████████████████████████████████████| 40/40 [00:06<00:00,  6.37it/s]\n",
      "100%|███████████████████████████████████████████| 18/18 [00:03<00:00,  5.48it/s]\n"
     ]
    },
    {
     "name": "stdout",
     "output_type": "stream",
     "text": [
      "Epoch : 375 - Train_loss : 0.5289 - Train_Acc: 0.7221 - Val_loss : 0.0026 - Val_Acc: 0.6758  - Time: 9.568214893341064\n",
      "\n"
     ]
    },
    {
     "name": "stderr",
     "output_type": "stream",
     "text": [
      "100%|███████████████████████████████████████████| 40/40 [00:06<00:00,  5.86it/s]\n",
      "100%|███████████████████████████████████████████| 18/18 [00:03<00:00,  5.93it/s]\n"
     ]
    },
    {
     "name": "stdout",
     "output_type": "stream",
     "text": [
      "Epoch : 376 - Train_loss : 0.5307 - Train_Acc: 0.7151 - Val_loss : 0.0026 - Val_Acc: 0.6777  - Time: 9.863972425460815\n",
      "\n"
     ]
    },
    {
     "name": "stderr",
     "output_type": "stream",
     "text": [
      "100%|███████████████████████████████████████████| 40/40 [00:06<00:00,  6.01it/s]\n",
      "100%|███████████████████████████████████████████| 18/18 [00:03<00:00,  5.60it/s]\n"
     ]
    },
    {
     "name": "stdout",
     "output_type": "stream",
     "text": [
      "Epoch : 377 - Train_loss : 0.5283 - Train_Acc: 0.7261 - Val_loss : 0.0026 - Val_Acc: 0.6795  - Time: 9.875570058822632\n",
      "\n"
     ]
    },
    {
     "name": "stderr",
     "output_type": "stream",
     "text": [
      "100%|███████████████████████████████████████████| 40/40 [00:06<00:00,  5.91it/s]\n",
      "100%|███████████████████████████████████████████| 18/18 [00:03<00:00,  5.19it/s]\n"
     ]
    },
    {
     "name": "stdout",
     "output_type": "stream",
     "text": [
      "Epoch : 378 - Train_loss : 0.5297 - Train_Acc: 0.7198 - Val_loss : 0.0026 - Val_Acc: 0.6795  - Time: 10.242882013320923\n",
      "\n"
     ]
    },
    {
     "name": "stderr",
     "output_type": "stream",
     "text": [
      "100%|███████████████████████████████████████████| 40/40 [00:06<00:00,  6.66it/s]\n",
      "100%|███████████████████████████████████████████| 18/18 [00:03<00:00,  4.84it/s]\n"
     ]
    },
    {
     "name": "stdout",
     "output_type": "stream",
     "text": [
      "Epoch : 379 - Train_loss : 0.5282 - Train_Acc: 0.7245 - Val_loss : 0.0026 - Val_Acc: 0.6795  - Time: 9.731001615524292\n",
      "\n"
     ]
    },
    {
     "name": "stderr",
     "output_type": "stream",
     "text": [
      "100%|███████████████████████████████████████████| 40/40 [00:06<00:00,  6.12it/s]\n",
      "100%|███████████████████████████████████████████| 18/18 [00:03<00:00,  5.31it/s]\n"
     ]
    },
    {
     "name": "stdout",
     "output_type": "stream",
     "text": [
      "Epoch : 380 - Train_loss : 0.5283 - Train_Acc: 0.7198 - Val_loss : 0.0026 - Val_Acc: 0.6795  - Time: 9.93220329284668\n",
      "\n"
     ]
    },
    {
     "name": "stderr",
     "output_type": "stream",
     "text": [
      "100%|███████████████████████████████████████████| 40/40 [00:06<00:00,  6.38it/s]\n",
      "100%|███████████████████████████████████████████| 18/18 [00:03<00:00,  5.54it/s]\n"
     ]
    },
    {
     "name": "stdout",
     "output_type": "stream",
     "text": [
      "Epoch : 381 - Train_loss : 0.5302 - Train_Acc: 0.7221 - Val_loss : 0.0026 - Val_Acc: 0.6777  - Time: 9.52620816230774\n",
      "\n"
     ]
    },
    {
     "name": "stderr",
     "output_type": "stream",
     "text": [
      "100%|███████████████████████████████████████████| 40/40 [00:06<00:00,  5.89it/s]\n",
      "100%|███████████████████████████████████████████| 18/18 [00:03<00:00,  5.40it/s]\n"
     ]
    },
    {
     "name": "stdout",
     "output_type": "stream",
     "text": [
      "Epoch : 382 - Train_loss : 0.5276 - Train_Acc: 0.7276 - Val_loss : 0.0026 - Val_Acc: 0.6795  - Time: 10.135320663452148\n",
      "\n"
     ]
    },
    {
     "name": "stderr",
     "output_type": "stream",
     "text": [
      "100%|███████████████████████████████████████████| 40/40 [00:06<00:00,  5.84it/s]\n",
      "100%|███████████████████████████████████████████| 18/18 [00:03<00:00,  5.61it/s]\n"
     ]
    },
    {
     "name": "stdout",
     "output_type": "stream",
     "text": [
      "Epoch : 383 - Train_loss : 0.5357 - Train_Acc: 0.7292 - Val_loss : 0.0026 - Val_Acc: 0.6813  - Time: 10.064330101013184\n",
      "\n"
     ]
    },
    {
     "name": "stderr",
     "output_type": "stream",
     "text": [
      "100%|███████████████████████████████████████████| 40/40 [00:06<00:00,  5.99it/s]\n",
      "100%|███████████████████████████████████████████| 18/18 [00:03<00:00,  5.87it/s]\n"
     ]
    },
    {
     "name": "stdout",
     "output_type": "stream",
     "text": [
      "Epoch : 384 - Train_loss : 0.5288 - Train_Acc: 0.7229 - Val_loss : 0.0026 - Val_Acc: 0.6795  - Time: 9.745134115219116\n",
      "\n"
     ]
    },
    {
     "name": "stderr",
     "output_type": "stream",
     "text": [
      "100%|███████████████████████████████████████████| 40/40 [00:06<00:00,  5.81it/s]\n",
      "100%|███████████████████████████████████████████| 18/18 [00:03<00:00,  5.54it/s]\n"
     ]
    },
    {
     "name": "stdout",
     "output_type": "stream",
     "text": [
      "Epoch : 385 - Train_loss : 0.5267 - Train_Acc: 0.7245 - Val_loss : 0.0026 - Val_Acc: 0.6795  - Time: 10.147043228149414\n",
      "\n"
     ]
    },
    {
     "name": "stderr",
     "output_type": "stream",
     "text": [
      "100%|███████████████████████████████████████████| 40/40 [00:07<00:00,  5.63it/s]\n",
      "100%|███████████████████████████████████████████| 18/18 [00:03<00:00,  5.11it/s]\n"
     ]
    },
    {
     "name": "stdout",
     "output_type": "stream",
     "text": [
      "Epoch : 386 - Train_loss : 0.5274 - Train_Acc: 0.7300 - Val_loss : 0.0026 - Val_Acc: 0.6777  - Time: 10.631536483764648\n",
      "\n"
     ]
    },
    {
     "name": "stderr",
     "output_type": "stream",
     "text": [
      "100%|███████████████████████████████████████████| 40/40 [00:06<00:00,  6.52it/s]\n",
      "100%|███████████████████████████████████████████| 18/18 [00:03<00:00,  4.76it/s]\n"
     ]
    },
    {
     "name": "stdout",
     "output_type": "stream",
     "text": [
      "Epoch : 387 - Train_loss : 0.5259 - Train_Acc: 0.7198 - Val_loss : 0.0026 - Val_Acc: 0.6795  - Time: 9.921679258346558\n",
      "\n"
     ]
    },
    {
     "name": "stderr",
     "output_type": "stream",
     "text": [
      "100%|███████████████████████████████████████████| 40/40 [00:06<00:00,  6.50it/s]\n",
      "100%|███████████████████████████████████████████| 18/18 [00:03<00:00,  5.05it/s]\n"
     ]
    },
    {
     "name": "stdout",
     "output_type": "stream",
     "text": [
      "Epoch : 388 - Train_loss : 0.5316 - Train_Acc: 0.7245 - Val_loss : 0.0026 - Val_Acc: 0.6795  - Time: 9.727630376815796\n",
      "\n"
     ]
    },
    {
     "name": "stderr",
     "output_type": "stream",
     "text": [
      "100%|███████████████████████████████████████████| 40/40 [00:06<00:00,  6.29it/s]\n",
      "100%|███████████████████████████████████████████| 18/18 [00:03<00:00,  5.63it/s]\n"
     ]
    },
    {
     "name": "stdout",
     "output_type": "stream",
     "text": [
      "Epoch : 389 - Train_loss : 0.5222 - Train_Acc: 0.7331 - Val_loss : 0.0026 - Val_Acc: 0.6777  - Time: 9.5644052028656\n",
      "\n"
     ]
    },
    {
     "name": "stderr",
     "output_type": "stream",
     "text": [
      "100%|███████████████████████████████████████████| 40/40 [00:06<00:00,  6.13it/s]\n",
      "100%|███████████████████████████████████████████| 18/18 [00:03<00:00,  5.48it/s]\n"
     ]
    },
    {
     "name": "stdout",
     "output_type": "stream",
     "text": [
      "Epoch : 390 - Train_loss : 0.5251 - Train_Acc: 0.7339 - Val_loss : 0.0026 - Val_Acc: 0.6740  - Time: 9.814661979675293\n",
      "\n"
     ]
    },
    {
     "name": "stderr",
     "output_type": "stream",
     "text": [
      "100%|███████████████████████████████████████████| 40/40 [00:06<00:00,  5.86it/s]\n",
      "100%|███████████████████████████████████████████| 18/18 [00:03<00:00,  5.33it/s]\n"
     ]
    },
    {
     "name": "stdout",
     "output_type": "stream",
     "text": [
      "Epoch : 391 - Train_loss : 0.5272 - Train_Acc: 0.7229 - Val_loss : 0.0026 - Val_Acc: 0.6758  - Time: 10.214547395706177\n",
      "\n"
     ]
    },
    {
     "name": "stderr",
     "output_type": "stream",
     "text": [
      "100%|███████████████████████████████████████████| 40/40 [00:06<00:00,  5.86it/s]\n",
      "100%|███████████████████████████████████████████| 18/18 [00:03<00:00,  5.69it/s]\n"
     ]
    },
    {
     "name": "stdout",
     "output_type": "stream",
     "text": [
      "Epoch : 392 - Train_loss : 0.5303 - Train_Acc: 0.7174 - Val_loss : 0.0026 - Val_Acc: 0.6758  - Time: 9.994995832443237\n",
      "\n"
     ]
    },
    {
     "name": "stderr",
     "output_type": "stream",
     "text": [
      "100%|███████████████████████████████████████████| 40/40 [00:06<00:00,  5.97it/s]\n",
      "100%|███████████████████████████████████████████| 18/18 [00:03<00:00,  5.84it/s]\n"
     ]
    },
    {
     "name": "stdout",
     "output_type": "stream",
     "text": [
      "Epoch : 393 - Train_loss : 0.5256 - Train_Acc: 0.7245 - Val_loss : 0.0026 - Val_Acc: 0.6758  - Time: 9.789504766464233\n",
      "\n"
     ]
    },
    {
     "name": "stderr",
     "output_type": "stream",
     "text": [
      "100%|███████████████████████████████████████████| 40/40 [00:07<00:00,  5.70it/s]\n",
      "100%|███████████████████████████████████████████| 18/18 [00:03<00:00,  5.36it/s]\n"
     ]
    },
    {
     "name": "stdout",
     "output_type": "stream",
     "text": [
      "Epoch : 394 - Train_loss : 0.5290 - Train_Acc: 0.7206 - Val_loss : 0.0026 - Val_Acc: 0.6758  - Time: 10.380285024642944\n",
      "\n"
     ]
    },
    {
     "name": "stderr",
     "output_type": "stream",
     "text": [
      "100%|███████████████████████████████████████████| 40/40 [00:06<00:00,  6.55it/s]\n",
      "100%|███████████████████████████████████████████| 18/18 [00:03<00:00,  4.91it/s]\n"
     ]
    },
    {
     "name": "stdout",
     "output_type": "stream",
     "text": [
      "Epoch : 395 - Train_loss : 0.5245 - Train_Acc: 0.7229 - Val_loss : 0.0026 - Val_Acc: 0.6758  - Time: 9.786455631256104\n",
      "\n"
     ]
    },
    {
     "name": "stderr",
     "output_type": "stream",
     "text": [
      "100%|███████████████████████████████████████████| 40/40 [00:06<00:00,  6.28it/s]\n",
      "100%|███████████████████████████████████████████| 18/18 [00:03<00:00,  4.65it/s]\n"
     ]
    },
    {
     "name": "stdout",
     "output_type": "stream",
     "text": [
      "Epoch : 396 - Train_loss : 0.5258 - Train_Acc: 0.7221 - Val_loss : 0.0026 - Val_Acc: 0.6777  - Time: 10.24507188796997\n",
      "\n"
     ]
    },
    {
     "name": "stderr",
     "output_type": "stream",
     "text": [
      "100%|███████████████████████████████████████████| 40/40 [00:06<00:00,  6.32it/s]\n",
      "100%|███████████████████████████████████████████| 18/18 [00:03<00:00,  5.51it/s]\n"
     ]
    },
    {
     "name": "stdout",
     "output_type": "stream",
     "text": [
      "Epoch : 397 - Train_loss : 0.5293 - Train_Acc: 0.7261 - Val_loss : 0.0026 - Val_Acc: 0.6777  - Time: 9.606476545333862\n",
      "\n"
     ]
    },
    {
     "name": "stderr",
     "output_type": "stream",
     "text": [
      "100%|███████████████████████████████████████████| 40/40 [00:06<00:00,  6.14it/s]\n",
      "100%|███████████████████████████████████████████| 18/18 [00:03<00:00,  5.36it/s]\n"
     ]
    },
    {
     "name": "stdout",
     "output_type": "stream",
     "text": [
      "Epoch : 398 - Train_loss : 0.5313 - Train_Acc: 0.7245 - Val_loss : 0.0026 - Val_Acc: 0.6758  - Time: 9.871530294418335\n",
      "\n"
     ]
    },
    {
     "name": "stderr",
     "output_type": "stream",
     "text": [
      "100%|███████████████████████████████████████████| 40/40 [00:06<00:00,  6.04it/s]\n",
      "100%|███████████████████████████████████████████| 18/18 [00:03<00:00,  5.59it/s]\n"
     ]
    },
    {
     "name": "stdout",
     "output_type": "stream",
     "text": [
      "Epoch : 399 - Train_loss : 0.5268 - Train_Acc: 0.7245 - Val_loss : 0.0026 - Val_Acc: 0.6777  - Time: 9.847947359085083\n",
      "\n"
     ]
    },
    {
     "name": "stderr",
     "output_type": "stream",
     "text": [
      "100%|███████████████████████████████████████████| 40/40 [00:06<00:00,  5.74it/s]\n",
      "100%|███████████████████████████████████████████| 18/18 [00:02<00:00,  6.01it/s]\n"
     ]
    },
    {
     "name": "stdout",
     "output_type": "stream",
     "text": [
      "Epoch : 400 - Train_loss : 0.5297 - Train_Acc: 0.7198 - Val_loss : 0.0026 - Val_Acc: 0.6758  - Time: 9.965480327606201\n",
      "\n"
     ]
    },
    {
     "name": "stderr",
     "output_type": "stream",
     "text": [
      "100%|███████████████████████████████████████████| 40/40 [00:06<00:00,  5.87it/s]\n",
      "100%|███████████████████████████████████████████| 18/18 [00:03<00:00,  5.56it/s]\n"
     ]
    },
    {
     "name": "stdout",
     "output_type": "stream",
     "text": [
      "Epoch : 401 - Train_loss : 0.5292 - Train_Acc: 0.7253 - Val_loss : 0.0026 - Val_Acc: 0.6758  - Time: 10.06366753578186\n",
      "\n"
     ]
    },
    {
     "name": "stderr",
     "output_type": "stream",
     "text": [
      "100%|███████████████████████████████████████████| 40/40 [00:06<00:00,  5.81it/s]\n",
      "100%|███████████████████████████████████████████| 18/18 [00:03<00:00,  5.21it/s]\n"
     ]
    },
    {
     "name": "stdout",
     "output_type": "stream",
     "text": [
      "Epoch : 402 - Train_loss : 0.5318 - Train_Acc: 0.7198 - Val_loss : 0.0026 - Val_Acc: 0.6758  - Time: 10.342371463775635\n",
      "\n"
     ]
    },
    {
     "name": "stderr",
     "output_type": "stream",
     "text": [
      "100%|███████████████████████████████████████████| 40/40 [00:06<00:00,  5.94it/s]\n",
      "100%|███████████████████████████████████████████| 18/18 [00:03<00:00,  4.76it/s]\n"
     ]
    },
    {
     "name": "stdout",
     "output_type": "stream",
     "text": [
      "Epoch : 403 - Train_loss : 0.5285 - Train_Acc: 0.7261 - Val_loss : 0.0026 - Val_Acc: 0.6777  - Time: 10.521356105804443\n",
      "\n"
     ]
    },
    {
     "name": "stderr",
     "output_type": "stream",
     "text": [
      "100%|███████████████████████████████████████████| 40/40 [00:06<00:00,  6.31it/s]\n",
      "100%|███████████████████████████████████████████| 18/18 [00:03<00:00,  4.94it/s]\n"
     ]
    },
    {
     "name": "stdout",
     "output_type": "stream",
     "text": [
      "Epoch : 404 - Train_loss : 0.5256 - Train_Acc: 0.7268 - Val_loss : 0.0026 - Val_Acc: 0.6758  - Time: 9.99094843864441\n",
      "\n"
     ]
    },
    {
     "name": "stderr",
     "output_type": "stream",
     "text": [
      "100%|███████████████████████████████████████████| 40/40 [00:06<00:00,  6.44it/s]\n",
      "100%|███████████████████████████████████████████| 18/18 [00:03<00:00,  5.54it/s]\n"
     ]
    },
    {
     "name": "stdout",
     "output_type": "stream",
     "text": [
      "Epoch : 405 - Train_loss : 0.5335 - Train_Acc: 0.7127 - Val_loss : 0.0026 - Val_Acc: 0.6795  - Time: 9.466716289520264\n",
      "\n"
     ]
    },
    {
     "name": "stderr",
     "output_type": "stream",
     "text": [
      "100%|███████████████████████████████████████████| 40/40 [00:06<00:00,  6.01it/s]\n",
      "100%|███████████████████████████████████████████| 18/18 [00:03<00:00,  5.73it/s]\n"
     ]
    },
    {
     "name": "stdout",
     "output_type": "stream",
     "text": [
      "Epoch : 406 - Train_loss : 0.5242 - Train_Acc: 0.7339 - Val_loss : 0.0026 - Val_Acc: 0.6703  - Time: 9.797882556915283\n",
      "\n"
     ]
    },
    {
     "name": "stderr",
     "output_type": "stream",
     "text": [
      "100%|███████████████████████████████████████████| 40/40 [00:06<00:00,  6.20it/s]\n",
      "100%|███████████████████████████████████████████| 18/18 [00:03<00:00,  5.55it/s]\n"
     ]
    },
    {
     "name": "stdout",
     "output_type": "stream",
     "text": [
      "Epoch : 407 - Train_loss : 0.5239 - Train_Acc: 0.7214 - Val_loss : 0.0026 - Val_Acc: 0.6740  - Time: 9.707170009613037\n",
      "\n"
     ]
    },
    {
     "name": "stderr",
     "output_type": "stream",
     "text": [
      "100%|███████████████████████████████████████████| 40/40 [00:06<00:00,  5.75it/s]\n",
      "100%|███████████████████████████████████████████| 18/18 [00:03<00:00,  5.71it/s]\n"
     ]
    },
    {
     "name": "stdout",
     "output_type": "stream",
     "text": [
      "Epoch : 408 - Train_loss : 0.5250 - Train_Acc: 0.7174 - Val_loss : 0.0026 - Val_Acc: 0.6722  - Time: 10.116858005523682\n",
      "\n"
     ]
    },
    {
     "name": "stderr",
     "output_type": "stream",
     "text": [
      "100%|███████████████████████████████████████████| 40/40 [00:06<00:00,  5.89it/s]\n",
      "100%|███████████████████████████████████████████| 18/18 [00:03<00:00,  5.67it/s]\n"
     ]
    },
    {
     "name": "stdout",
     "output_type": "stream",
     "text": [
      "Epoch : 409 - Train_loss : 0.5258 - Train_Acc: 0.7268 - Val_loss : 0.0026 - Val_Acc: 0.6758  - Time: 9.970008611679077\n",
      "\n"
     ]
    },
    {
     "name": "stderr",
     "output_type": "stream",
     "text": [
      "100%|███████████████████████████████████████████| 40/40 [00:06<00:00,  5.84it/s]\n",
      "100%|███████████████████████████████████████████| 18/18 [00:03<00:00,  5.41it/s]\n"
     ]
    },
    {
     "name": "stdout",
     "output_type": "stream",
     "text": [
      "Epoch : 410 - Train_loss : 0.5241 - Train_Acc: 0.7253 - Val_loss : 0.0026 - Val_Acc: 0.6758  - Time: 10.181690454483032\n",
      "\n"
     ]
    },
    {
     "name": "stderr",
     "output_type": "stream",
     "text": [
      "100%|███████████████████████████████████████████| 40/40 [00:06<00:00,  6.19it/s]\n",
      "100%|███████████████████████████████████████████| 18/18 [00:03<00:00,  4.95it/s]\n"
     ]
    },
    {
     "name": "stdout",
     "output_type": "stream",
     "text": [
      "Epoch : 411 - Train_loss : 0.5302 - Train_Acc: 0.7198 - Val_loss : 0.0026 - Val_Acc: 0.6758  - Time: 10.10141634941101\n",
      "\n"
     ]
    },
    {
     "name": "stderr",
     "output_type": "stream",
     "text": [
      "100%|███████████████████████████████████████████| 40/40 [00:05<00:00,  6.83it/s]\n",
      "100%|███████████████████████████████████████████| 18/18 [00:03<00:00,  4.84it/s]\n"
     ]
    },
    {
     "name": "stdout",
     "output_type": "stream",
     "text": [
      "Epoch : 412 - Train_loss : 0.5250 - Train_Acc: 0.7190 - Val_loss : 0.0026 - Val_Acc: 0.6777  - Time: 9.584574222564697\n",
      "\n"
     ]
    },
    {
     "name": "stderr",
     "output_type": "stream",
     "text": [
      "100%|███████████████████████████████████████████| 40/40 [00:06<00:00,  6.29it/s]\n",
      "100%|███████████████████████████████████████████| 18/18 [00:03<00:00,  5.67it/s]\n"
     ]
    },
    {
     "name": "stdout",
     "output_type": "stream",
     "text": [
      "Epoch : 413 - Train_loss : 0.5256 - Train_Acc: 0.7292 - Val_loss : 0.0026 - Val_Acc: 0.6777  - Time: 9.54082465171814\n",
      "\n"
     ]
    },
    {
     "name": "stderr",
     "output_type": "stream",
     "text": [
      "100%|███████████████████████████████████████████| 40/40 [00:06<00:00,  6.43it/s]\n",
      "100%|███████████████████████████████████████████| 18/18 [00:03<00:00,  5.59it/s]\n"
     ]
    },
    {
     "name": "stdout",
     "output_type": "stream",
     "text": [
      "Epoch : 414 - Train_loss : 0.5304 - Train_Acc: 0.7261 - Val_loss : 0.0026 - Val_Acc: 0.6813  - Time: 9.446419954299927\n",
      "\n"
     ]
    },
    {
     "name": "stderr",
     "output_type": "stream",
     "text": [
      "100%|███████████████████████████████████████████| 40/40 [00:06<00:00,  5.83it/s]\n",
      "100%|███████████████████████████████████████████| 18/18 [00:03<00:00,  5.49it/s]\n"
     ]
    },
    {
     "name": "stdout",
     "output_type": "stream",
     "text": [
      "Epoch : 415 - Train_loss : 0.5241 - Train_Acc: 0.7308 - Val_loss : 0.0026 - Val_Acc: 0.6740  - Time: 10.142996788024902\n",
      "\n"
     ]
    },
    {
     "name": "stderr",
     "output_type": "stream",
     "text": [
      "100%|███████████████████████████████████████████| 40/40 [00:07<00:00,  5.65it/s]\n",
      "100%|███████████████████████████████████████████| 18/18 [00:03<00:00,  5.94it/s]\n"
     ]
    },
    {
     "name": "stdout",
     "output_type": "stream",
     "text": [
      "Epoch : 416 - Train_loss : 0.5308 - Train_Acc: 0.7339 - Val_loss : 0.0026 - Val_Acc: 0.6740  - Time: 10.118821382522583\n",
      "\n"
     ]
    },
    {
     "name": "stderr",
     "output_type": "stream",
     "text": [
      "100%|███████████████████████████████████████████| 40/40 [00:06<00:00,  5.82it/s]\n",
      "100%|███████████████████████████████████████████| 18/18 [00:03<00:00,  5.66it/s]\n"
     ]
    },
    {
     "name": "stdout",
     "output_type": "stream",
     "text": [
      "Epoch : 417 - Train_loss : 0.5252 - Train_Acc: 0.7206 - Val_loss : 0.0026 - Val_Acc: 0.6795  - Time: 10.05263638496399\n",
      "\n"
     ]
    },
    {
     "name": "stderr",
     "output_type": "stream",
     "text": [
      "100%|███████████████████████████████████████████| 40/40 [00:07<00:00,  5.70it/s]\n",
      "100%|███████████████████████████████████████████| 18/18 [00:03<00:00,  5.16it/s]\n"
     ]
    },
    {
     "name": "stdout",
     "output_type": "stream",
     "text": [
      "Epoch : 418 - Train_loss : 0.5273 - Train_Acc: 0.7323 - Val_loss : 0.0026 - Val_Acc: 0.6758  - Time: 10.50368618965149\n",
      "\n"
     ]
    },
    {
     "name": "stderr",
     "output_type": "stream",
     "text": [
      "100%|███████████████████████████████████████████| 40/40 [00:06<00:00,  6.53it/s]\n",
      "100%|███████████████████████████████████████████| 18/18 [00:03<00:00,  4.95it/s]\n"
     ]
    },
    {
     "name": "stdout",
     "output_type": "stream",
     "text": [
      "Epoch : 419 - Train_loss : 0.5219 - Train_Acc: 0.7221 - Val_loss : 0.0026 - Val_Acc: 0.6758  - Time: 9.761687994003296\n",
      "\n"
     ]
    },
    {
     "name": "stderr",
     "output_type": "stream",
     "text": [
      "100%|███████████████████████████████████████████| 40/40 [00:06<00:00,  6.40it/s]\n",
      "100%|███████████████████████████████████████████| 18/18 [00:03<00:00,  5.12it/s]\n"
     ]
    },
    {
     "name": "stdout",
     "output_type": "stream",
     "text": [
      "Epoch : 420 - Train_loss : 0.5321 - Train_Acc: 0.7190 - Val_loss : 0.0026 - Val_Acc: 0.6777  - Time: 9.77307415008545\n",
      "\n"
     ]
    },
    {
     "name": "stderr",
     "output_type": "stream",
     "text": [
      "100%|███████████████████████████████████████████| 40/40 [00:06<00:00,  5.95it/s]\n",
      "100%|███████████████████████████████████████████| 18/18 [00:03<00:00,  5.62it/s]\n"
     ]
    },
    {
     "name": "stdout",
     "output_type": "stream",
     "text": [
      "Epoch : 421 - Train_loss : 0.5276 - Train_Acc: 0.7253 - Val_loss : 0.0026 - Val_Acc: 0.6740  - Time: 9.932129144668579\n",
      "\n"
     ]
    },
    {
     "name": "stderr",
     "output_type": "stream",
     "text": [
      "100%|███████████████████████████████████████████| 40/40 [00:06<00:00,  6.21it/s]\n",
      "100%|███████████████████████████████████████████| 18/18 [00:03<00:00,  5.50it/s]\n"
     ]
    },
    {
     "name": "stdout",
     "output_type": "stream",
     "text": [
      "Epoch : 422 - Train_loss : 0.5251 - Train_Acc: 0.7276 - Val_loss : 0.0026 - Val_Acc: 0.6795  - Time: 9.716718435287476\n",
      "\n"
     ]
    },
    {
     "name": "stderr",
     "output_type": "stream",
     "text": [
      "100%|███████████████████████████████████████████| 40/40 [00:06<00:00,  6.05it/s]\n",
      "100%|███████████████████████████████████████████| 18/18 [00:03<00:00,  5.36it/s]\n"
     ]
    },
    {
     "name": "stdout",
     "output_type": "stream",
     "text": [
      "Epoch : 423 - Train_loss : 0.5293 - Train_Acc: 0.7182 - Val_loss : 0.0026 - Val_Acc: 0.6758  - Time: 9.977697134017944\n",
      "\n"
     ]
    },
    {
     "name": "stderr",
     "output_type": "stream",
     "text": [
      "100%|███████████████████████████████████████████| 40/40 [00:06<00:00,  5.78it/s]\n",
      "100%|███████████████████████████████████████████| 18/18 [00:03<00:00,  5.34it/s]\n"
     ]
    },
    {
     "name": "stdout",
     "output_type": "stream",
     "text": [
      "Epoch : 424 - Train_loss : 0.5241 - Train_Acc: 0.7182 - Val_loss : 0.0026 - Val_Acc: 0.6758  - Time: 10.302518606185913\n",
      "\n"
     ]
    },
    {
     "name": "stderr",
     "output_type": "stream",
     "text": [
      "100%|███████████████████████████████████████████| 40/40 [00:06<00:00,  5.78it/s]\n",
      "100%|███████████████████████████████████████████| 18/18 [00:03<00:00,  5.87it/s]\n"
     ]
    },
    {
     "name": "stdout",
     "output_type": "stream",
     "text": [
      "Epoch : 425 - Train_loss : 0.5273 - Train_Acc: 0.7221 - Val_loss : 0.0026 - Val_Acc: 0.6740  - Time: 9.993591547012329\n",
      "\n"
     ]
    },
    {
     "name": "stderr",
     "output_type": "stream",
     "text": [
      "100%|███████████████████████████████████████████| 40/40 [00:07<00:00,  5.59it/s]\n",
      "100%|███████████████████████████████████████████| 18/18 [00:03<00:00,  5.58it/s]\n"
     ]
    },
    {
     "name": "stdout",
     "output_type": "stream",
     "text": [
      "Epoch : 426 - Train_loss : 0.5270 - Train_Acc: 0.7237 - Val_loss : 0.0026 - Val_Acc: 0.6813  - Time: 10.389361381530762\n",
      "\n"
     ]
    },
    {
     "name": "stderr",
     "output_type": "stream",
     "text": [
      "100%|███████████████████████████████████████████| 40/40 [00:06<00:00,  6.03it/s]\n",
      "100%|███████████████████████████████████████████| 18/18 [00:03<00:00,  5.07it/s]\n"
     ]
    },
    {
     "name": "stdout",
     "output_type": "stream",
     "text": [
      "Epoch : 427 - Train_loss : 0.5256 - Train_Acc: 0.7331 - Val_loss : 0.0026 - Val_Acc: 0.6813  - Time: 10.196227073669434\n",
      "\n"
     ]
    },
    {
     "name": "stderr",
     "output_type": "stream",
     "text": [
      "100%|███████████████████████████████████████████| 40/40 [00:06<00:00,  6.62it/s]\n",
      "100%|███████████████████████████████████████████| 18/18 [00:03<00:00,  4.94it/s]\n"
     ]
    },
    {
     "name": "stdout",
     "output_type": "stream",
     "text": [
      "Epoch : 428 - Train_loss : 0.5242 - Train_Acc: 0.7347 - Val_loss : 0.0026 - Val_Acc: 0.6777  - Time: 9.6884286403656\n",
      "\n"
     ]
    },
    {
     "name": "stderr",
     "output_type": "stream",
     "text": [
      "100%|███████████████████████████████████████████| 40/40 [00:06<00:00,  6.50it/s]\n",
      "100%|███████████████████████████████████████████| 18/18 [00:03<00:00,  5.46it/s]\n"
     ]
    },
    {
     "name": "stdout",
     "output_type": "stream",
     "text": [
      "Epoch : 429 - Train_loss : 0.5321 - Train_Acc: 0.7174 - Val_loss : 0.0026 - Val_Acc: 0.6758  - Time: 9.454125165939331\n",
      "\n"
     ]
    },
    {
     "name": "stderr",
     "output_type": "stream",
     "text": [
      "100%|███████████████████████████████████████████| 40/40 [00:06<00:00,  6.15it/s]\n",
      "100%|███████████████████████████████████████████| 18/18 [00:03<00:00,  5.41it/s]\n"
     ]
    },
    {
     "name": "stdout",
     "output_type": "stream",
     "text": [
      "Epoch : 430 - Train_loss : 0.5214 - Train_Acc: 0.7245 - Val_loss : 0.0026 - Val_Acc: 0.6777  - Time: 9.831852436065674\n",
      "\n"
     ]
    },
    {
     "name": "stderr",
     "output_type": "stream",
     "text": [
      "100%|███████████████████████████████████████████| 40/40 [00:06<00:00,  6.03it/s]\n",
      "100%|███████████████████████████████████████████| 18/18 [00:03<00:00,  5.54it/s]\n"
     ]
    },
    {
     "name": "stdout",
     "output_type": "stream",
     "text": [
      "Epoch : 431 - Train_loss : 0.5237 - Train_Acc: 0.7331 - Val_loss : 0.0026 - Val_Acc: 0.6795  - Time: 9.890700340270996\n",
      "\n"
     ]
    },
    {
     "name": "stderr",
     "output_type": "stream",
     "text": [
      "100%|███████████████████████████████████████████| 40/40 [00:06<00:00,  6.12it/s]\n",
      "100%|███████████████████████████████████████████| 18/18 [00:02<00:00,  6.33it/s]\n"
     ]
    },
    {
     "name": "stdout",
     "output_type": "stream",
     "text": [
      "Epoch : 432 - Train_loss : 0.5264 - Train_Acc: 0.7292 - Val_loss : 0.0026 - Val_Acc: 0.6758  - Time: 9.38560676574707\n",
      "\n"
     ]
    },
    {
     "name": "stderr",
     "output_type": "stream",
     "text": [
      "100%|███████████████████████████████████████████| 40/40 [00:06<00:00,  5.95it/s]\n",
      "100%|███████████████████████████████████████████| 18/18 [00:03<00:00,  5.26it/s]\n"
     ]
    },
    {
     "name": "stdout",
     "output_type": "stream",
     "text": [
      "Epoch : 433 - Train_loss : 0.5307 - Train_Acc: 0.7245 - Val_loss : 0.0026 - Val_Acc: 0.6722  - Time: 10.15201997756958\n",
      "\n"
     ]
    },
    {
     "name": "stderr",
     "output_type": "stream",
     "text": [
      "100%|███████████████████████████████████████████| 40/40 [00:06<00:00,  6.05it/s]\n",
      "100%|███████████████████████████████████████████| 18/18 [00:03<00:00,  4.75it/s]\n"
     ]
    },
    {
     "name": "stdout",
     "output_type": "stream",
     "text": [
      "Epoch : 434 - Train_loss : 0.5288 - Train_Acc: 0.7151 - Val_loss : 0.0026 - Val_Acc: 0.6813  - Time: 10.40648365020752\n",
      "\n"
     ]
    },
    {
     "name": "stderr",
     "output_type": "stream",
     "text": [
      "100%|███████████████████████████████████████████| 40/40 [00:06<00:00,  6.11it/s]\n",
      "100%|███████████████████████████████████████████| 18/18 [00:03<00:00,  4.73it/s]\n"
     ]
    },
    {
     "name": "stdout",
     "output_type": "stream",
     "text": [
      "Epoch : 435 - Train_loss : 0.5213 - Train_Acc: 0.7316 - Val_loss : 0.0026 - Val_Acc: 0.6758  - Time: 10.363347053527832\n",
      "\n"
     ]
    },
    {
     "name": "stderr",
     "output_type": "stream",
     "text": [
      "100%|███████████████████████████████████████████| 40/40 [00:06<00:00,  6.33it/s]\n",
      "100%|███████████████████████████████████████████| 18/18 [00:03<00:00,  5.04it/s]\n"
     ]
    },
    {
     "name": "stdout",
     "output_type": "stream",
     "text": [
      "Epoch : 436 - Train_loss : 0.5261 - Train_Acc: 0.7284 - Val_loss : 0.0026 - Val_Acc: 0.6740  - Time: 9.902594089508057\n",
      "\n"
     ]
    },
    {
     "name": "stderr",
     "output_type": "stream",
     "text": [
      "100%|███████████████████████████████████████████| 40/40 [00:06<00:00,  6.29it/s]\n",
      "100%|███████████████████████████████████████████| 18/18 [00:03<00:00,  5.44it/s]\n"
     ]
    },
    {
     "name": "stdout",
     "output_type": "stream",
     "text": [
      "Epoch : 437 - Train_loss : 0.5191 - Train_Acc: 0.7370 - Val_loss : 0.0026 - Val_Acc: 0.6777  - Time: 9.676623344421387\n",
      "\n"
     ]
    },
    {
     "name": "stderr",
     "output_type": "stream",
     "text": [
      "100%|███████████████████████████████████████████| 40/40 [00:06<00:00,  6.04it/s]\n",
      "100%|███████████████████████████████████████████| 18/18 [00:03<00:00,  5.46it/s]\n"
     ]
    },
    {
     "name": "stdout",
     "output_type": "stream",
     "text": [
      "Epoch : 438 - Train_loss : 0.5255 - Train_Acc: 0.7300 - Val_loss : 0.0026 - Val_Acc: 0.6703  - Time: 9.930882453918457\n",
      "\n"
     ]
    },
    {
     "name": "stderr",
     "output_type": "stream",
     "text": [
      "100%|███████████████████████████████████████████| 40/40 [00:06<00:00,  6.31it/s]\n",
      "100%|███████████████████████████████████████████| 18/18 [00:03<00:00,  5.40it/s]\n"
     ]
    },
    {
     "name": "stdout",
     "output_type": "stream",
     "text": [
      "Epoch : 439 - Train_loss : 0.5239 - Train_Acc: 0.7261 - Val_loss : 0.0026 - Val_Acc: 0.6722  - Time: 9.677811622619629\n",
      "\n"
     ]
    },
    {
     "name": "stderr",
     "output_type": "stream",
     "text": [
      "100%|███████████████████████████████████████████| 40/40 [00:06<00:00,  5.86it/s]\n",
      "100%|███████████████████████████████████████████| 18/18 [00:03<00:00,  5.96it/s]\n"
     ]
    },
    {
     "name": "stdout",
     "output_type": "stream",
     "text": [
      "Epoch : 440 - Train_loss : 0.5289 - Train_Acc: 0.7206 - Val_loss : 0.0026 - Val_Acc: 0.6777  - Time: 9.848638772964478\n",
      "\n"
     ]
    },
    {
     "name": "stderr",
     "output_type": "stream",
     "text": [
      "100%|███████████████████████████████████████████| 40/40 [00:06<00:00,  5.87it/s]\n",
      "100%|███████████████████████████████████████████| 18/18 [00:03<00:00,  5.64it/s]\n"
     ]
    },
    {
     "name": "stdout",
     "output_type": "stream",
     "text": [
      "Epoch : 441 - Train_loss : 0.5311 - Train_Acc: 0.7088 - Val_loss : 0.0026 - Val_Acc: 0.6722  - Time: 10.012920141220093\n",
      "\n"
     ]
    },
    {
     "name": "stderr",
     "output_type": "stream",
     "text": [
      "100%|███████████████████████████████████████████| 40/40 [00:07<00:00,  5.51it/s]\n",
      "100%|███████████████████████████████████████████| 18/18 [00:03<00:00,  5.34it/s]\n"
     ]
    },
    {
     "name": "stdout",
     "output_type": "stream",
     "text": [
      "Epoch : 442 - Train_loss : 0.5259 - Train_Acc: 0.7363 - Val_loss : 0.0026 - Val_Acc: 0.6722  - Time: 10.63368821144104\n",
      "\n"
     ]
    },
    {
     "name": "stderr",
     "output_type": "stream",
     "text": [
      "100%|███████████████████████████████████████████| 40/40 [00:06<00:00,  6.28it/s]\n",
      "100%|███████████████████████████████████████████| 18/18 [00:03<00:00,  5.01it/s]\n"
     ]
    },
    {
     "name": "stdout",
     "output_type": "stream",
     "text": [
      "Epoch : 443 - Train_loss : 0.5285 - Train_Acc: 0.7229 - Val_loss : 0.0026 - Val_Acc: 0.6795  - Time: 9.970069408416748\n",
      "\n"
     ]
    },
    {
     "name": "stderr",
     "output_type": "stream",
     "text": [
      "100%|███████████████████████████████████████████| 40/40 [00:06<00:00,  6.59it/s]\n",
      "100%|███████████████████████████████████████████| 18/18 [00:03<00:00,  5.14it/s]\n"
     ]
    },
    {
     "name": "stdout",
     "output_type": "stream",
     "text": [
      "Epoch : 444 - Train_loss : 0.5255 - Train_Acc: 0.7245 - Val_loss : 0.0026 - Val_Acc: 0.6722  - Time: 9.582546472549438\n",
      "\n"
     ]
    },
    {
     "name": "stderr",
     "output_type": "stream",
     "text": [
      "100%|███████████████████████████████████████████| 40/40 [00:06<00:00,  6.10it/s]\n",
      "100%|███████████████████████████████████████████| 18/18 [00:03<00:00,  5.82it/s]\n"
     ]
    },
    {
     "name": "stdout",
     "output_type": "stream",
     "text": [
      "Epoch : 445 - Train_loss : 0.5253 - Train_Acc: 0.7166 - Val_loss : 0.0026 - Val_Acc: 0.6777  - Time: 9.662046432495117\n",
      "\n"
     ]
    },
    {
     "name": "stderr",
     "output_type": "stream",
     "text": [
      "100%|███████████████████████████████████████████| 40/40 [00:06<00:00,  6.29it/s]\n",
      "100%|███████████████████████████████████████████| 18/18 [00:03<00:00,  5.56it/s]\n"
     ]
    },
    {
     "name": "stdout",
     "output_type": "stream",
     "text": [
      "Epoch : 446 - Train_loss : 0.5262 - Train_Acc: 0.7159 - Val_loss : 0.0026 - Val_Acc: 0.6685  - Time: 9.606514930725098\n",
      "\n"
     ]
    },
    {
     "name": "stderr",
     "output_type": "stream",
     "text": [
      "100%|███████████████████████████████████████████| 40/40 [00:06<00:00,  5.82it/s]\n",
      "100%|███████████████████████████████████████████| 18/18 [00:03<00:00,  5.42it/s]\n"
     ]
    },
    {
     "name": "stdout",
     "output_type": "stream",
     "text": [
      "Epoch : 447 - Train_loss : 0.5262 - Train_Acc: 0.7323 - Val_loss : 0.0026 - Val_Acc: 0.6758  - Time: 10.20702052116394\n",
      "\n"
     ]
    },
    {
     "name": "stderr",
     "output_type": "stream",
     "text": [
      "100%|███████████████████████████████████████████| 40/40 [00:06<00:00,  5.86it/s]\n",
      "100%|███████████████████████████████████████████| 18/18 [00:03<00:00,  5.88it/s]\n"
     ]
    },
    {
     "name": "stdout",
     "output_type": "stream",
     "text": [
      "Epoch : 448 - Train_loss : 0.5247 - Train_Acc: 0.7292 - Val_loss : 0.0026 - Val_Acc: 0.6795  - Time: 9.89366340637207\n",
      "\n"
     ]
    },
    {
     "name": "stderr",
     "output_type": "stream",
     "text": [
      "100%|███████████████████████████████████████████| 40/40 [00:06<00:00,  6.02it/s]\n",
      "100%|███████████████████████████████████████████| 18/18 [00:03<00:00,  5.54it/s]\n"
     ]
    },
    {
     "name": "stdout",
     "output_type": "stream",
     "text": [
      "Epoch : 449 - Train_loss : 0.5251 - Train_Acc: 0.7276 - Val_loss : 0.0026 - Val_Acc: 0.6813  - Time: 9.900678157806396\n",
      "\n"
     ]
    },
    {
     "name": "stderr",
     "output_type": "stream",
     "text": [
      "100%|███████████████████████████████████████████| 40/40 [00:06<00:00,  5.75it/s]\n",
      "100%|███████████████████████████████████████████| 18/18 [00:03<00:00,  5.24it/s]\n"
     ]
    },
    {
     "name": "stdout",
     "output_type": "stream",
     "text": [
      "Epoch : 450 - Train_loss : 0.5263 - Train_Acc: 0.7206 - Val_loss : 0.0026 - Val_Acc: 0.6813  - Time: 10.403631687164307\n",
      "\n"
     ]
    },
    {
     "name": "stderr",
     "output_type": "stream",
     "text": [
      "100%|███████████████████████████████████████████| 40/40 [00:06<00:00,  6.20it/s]\n",
      "100%|███████████████████████████████████████████| 18/18 [00:03<00:00,  4.64it/s]\n"
     ]
    },
    {
     "name": "stdout",
     "output_type": "stream",
     "text": [
      "Epoch : 451 - Train_loss : 0.5219 - Train_Acc: 0.7308 - Val_loss : 0.0026 - Val_Acc: 0.6813  - Time: 10.336128950119019\n",
      "\n"
     ]
    },
    {
     "name": "stderr",
     "output_type": "stream",
     "text": [
      "100%|███████████████████████████████████████████| 40/40 [00:06<00:00,  6.59it/s]\n",
      "100%|███████████████████████████████████████████| 18/18 [00:03<00:00,  4.93it/s]\n"
     ]
    },
    {
     "name": "stdout",
     "output_type": "stream",
     "text": [
      "Epoch : 452 - Train_loss : 0.5286 - Train_Acc: 0.7253 - Val_loss : 0.0026 - Val_Acc: 0.6795  - Time: 9.731475353240967\n",
      "\n"
     ]
    },
    {
     "name": "stderr",
     "output_type": "stream",
     "text": [
      "100%|███████████████████████████████████████████| 40/40 [00:06<00:00,  6.27it/s]\n",
      "100%|███████████████████████████████████████████| 18/18 [00:03<00:00,  5.76it/s]\n"
     ]
    },
    {
     "name": "stdout",
     "output_type": "stream",
     "text": [
      "Epoch : 453 - Train_loss : 0.5246 - Train_Acc: 0.7206 - Val_loss : 0.0026 - Val_Acc: 0.6777  - Time: 9.514168500900269\n",
      "\n"
     ]
    },
    {
     "name": "stderr",
     "output_type": "stream",
     "text": [
      "100%|███████████████████████████████████████████| 40/40 [00:06<00:00,  6.23it/s]\n",
      "100%|███████████████████████████████████████████| 18/18 [00:03<00:00,  5.61it/s]\n"
     ]
    },
    {
     "name": "stdout",
     "output_type": "stream",
     "text": [
      "Epoch : 454 - Train_loss : 0.5261 - Train_Acc: 0.7237 - Val_loss : 0.0026 - Val_Acc: 0.6758  - Time: 9.636907577514648\n",
      "\n"
     ]
    },
    {
     "name": "stderr",
     "output_type": "stream",
     "text": [
      "100%|███████████████████████████████████████████| 40/40 [00:06<00:00,  6.06it/s]\n",
      "100%|███████████████████████████████████████████| 18/18 [00:03<00:00,  5.61it/s]\n"
     ]
    },
    {
     "name": "stdout",
     "output_type": "stream",
     "text": [
      "Epoch : 455 - Train_loss : 0.5222 - Train_Acc: 0.7316 - Val_loss : 0.0026 - Val_Acc: 0.6758  - Time: 9.82160496711731\n",
      "\n"
     ]
    },
    {
     "name": "stderr",
     "output_type": "stream",
     "text": [
      "100%|███████████████████████████████████████████| 40/40 [00:06<00:00,  5.88it/s]\n",
      "100%|███████████████████████████████████████████| 18/18 [00:02<00:00,  6.14it/s]\n"
     ]
    },
    {
     "name": "stdout",
     "output_type": "stream",
     "text": [
      "Epoch : 456 - Train_loss : 0.5267 - Train_Acc: 0.7214 - Val_loss : 0.0026 - Val_Acc: 0.6813  - Time: 9.738880634307861\n",
      "\n"
     ]
    },
    {
     "name": "stderr",
     "output_type": "stream",
     "text": [
      "100%|███████████████████████████████████████████| 40/40 [00:06<00:00,  6.00it/s]\n",
      "100%|███████████████████████████████████████████| 18/18 [00:03<00:00,  5.20it/s]\n"
     ]
    },
    {
     "name": "stdout",
     "output_type": "stream",
     "text": [
      "Epoch : 457 - Train_loss : 0.5268 - Train_Acc: 0.7268 - Val_loss : 0.0026 - Val_Acc: 0.6795  - Time: 10.129848003387451\n",
      "\n"
     ]
    },
    {
     "name": "stderr",
     "output_type": "stream",
     "text": [
      "100%|███████████████████████████████████████████| 40/40 [00:06<00:00,  6.07it/s]\n",
      "100%|███████████████████████████████████████████| 18/18 [00:03<00:00,  4.99it/s]\n"
     ]
    },
    {
     "name": "stdout",
     "output_type": "stream",
     "text": [
      "Epoch : 458 - Train_loss : 0.5250 - Train_Acc: 0.7402 - Val_loss : 0.0026 - Val_Acc: 0.6758  - Time: 10.196422576904297\n",
      "\n"
     ]
    },
    {
     "name": "stderr",
     "output_type": "stream",
     "text": [
      "100%|███████████████████████████████████████████| 40/40 [00:06<00:00,  6.52it/s]\n",
      "100%|███████████████████████████████████████████| 18/18 [00:03<00:00,  4.71it/s]\n"
     ]
    },
    {
     "name": "stdout",
     "output_type": "stream",
     "text": [
      "Epoch : 459 - Train_loss : 0.5286 - Train_Acc: 0.7284 - Val_loss : 0.0026 - Val_Acc: 0.6722  - Time: 9.960563898086548\n",
      "\n"
     ]
    },
    {
     "name": "stderr",
     "output_type": "stream",
     "text": [
      "100%|███████████████████████████████████████████| 40/40 [00:06<00:00,  6.33it/s]\n",
      "100%|███████████████████████████████████████████| 18/18 [00:03<00:00,  5.30it/s]\n"
     ]
    },
    {
     "name": "stdout",
     "output_type": "stream",
     "text": [
      "Epoch : 460 - Train_loss : 0.5272 - Train_Acc: 0.7214 - Val_loss : 0.0026 - Val_Acc: 0.6813  - Time: 9.724056482315063\n",
      "\n"
     ]
    },
    {
     "name": "stderr",
     "output_type": "stream",
     "text": [
      "100%|███████████████████████████████████████████| 40/40 [00:06<00:00,  6.39it/s]\n",
      "100%|███████████████████████████████████████████| 18/18 [00:03<00:00,  5.58it/s]\n"
     ]
    },
    {
     "name": "stdout",
     "output_type": "stream",
     "text": [
      "Epoch : 461 - Train_loss : 0.5250 - Train_Acc: 0.7245 - Val_loss : 0.0026 - Val_Acc: 0.6777  - Time: 9.485004425048828\n",
      "\n"
     ]
    },
    {
     "name": "stderr",
     "output_type": "stream",
     "text": [
      "100%|███████████████████████████████████████████| 40/40 [00:06<00:00,  6.05it/s]\n",
      "100%|███████████████████████████████████████████| 18/18 [00:03<00:00,  5.54it/s]\n"
     ]
    },
    {
     "name": "stdout",
     "output_type": "stream",
     "text": [
      "Epoch : 462 - Train_loss : 0.5229 - Train_Acc: 0.7433 - Val_loss : 0.0026 - Val_Acc: 0.6777  - Time: 9.867172002792358\n",
      "\n"
     ]
    },
    {
     "name": "stderr",
     "output_type": "stream",
     "text": [
      "100%|███████████████████████████████████████████| 40/40 [00:06<00:00,  5.88it/s]\n",
      "100%|███████████████████████████████████████████| 18/18 [00:03<00:00,  5.96it/s]\n"
     ]
    },
    {
     "name": "stdout",
     "output_type": "stream",
     "text": [
      "Epoch : 463 - Train_loss : 0.5309 - Train_Acc: 0.7190 - Val_loss : 0.0026 - Val_Acc: 0.6777  - Time: 9.824134111404419\n",
      "\n"
     ]
    },
    {
     "name": "stderr",
     "output_type": "stream",
     "text": [
      "100%|███████████████████████████████████████████| 40/40 [00:06<00:00,  5.79it/s]\n",
      "100%|███████████████████████████████████████████| 18/18 [00:03<00:00,  5.78it/s]\n"
     ]
    },
    {
     "name": "stdout",
     "output_type": "stream",
     "text": [
      "Epoch : 464 - Train_loss : 0.5194 - Train_Acc: 0.7300 - Val_loss : 0.0026 - Val_Acc: 0.6740  - Time: 10.035529613494873\n",
      "\n"
     ]
    },
    {
     "name": "stderr",
     "output_type": "stream",
     "text": [
      "100%|███████████████████████████████████████████| 40/40 [00:06<00:00,  5.97it/s]\n",
      "100%|███████████████████████████████████████████| 18/18 [00:03<00:00,  5.00it/s]\n"
     ]
    },
    {
     "name": "stdout",
     "output_type": "stream",
     "text": [
      "Epoch : 465 - Train_loss : 0.5229 - Train_Acc: 0.7261 - Val_loss : 0.0026 - Val_Acc: 0.6758  - Time: 10.298955202102661\n",
      "\n"
     ]
    },
    {
     "name": "stderr",
     "output_type": "stream",
     "text": [
      "100%|███████████████████████████████████████████| 40/40 [00:06<00:00,  6.09it/s]\n",
      "100%|███████████████████████████████████████████| 18/18 [00:03<00:00,  4.90it/s]\n"
     ]
    },
    {
     "name": "stdout",
     "output_type": "stream",
     "text": [
      "Epoch : 466 - Train_loss : 0.5249 - Train_Acc: 0.7198 - Val_loss : 0.0026 - Val_Acc: 0.6795  - Time: 10.246999502182007\n",
      "\n"
     ]
    },
    {
     "name": "stderr",
     "output_type": "stream",
     "text": [
      "100%|███████████████████████████████████████████| 40/40 [00:06<00:00,  6.61it/s]\n",
      "100%|███████████████████████████████████████████| 18/18 [00:03<00:00,  4.90it/s]\n"
     ]
    },
    {
     "name": "stdout",
     "output_type": "stream",
     "text": [
      "Epoch : 467 - Train_loss : 0.5219 - Train_Acc: 0.7331 - Val_loss : 0.0026 - Val_Acc: 0.6758  - Time: 9.730859279632568\n",
      "\n"
     ]
    },
    {
     "name": "stderr",
     "output_type": "stream",
     "text": [
      "100%|███████████████████████████████████████████| 40/40 [00:06<00:00,  6.07it/s]\n",
      "100%|███████████████████████████████████████████| 18/18 [00:03<00:00,  4.99it/s]\n"
     ]
    },
    {
     "name": "stdout",
     "output_type": "stream",
     "text": [
      "Epoch : 468 - Train_loss : 0.5343 - Train_Acc: 0.7300 - Val_loss : 0.0026 - Val_Acc: 0.6758  - Time: 10.202439069747925\n",
      "\n"
     ]
    },
    {
     "name": "stderr",
     "output_type": "stream",
     "text": [
      "100%|███████████████████████████████████████████| 40/40 [00:06<00:00,  6.21it/s]\n",
      "100%|███████████████████████████████████████████| 18/18 [00:03<00:00,  5.51it/s]\n"
     ]
    },
    {
     "name": "stdout",
     "output_type": "stream",
     "text": [
      "Epoch : 469 - Train_loss : 0.5253 - Train_Acc: 0.7261 - Val_loss : 0.0026 - Val_Acc: 0.6795  - Time: 9.713129997253418\n",
      "\n"
     ]
    },
    {
     "name": "stderr",
     "output_type": "stream",
     "text": [
      "100%|███████████████████████████████████████████| 40/40 [00:06<00:00,  6.16it/s]\n",
      "100%|███████████████████████████████████████████| 18/18 [00:03<00:00,  5.27it/s]\n"
     ]
    },
    {
     "name": "stdout",
     "output_type": "stream",
     "text": [
      "Epoch : 470 - Train_loss : 0.5292 - Train_Acc: 0.7300 - Val_loss : 0.0026 - Val_Acc: 0.6758  - Time: 9.921382665634155\n",
      "\n"
     ]
    },
    {
     "name": "stderr",
     "output_type": "stream",
     "text": [
      "100%|███████████████████████████████████████████| 40/40 [00:06<00:00,  5.81it/s]\n",
      "100%|███████████████████████████████████████████| 18/18 [00:03<00:00,  5.68it/s]\n"
     ]
    },
    {
     "name": "stdout",
     "output_type": "stream",
     "text": [
      "Epoch : 471 - Train_loss : 0.5294 - Train_Acc: 0.7331 - Val_loss : 0.0026 - Val_Acc: 0.6740  - Time: 10.057703495025635\n",
      "\n"
     ]
    },
    {
     "name": "stderr",
     "output_type": "stream",
     "text": [
      "100%|███████████████████████████████████████████| 40/40 [00:06<00:00,  5.87it/s]\n",
      "100%|███████████████████████████████████████████| 18/18 [00:03<00:00,  5.98it/s]\n"
     ]
    },
    {
     "name": "stdout",
     "output_type": "stream",
     "text": [
      "Epoch : 472 - Train_loss : 0.5234 - Train_Acc: 0.7370 - Val_loss : 0.0026 - Val_Acc: 0.6795  - Time: 9.834419965744019\n",
      "\n"
     ]
    },
    {
     "name": "stderr",
     "output_type": "stream",
     "text": [
      "100%|███████████████████████████████████████████| 40/40 [00:07<00:00,  5.61it/s]\n",
      "100%|███████████████████████████████████████████| 18/18 [00:03<00:00,  5.78it/s]\n"
     ]
    },
    {
     "name": "stdout",
     "output_type": "stream",
     "text": [
      "Epoch : 473 - Train_loss : 0.5275 - Train_Acc: 0.7237 - Val_loss : 0.0026 - Val_Acc: 0.6777  - Time: 10.255441665649414\n",
      "\n"
     ]
    },
    {
     "name": "stderr",
     "output_type": "stream",
     "text": [
      "100%|███████████████████████████████████████████| 40/40 [00:06<00:00,  5.90it/s]\n",
      "100%|███████████████████████████████████████████| 18/18 [00:03<00:00,  5.06it/s]\n"
     ]
    },
    {
     "name": "stdout",
     "output_type": "stream",
     "text": [
      "Epoch : 474 - Train_loss : 0.5255 - Train_Acc: 0.7143 - Val_loss : 0.0026 - Val_Acc: 0.6777  - Time: 10.344563722610474\n",
      "\n"
     ]
    },
    {
     "name": "stderr",
     "output_type": "stream",
     "text": [
      "100%|███████████████████████████████████████████| 40/40 [00:06<00:00,  6.65it/s]\n",
      "100%|███████████████████████████████████████████| 18/18 [00:03<00:00,  4.90it/s]\n"
     ]
    },
    {
     "name": "stdout",
     "output_type": "stream",
     "text": [
      "Epoch : 475 - Train_loss : 0.5282 - Train_Acc: 0.7245 - Val_loss : 0.0026 - Val_Acc: 0.6777  - Time: 9.693183183670044\n",
      "\n"
     ]
    },
    {
     "name": "stderr",
     "output_type": "stream",
     "text": [
      "100%|███████████████████████████████████████████| 40/40 [00:06<00:00,  6.22it/s]\n",
      "100%|███████████████████████████████████████████| 18/18 [00:03<00:00,  5.27it/s]\n"
     ]
    },
    {
     "name": "stdout",
     "output_type": "stream",
     "text": [
      "Epoch : 476 - Train_loss : 0.5266 - Train_Acc: 0.7268 - Val_loss : 0.0026 - Val_Acc: 0.6795  - Time: 9.853310108184814\n",
      "\n"
     ]
    },
    {
     "name": "stderr",
     "output_type": "stream",
     "text": [
      "100%|███████████████████████████████████████████| 40/40 [00:06<00:00,  6.26it/s]\n",
      "100%|███████████████████████████████████████████| 18/18 [00:03<00:00,  5.79it/s]\n"
     ]
    },
    {
     "name": "stdout",
     "output_type": "stream",
     "text": [
      "Epoch : 477 - Train_loss : 0.5255 - Train_Acc: 0.7221 - Val_loss : 0.0026 - Val_Acc: 0.6758  - Time: 9.503153800964355\n",
      "\n"
     ]
    },
    {
     "name": "stderr",
     "output_type": "stream",
     "text": [
      "100%|███████████████████████████████████████████| 40/40 [00:06<00:00,  6.17it/s]\n",
      "100%|███████████████████████████████████████████| 18/18 [00:03<00:00,  5.56it/s]\n"
     ]
    },
    {
     "name": "stdout",
     "output_type": "stream",
     "text": [
      "Epoch : 478 - Train_loss : 0.5318 - Train_Acc: 0.7174 - Val_loss : 0.0026 - Val_Acc: 0.6777  - Time: 9.722937822341919\n",
      "\n"
     ]
    },
    {
     "name": "stderr",
     "output_type": "stream",
     "text": [
      "100%|███████████████████████████████████████████| 40/40 [00:06<00:00,  5.93it/s]\n",
      "100%|███████████████████████████████████████████| 18/18 [00:02<00:00,  6.18it/s]\n"
     ]
    },
    {
     "name": "stdout",
     "output_type": "stream",
     "text": [
      "Epoch : 479 - Train_loss : 0.5273 - Train_Acc: 0.7316 - Val_loss : 0.0026 - Val_Acc: 0.6758  - Time: 9.658223152160645\n",
      "\n"
     ]
    },
    {
     "name": "stderr",
     "output_type": "stream",
     "text": [
      "100%|███████████████████████████████████████████| 40/40 [00:06<00:00,  5.80it/s]\n",
      "100%|███████████████████████████████████████████| 18/18 [00:03<00:00,  5.87it/s]\n"
     ]
    },
    {
     "name": "stdout",
     "output_type": "stream",
     "text": [
      "Epoch : 480 - Train_loss : 0.5299 - Train_Acc: 0.7261 - Val_loss : 0.0026 - Val_Acc: 0.6758  - Time: 9.964855432510376\n",
      "\n"
     ]
    },
    {
     "name": "stderr",
     "output_type": "stream",
     "text": [
      "100%|███████████████████████████████████████████| 40/40 [00:06<00:00,  5.93it/s]\n",
      "100%|███████████████████████████████████████████| 18/18 [00:03<00:00,  5.15it/s]\n"
     ]
    },
    {
     "name": "stdout",
     "output_type": "stream",
     "text": [
      "Epoch : 481 - Train_loss : 0.5221 - Train_Acc: 0.7316 - Val_loss : 0.0026 - Val_Acc: 0.6795  - Time: 10.239647388458252\n",
      "\n"
     ]
    },
    {
     "name": "stderr",
     "output_type": "stream",
     "text": [
      "100%|███████████████████████████████████████████| 40/40 [00:06<00:00,  5.99it/s]\n",
      "100%|███████████████████████████████████████████| 18/18 [00:03<00:00,  5.05it/s]\n"
     ]
    },
    {
     "name": "stdout",
     "output_type": "stream",
     "text": [
      "Epoch : 482 - Train_loss : 0.5230 - Train_Acc: 0.7284 - Val_loss : 0.0026 - Val_Acc: 0.6777  - Time: 10.243505477905273\n",
      "\n"
     ]
    },
    {
     "name": "stderr",
     "output_type": "stream",
     "text": [
      "100%|███████████████████████████████████████████| 40/40 [00:06<00:00,  6.63it/s]\n",
      "100%|███████████████████████████████████████████| 18/18 [00:03<00:00,  4.90it/s]\n"
     ]
    },
    {
     "name": "stdout",
     "output_type": "stream",
     "text": [
      "Epoch : 483 - Train_loss : 0.5198 - Train_Acc: 0.7347 - Val_loss : 0.0026 - Val_Acc: 0.6777  - Time: 9.711563110351562\n",
      "\n"
     ]
    },
    {
     "name": "stderr",
     "output_type": "stream",
     "text": [
      "100%|███████████████████████████████████████████| 40/40 [00:06<00:00,  5.97it/s]\n",
      "100%|███████████████████████████████████████████| 18/18 [00:03<00:00,  5.35it/s]\n"
     ]
    },
    {
     "name": "stdout",
     "output_type": "stream",
     "text": [
      "Epoch : 484 - Train_loss : 0.5293 - Train_Acc: 0.7221 - Val_loss : 0.0026 - Val_Acc: 0.6795  - Time: 10.06759524345398\n",
      "\n"
     ]
    },
    {
     "name": "stderr",
     "output_type": "stream",
     "text": [
      "100%|███████████████████████████████████████████| 40/40 [00:06<00:00,  6.22it/s]\n",
      "100%|███████████████████████████████████████████| 18/18 [00:03<00:00,  5.52it/s]\n"
     ]
    },
    {
     "name": "stdout",
     "output_type": "stream",
     "text": [
      "Epoch : 485 - Train_loss : 0.5280 - Train_Acc: 0.7316 - Val_loss : 0.0026 - Val_Acc: 0.6795  - Time: 9.697177648544312\n",
      "\n"
     ]
    },
    {
     "name": "stderr",
     "output_type": "stream",
     "text": [
      "100%|███████████████████████████████████████████| 40/40 [00:06<00:00,  5.89it/s]\n",
      "100%|███████████████████████████████████████████| 18/18 [00:03<00:00,  5.34it/s]\n"
     ]
    },
    {
     "name": "stdout",
     "output_type": "stream",
     "text": [
      "Epoch : 486 - Train_loss : 0.5212 - Train_Acc: 0.7245 - Val_loss : 0.0026 - Val_Acc: 0.6758  - Time: 10.164385080337524\n",
      "\n"
     ]
    },
    {
     "name": "stderr",
     "output_type": "stream",
     "text": [
      "100%|███████████████████████████████████████████| 40/40 [00:06<00:00,  5.88it/s]\n",
      "100%|███████████████████████████████████████████| 18/18 [00:03<00:00,  5.39it/s]\n"
     ]
    },
    {
     "name": "stdout",
     "output_type": "stream",
     "text": [
      "Epoch : 487 - Train_loss : 0.5278 - Train_Acc: 0.7245 - Val_loss : 0.0026 - Val_Acc: 0.6795  - Time: 10.148739099502563\n",
      "\n"
     ]
    },
    {
     "name": "stderr",
     "output_type": "stream",
     "text": [
      "100%|███████████████████████████████████████████| 40/40 [00:06<00:00,  5.82it/s]\n",
      "100%|███████████████████████████████████████████| 18/18 [00:03<00:00,  5.81it/s]\n"
     ]
    },
    {
     "name": "stdout",
     "output_type": "stream",
     "text": [
      "Epoch : 488 - Train_loss : 0.5278 - Train_Acc: 0.7331 - Val_loss : 0.0026 - Val_Acc: 0.6758  - Time: 9.979246139526367\n",
      "\n"
     ]
    },
    {
     "name": "stderr",
     "output_type": "stream",
     "text": [
      "100%|███████████████████████████████████████████| 40/40 [00:06<00:00,  5.98it/s]\n",
      "100%|███████████████████████████████████████████| 18/18 [00:03<00:00,  5.70it/s]\n"
     ]
    },
    {
     "name": "stdout",
     "output_type": "stream",
     "text": [
      "Epoch : 489 - Train_loss : 0.5229 - Train_Acc: 0.7370 - Val_loss : 0.0026 - Val_Acc: 0.6777  - Time: 9.855040788650513\n",
      "\n"
     ]
    },
    {
     "name": "stderr",
     "output_type": "stream",
     "text": [
      "100%|███████████████████████████████████████████| 40/40 [00:06<00:00,  6.04it/s]\n",
      "100%|███████████████████████████████████████████| 18/18 [00:03<00:00,  5.03it/s]\n"
     ]
    },
    {
     "name": "stdout",
     "output_type": "stream",
     "text": [
      "Epoch : 490 - Train_loss : 0.5264 - Train_Acc: 0.7268 - Val_loss : 0.0026 - Val_Acc: 0.6758  - Time: 10.209826231002808\n",
      "\n"
     ]
    },
    {
     "name": "stderr",
     "output_type": "stream",
     "text": [
      "100%|███████████████████████████████████████████| 40/40 [00:06<00:00,  6.42it/s]\n",
      "100%|███████████████████████████████████████████| 18/18 [00:03<00:00,  4.91it/s]\n"
     ]
    },
    {
     "name": "stdout",
     "output_type": "stream",
     "text": [
      "Epoch : 491 - Train_loss : 0.5280 - Train_Acc: 0.7292 - Val_loss : 0.0026 - Val_Acc: 0.6758  - Time: 9.899528503417969\n",
      "\n"
     ]
    },
    {
     "name": "stderr",
     "output_type": "stream",
     "text": [
      "100%|███████████████████████████████████████████| 40/40 [00:06<00:00,  6.11it/s]\n",
      "100%|███████████████████████████████████████████| 18/18 [00:03<00:00,  4.85it/s]\n"
     ]
    },
    {
     "name": "stdout",
     "output_type": "stream",
     "text": [
      "Epoch : 492 - Train_loss : 0.5260 - Train_Acc: 0.7221 - Val_loss : 0.0026 - Val_Acc: 0.6795  - Time: 10.271848440170288\n",
      "\n"
     ]
    },
    {
     "name": "stderr",
     "output_type": "stream",
     "text": [
      "100%|███████████████████████████████████████████| 40/40 [00:06<00:00,  6.34it/s]\n",
      "100%|███████████████████████████████████████████| 18/18 [00:03<00:00,  5.67it/s]\n"
     ]
    },
    {
     "name": "stdout",
     "output_type": "stream",
     "text": [
      "Epoch : 493 - Train_loss : 0.5250 - Train_Acc: 0.7237 - Val_loss : 0.0026 - Val_Acc: 0.6740  - Time: 9.491231203079224\n",
      "\n"
     ]
    },
    {
     "name": "stderr",
     "output_type": "stream",
     "text": [
      "100%|███████████████████████████████████████████| 40/40 [00:06<00:00,  6.32it/s]\n",
      "100%|███████████████████████████████████████████| 18/18 [00:03<00:00,  5.48it/s]\n"
     ]
    },
    {
     "name": "stdout",
     "output_type": "stream",
     "text": [
      "Epoch : 494 - Train_loss : 0.5238 - Train_Acc: 0.7339 - Val_loss : 0.0026 - Val_Acc: 0.6758  - Time: 9.61309027671814\n",
      "\n"
     ]
    },
    {
     "name": "stderr",
     "output_type": "stream",
     "text": [
      "100%|███████████████████████████████████████████| 40/40 [00:06<00:00,  5.95it/s]\n",
      "100%|███████████████████████████████████████████| 18/18 [00:03<00:00,  5.78it/s]\n"
     ]
    },
    {
     "name": "stdout",
     "output_type": "stream",
     "text": [
      "Epoch : 495 - Train_loss : 0.5215 - Train_Acc: 0.7331 - Val_loss : 0.0026 - Val_Acc: 0.6758  - Time: 9.843883991241455\n",
      "\n"
     ]
    },
    {
     "name": "stderr",
     "output_type": "stream",
     "text": [
      "100%|███████████████████████████████████████████| 40/40 [00:06<00:00,  5.90it/s]\n",
      "100%|███████████████████████████████████████████| 18/18 [00:02<00:00,  6.07it/s]\n"
     ]
    },
    {
     "name": "stdout",
     "output_type": "stream",
     "text": [
      "Epoch : 496 - Train_loss : 0.5237 - Train_Acc: 0.7261 - Val_loss : 0.0026 - Val_Acc: 0.6740  - Time: 9.744292497634888\n",
      "\n"
     ]
    },
    {
     "name": "stderr",
     "output_type": "stream",
     "text": [
      "100%|███████████████████████████████████████████| 40/40 [00:06<00:00,  5.91it/s]\n",
      "100%|███████████████████████████████████████████| 18/18 [00:03<00:00,  5.24it/s]\n"
     ]
    },
    {
     "name": "stdout",
     "output_type": "stream",
     "text": [
      "Epoch : 497 - Train_loss : 0.5230 - Train_Acc: 0.7300 - Val_loss : 0.0026 - Val_Acc: 0.6758  - Time: 10.210569620132446\n",
      "\n"
     ]
    },
    {
     "name": "stderr",
     "output_type": "stream",
     "text": [
      "100%|███████████████████████████████████████████| 40/40 [00:07<00:00,  5.62it/s]\n",
      "100%|███████████████████████████████████████████| 18/18 [00:03<00:00,  4.97it/s]\n"
     ]
    },
    {
     "name": "stdout",
     "output_type": "stream",
     "text": [
      "Epoch : 498 - Train_loss : 0.5246 - Train_Acc: 0.7261 - Val_loss : 0.0026 - Val_Acc: 0.6758  - Time: 10.741470575332642\n",
      "\n"
     ]
    },
    {
     "name": "stderr",
     "output_type": "stream",
     "text": [
      "100%|███████████████████████████████████████████| 40/40 [00:06<00:00,  6.08it/s]\n",
      "100%|███████████████████████████████████████████| 18/18 [00:03<00:00,  4.88it/s]\n"
     ]
    },
    {
     "name": "stdout",
     "output_type": "stream",
     "text": [
      "Epoch : 499 - Train_loss : 0.5222 - Train_Acc: 0.7268 - Val_loss : 0.0026 - Val_Acc: 0.6758  - Time: 10.269046306610107\n",
      "\n"
     ]
    },
    {
     "name": "stderr",
     "output_type": "stream",
     "text": [
      "100%|███████████████████████████████████████████| 40/40 [00:06<00:00,  6.23it/s]\n",
      "100%|███████████████████████████████████████████| 18/18 [00:03<00:00,  4.85it/s]"
     ]
    },
    {
     "name": "stdout",
     "output_type": "stream",
     "text": [
      "Epoch : 500 - Train_loss : 0.5244 - Train_Acc: 0.7292 - Val_loss : 0.0026 - Val_Acc: 0.6758  - Time: 10.133246421813965\n",
      "\n",
      "Finished Training\n"
     ]
    },
    {
     "name": "stderr",
     "output_type": "stream",
     "text": [
      "\n"
     ]
    }
   ],
   "source": [
    "best_acc = 0.0\n",
    "train_accuracy=[]\n",
    "train_loss=[]\n",
    "val_accuracy=[]\n",
    "val_loss=[]\n",
    "for epoch in range(500):  # loop over the dataset multiple times\n",
    "    t0 = time.time()\n",
    "    \n",
    "    running_corrects = 0\n",
    "    running_loss = 0.0\n",
    "\n",
    "    for data in tqdm(trainloader, 0):\n",
    "        inputs, labels = data[0].to(device), data[1].to(device)\n",
    "        #print(labels)\n",
    "        optimizer.zero_grad()\n",
    "        outputs = backbone_new(inputs)\n",
    "        #print(f' out :{outputs.shape} and label :{labels.shape} and img :{inputs.shape}')\n",
    "        s_out= F.softmax(outputs)\n",
    "        _, preds = torch.max(outputs, 1)\n",
    "        with torch.cuda.amp.autocast():\n",
    "            loss = criterion(outputs, labels)\n",
    "        scaler.scale(loss).backward()\n",
    "        scaler.step(optimizer)\n",
    "        scaler.update()\n",
    "        running_loss += loss.item() * inputs.size(0)\n",
    "        running_corrects += torch.sum(preds == labels.data).cpu()    \n",
    "    epoch_loss = running_loss / len(train_dataset)\n",
    "    epoch_acc = running_corrects / len(train_dataset)\n",
    "    train_accuracy.append(epoch_acc)\n",
    "    train_loss.append(epoch_loss)\n",
    "    writer.add_scalar(\"Loss/train\", epoch_loss, epoch+1)\n",
    "    writer.add_scalar(\"Acc/train\", epoch_acc, epoch+1)    \n",
    "    running_test_loss=0\n",
    "    running_test_correct=0\n",
    "\n",
    "\n",
    "    for data in tqdm(testloader):\n",
    "        images, labels = data[0].to(device), data[1].to(device)\n",
    "        with torch.no_grad():\n",
    "            outputs = backbone_new(images)\n",
    "            s_out= F.softmax(outputs)\n",
    "        _, predicted = torch.max(outputs.data, 1)\n",
    "        test_loss= criterion(outputs,labels)\n",
    "        running_test_loss=test_loss.item()*images.size(0)\n",
    "        running_test_correct+= torch.sum(predicted == labels.data).cpu()\n",
    "       \n",
    "    epoch_val_loss = running_test_loss / len(val_dataset)\n",
    "    epoch_val_acc = running_test_correct.double() / len(val_dataset)\n",
    "    val_accuracy.append(epoch_val_acc)\n",
    "    val_loss.append(epoch_val_loss)\n",
    "    writer.add_scalar(\"Loss/Val\", epoch_val_loss, epoch+1)\n",
    "    writer.add_scalar(\"Acc/Val\", epoch_val_acc, epoch+1)\n",
    "    print(f\"Epoch : {epoch+1} - Train_loss : {epoch_loss:.4f} - Train_Acc: {epoch_acc:.4f} - Val_loss : {epoch_val_loss:.4f} - Val_Acc: {epoch_val_acc:.4f}  - Time: {time.time() - t0}\\n\")\n",
    "    if epoch_val_acc > best_acc:\n",
    "        best_acc = epoch_val_acc\n",
    "        best_model_wts = copy.deepcopy(backbone_new.state_dict())\n",
    "        \n",
    "#torch.save(best_model_wts, PATH)\n",
    "print('Finished Training')\n"
   ]
  },
  {
   "cell_type": "code",
   "execution_count": null,
   "id": "6a5649a7",
   "metadata": {},
   "outputs": [],
   "source": [
    "from matplotlib import pyplot as plt\n",
    "import numpy as np\n",
    "epochs_range = range(1000)#the x-axis of both the plots wil have the epoch ranges mentioned during each training specification.\n",
    "\n",
    "# To plot validation accuracy versus each training epoch\n",
    "plt.figure(figsize=(15, 8))\n",
    "plt.subplot(1, 2, 1)\n",
    "plt.plot(epochs_range, train_accuracy, label='Training Accuracy')\n",
    "plt.plot(epochs_range, np.array(val_accuracy), label='Validation Accuracy')\n",
    "plt.ylabel('Accuracy')\n",
    "plt.xlabel('No of Epochs')\n",
    "plt.legend(loc='lower right')\n",
    "plt.title('Training Accuracy')\n",
    "\n",
    "plt.subplot(1, 2, 2)\n",
    "plt.plot(epochs_range, np.array(train_loss), label='Training Loss')\n",
    "plt.plot(epochs_range, np.array(val_loss), label='Validation Loss')\n",
    "plt.ylabel('Loss')\n",
    "plt.xlabel('No of Epochs')\n",
    "plt.legend(loc='lower right')\n",
    "plt.title('Validation Loss')"
   ]
  },
  {
   "cell_type": "code",
   "execution_count": null,
   "id": "0f101a3f",
   "metadata": {},
   "outputs": [],
   "source": [
    "\n"
   ]
  },
  {
   "cell_type": "code",
   "execution_count": null,
   "id": "23a1b73b",
   "metadata": {},
   "outputs": [],
   "source": []
  }
 ],
 "metadata": {
  "kernelspec": {
   "display_name": "Python 3 (ipykernel)",
   "language": "python",
   "name": "python3"
  },
  "language_info": {
   "codemirror_mode": {
    "name": "ipython",
    "version": 3
   },
   "file_extension": ".py",
   "mimetype": "text/x-python",
   "name": "python",
   "nbconvert_exporter": "python",
   "pygments_lexer": "ipython3",
   "version": "3.8.10"
  }
 },
 "nbformat": 4,
 "nbformat_minor": 5
}
